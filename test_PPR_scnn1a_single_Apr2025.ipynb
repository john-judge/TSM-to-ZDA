import pandas as pd
import numpy as np
import seaborn as sns

# filepath: test_PPR_scnn1a_single_Apr2025.ipynb

import matplotlib.pyplot as plt

def test_plot_home_vs_other_barrels():
    # Mock data
    data = {
        'amp': [1.2, -0.5, 2.3, 0.0, 3.1],
        'hw': [0.8, 1.5, -1.2, 2.0, 1.1],
        'latency': [0.5, 0.7, 1.2, -0.3, 0.9],
        'Barrel_Type': ['Home', 'Other', 'Home', 'Other', 'Other']
    }
    ppr_df = pd.DataFrame(data)

    # Filter positive values
    filtered_df = ppr_df[(ppr_df['amp'] > 0) & (ppr_df['hw'] > 0) & (ppr_df['latency'] > 0)]

    # Plot
    melted_df = filtered_df.melt(id_vars=['Barrel_Type'], value_vars=['amp', 'hw', 'latency'], 
                                 var_name='Metric', value_name='Value')
    sns.barplot(data=melted_df, x='Metric', y='Value', hue='Barrel_Type')
    plt.title('Comparison of Metrics: Home vs Other Barrels')
    plt.show()

    # Assertions
    assert not filtered_df.empty, "Filtered DataFrame is empty"
    assert all(filtered_df['amp'] > 0), "Not all amp values are positive"
    assert all(filtered_df['hw'] > 0), "Not all hw values are positive"
    assert all(filtered_df['latency'] > 0), "Not all latency values are positive"