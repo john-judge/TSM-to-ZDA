{
 "cells": [
  {
   "cell_type": "code",
   "execution_count": 2,
   "id": "db496692",
   "metadata": {},
   "outputs": [],
   "source": [
    "import time\n",
    "import os\n",
    "import cv2\n",
    "import matplotlib.pyplot as plt\n",
    "from lib.utilities import *\n",
    "import numpy as np\n",
    "import pandas as pd"
   ]
  },
  {
   "cell_type": "code",
   "execution_count": 4,
   "id": "2fe587ad",
   "metadata": {},
   "outputs": [],
   "source": [
    "data_dir = \"C:/Users/jjudge3/Desktop/Data/mm_full_pipeline_targets/\"\n",
    "\n",
    "plt.rcParams.update({'font.size': 16})\n",
    "#plt.rcParams['figure.figsize'] = [20, 12]"
   ]
  },
  {
   "cell_type": "code",
   "execution_count": 7,
   "id": "2fba6083",
   "metadata": {},
   "outputs": [
    {
     "ename": "NameError",
     "evalue": "name 'stim_site' is not defined",
     "output_type": "error",
     "traceback": [
      "\u001b[1;31m---------------------------------------------------------------------------\u001b[0m",
      "\u001b[1;31mNameError\u001b[0m                                 Traceback (most recent call last)",
      "\u001b[1;32m<ipython-input-7-3e6ac6b1fbb0>\u001b[0m in \u001b[0;36m<module>\u001b[1;34m\u001b[0m\n\u001b[0;32m     21\u001b[0m     \u001b[0mi\u001b[0m \u001b[1;33m+=\u001b[0m \u001b[1;36m1\u001b[0m\u001b[1;33m\u001b[0m\u001b[1;33m\u001b[0m\u001b[0m\n\u001b[0;32m     22\u001b[0m \u001b[1;33m\u001b[0m\u001b[0m\n\u001b[1;32m---> 23\u001b[1;33m \u001b[0mplt\u001b[0m\u001b[1;33m.\u001b[0m\u001b[0mtitle\u001b[0m\u001b[1;33m(\u001b[0m\u001b[1;34m\"Response to Stimulation in \"\u001b[0m \u001b[1;33m+\u001b[0m \u001b[0mstim_site\u001b[0m\u001b[1;33m)\u001b[0m\u001b[1;33m\u001b[0m\u001b[1;33m\u001b[0m\u001b[0m\n\u001b[0m\u001b[0;32m     24\u001b[0m \u001b[0mplt\u001b[0m\u001b[1;33m.\u001b[0m\u001b[0mxlabel\u001b[0m\u001b[1;33m(\u001b[0m\u001b[1;34m\"Layer/Barrel Site\"\u001b[0m\u001b[1;33m)\u001b[0m\u001b[1;33m\u001b[0m\u001b[1;33m\u001b[0m\u001b[0m\n\u001b[0;32m     25\u001b[0m \u001b[0mplt\u001b[0m\u001b[1;33m.\u001b[0m\u001b[0mylabel\u001b[0m\u001b[1;33m(\u001b[0m\u001b[1;34m\"Latency (ms) / SNR\"\u001b[0m\u001b[1;33m)\u001b[0m\u001b[1;33m\u001b[0m\u001b[1;33m\u001b[0m\u001b[0m\n",
      "\u001b[1;31mNameError\u001b[0m: name 'stim_site' is not defined"
     ]
    },
    {
     "data": {
      "image/png": "[encoded data removed]",
      "text/plain": [
       "<Figure size 432x288 with 1 Axes>"
      ]
     },
     "metadata": {
      "needs_background": "light"
     },
     "output_type": "display_data"
    }
   ],
   "source": [
    "# Results 2/8/23 - 6/9/23\n",
    "# in format # no crossing, # crossing, # no signal\n",
    "crossing_data = {\n",
    "    \"L2/3\": [3, 17, 30],\n",
    "    \"L4\": [38, 20, 30],\n",
    "    \"L5\": [8, 13, 1]\n",
    "}\n",
    "\n",
    "labels = [x for x in crossing_data.keys()]\n",
    "\n",
    "# plot this as bars \n",
    "plt.clf()\n",
    "i = 0\n",
    "for layer in crossing_data:\n",
    "    x = np.arange(3)\n",
    "    plt.bar(x + (i-1) * 0.2, \n",
    "            crossing_data[layer],\n",
    "            0.2,\n",
    "            label=layer,\n",
    "            tick_label=['# no crossing', '# crossing', '# no signal'])\n",
    "    i += 1\n",
    "    \n",
    "plt.title(\"\")\n",
    "plt.xlabel(\"Layer/Barrel Site\")\n",
    "plt.ylabel(\"Latency (ms) / SNR\")\n",
    "plt.xticks(rotation='vertical')\n",
    "plt.legend()\n",
    "plt.savefig(data_dir + \"results_count_prelim_6-9-23.png\")\n",
    "plt.show()"
   ]
  },
  {
   "cell_type": "code",
   "execution_count": null,
   "id": "1f6b9f0e",
   "metadata": {},
   "outputs": [],
   "source": []
  }
 ],
 "metadata": {
  "kernelspec": {
   "display_name": "Python 3",
   "language": "python",
   "name": "python3"
  },
  "language_info": {
   "codemirror_mode": {
    "name": "ipython",
    "version": 3
   },
   "file_extension": ".py",
   "mimetype": "text/x-python",
   "name": "python",
   "nbconvert_exporter": "python",
   "pygments_lexer": "ipython3",
   "version": "3.9.4"
  }
 },
 "nbformat": 4,
 "nbformat_minor": 5
}
