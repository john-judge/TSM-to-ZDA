{
 "cells": [
  {
   "cell_type": "code",
   "execution_count": 4,
   "id": "90d85b3a",
   "metadata": {},
   "outputs": [],
   "source": [
    "import time\n",
    "import os\n",
    "import numpy as np\n",
    "from lib.utilities import Dataset\n",
    "from lib.file.zda_writer import ZDA_Writer"
   ]
  },
  {
   "cell_type": "code",
   "execution_count": 5,
   "id": "19f0e4dc",
   "metadata": {},
   "outputs": [],
   "source": [
    "# written for Anna's old-rig issue of missing RLI frames\n",
    "# takes early pre-stim frames and averages them into an RLI frame in .ZDA file\n",
    "data_dir = \"C:/Users/jjudge3/Desktop/Data/Anna's/converted_zda/\"\n",
    "pre_stim_range = [25, 85]  # frames\n",
    "num_fp_pts = 4"
   ]
  },
  {
   "cell_type": "code",
   "execution_count": 6,
   "id": "8bac30ea",
   "metadata": {},
   "outputs": [
    {
     "name": "stdout",
     "output_type": "stream",
     "text": [
      "Working on C:/Users/jjudge3/Desktop/Data/Anna's/converted_zda/01_01_01.zda\n",
      "(10, 60, 80, 80)\n",
      "(6400,)\n",
      "wrote 600 points for 80 x 80 x 10 px\n",
      "... done\n"
     ]
    }
   ],
   "source": [
    "# read in .ZDA file and overwrite only the RLI portion\n",
    "zda_writer = ZDA_Writer()\n",
    "for filename in os.listdir(data_dir):\n",
    "    if filename.endswith(\".zda\"):\n",
    "        filename = data_dir + filename\n",
    "        print(\"Working on\", filename)\n",
    "        ds = Dataset(filename)\n",
    "        \n",
    "        # fetch some necessary metadata\n",
    "        meta = ds.get_meta()\n",
    "        \n",
    "        ds.clip_data(t_range=pre_stim_range,\n",
    "                     x_range=[0, meta['raw_width']],\n",
    "                     y_range=[0, meta['raw_height']])\n",
    "        frames = ds.get_data()\n",
    "        \n",
    "        all_frames = ds.get_unclipped_data()\n",
    "        fp_array = ds.get_fp_data()\n",
    "        print(frames.shape)\n",
    "        \n",
    "        # calculate RLI frames\n",
    "        rli_high = np.average(frames, axis=1)[0, :, :].reshape(-1)  # only from first trial\n",
    "        rli_max = np.max(frames, axis=1)[0, :, :].reshape(-1)  # only from first trial\n",
    "\n",
    "        # normalize to 3278\n",
    "        #minn = np.min(rli_high)\n",
    "        #rli_high = rli_high - minn\n",
    "        #maxx = np.max(rli_high)\n",
    "        #rli_high = rli_high / maxx * (3278 / 3)\n",
    "        \n",
    "        rli_low = np.zeros(rli_high.shape)\n",
    "        rli = {'rli_low': rli_low,\n",
    "               'rli_high': rli_high,\n",
    "               'rli_max': rli_max }\n",
    "        \n",
    "        print(rli_high.shape)\n",
    "        \n",
    "        # overwrite back\n",
    "        zda_writer.overwrite_all_except_meta_header(all_frames, meta, filename, rli, fp_array)\n",
    "        print(\"... done\")\n",
    "        "
   ]
  },
  {
   "cell_type": "code",
   "execution_count": null,
   "id": "f24485d8",
   "metadata": {},
   "outputs": [],
   "source": []
  },
  {
   "cell_type": "code",
   "execution_count": null,
   "id": "e58486f6",
   "metadata": {},
   "outputs": [],
   "source": []
  }
 ],
 "metadata": {
  "kernelspec": {
   "display_name": "Python 3",
   "language": "python",
   "name": "python3"
  },
  "language_info": {
   "codemirror_mode": {
    "name": "ipython",
    "version": 3
   },
   "file_extension": ".py",
   "mimetype": "text/x-python",
   "name": "python",
   "nbconvert_exporter": "python",
   "pygments_lexer": "ipython3",
   "version": "3.9.4"
  }
 },
 "nbformat": 4,
 "nbformat_minor": 5
}
