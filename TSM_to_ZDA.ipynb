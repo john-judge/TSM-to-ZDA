{
 "cells": [
  {
   "cell_type": "code",
   "execution_count": 1,
   "id": "f0208a38",
   "metadata": {},
   "outputs": [],
   "source": [
    "from lib.utilities import *\n",
    "import matplotlib.pyplot as plt\n",
    "\n",
    "%matplotlib widget"
   ]
  },
  {
   "cell_type": "code",
   "execution_count": 2,
   "id": "ddbe59fc",
   "metadata": {},
   "outputs": [],
   "source": [
    "datadir = \".\" # All ZDA files in this directory + subdirectories are loaded\n",
    "selected_filename = \"Untitled004\" # focus for subsequent analysis\n",
    "file_type = '.tsm'\n",
    "horizontal_cropping = [250, 750]  # This is the cropping recommended for 1024-px width\n",
    "binning = 5"
   ]
  },
  {
   "cell_type": "code",
   "execution_count": 3,
   "id": "d4d0dde1",
   "metadata": {},
   "outputs": [
    {
     "name": "stdout",
     "output_type": "stream",
     "text": [
      ".\\tsm_targets/Untitled004.tsm to be treated as TSM file to open\n",
      "Reading file as 200 images of size 1024 x 320\n",
      "TBN file designates origin as NI for this data.\n",
      "Found 4 channels in BNC ratio: 1\n",
      "{'points_per_trace': 200, 'raw_width': 1024, 'raw_height': 320, 'interval_between_samples': 1.0, 'number_of_trials': 1}\n",
      ".\\tsm_targets/Untitled005.tsm to be treated as TSM file to open\n",
      "Reading file as 200 images of size 1024 x 320\n",
      "TBN file designates origin as NI for this data.\n",
      "Found 4 channels in BNC ratio: 1\n",
      "{'points_per_trace': 200, 'raw_width': 1024, 'raw_height': 320, 'interval_between_samples': 1.0, 'number_of_trials': 1}\n"
     ]
    }
   ],
   "source": [
    "# Load data\n",
    "processed = [] # to avoid re-processing later\n",
    "data_loader = DataLoader()\n",
    "if file_type == '.tsm':\n",
    "    data_loader.load_all_tsm(data_dir=datadir + \"/tsm_targets\")"
   ]
  },
  {
   "cell_type": "code",
   "execution_count": 4,
   "id": "675e7ed3",
   "metadata": {},
   "outputs": [
    {
     "name": "stdout",
     "output_type": "stream",
     "text": [
      "{'points_per_trace': 199, 'raw_width': 199, 'raw_height': 100, 'interval_between_samples': 1.0, 'number_of_trials': 1} (1, 199, 319, 500)\n"
     ]
    }
   ],
   "source": [
    "# Select data of interest        \n",
    "selected_data = data_loader.select_data_by_keyword(selected_filename)\n",
    "\n",
    "# Increase binning and cropping until PhotoZ can manage the image size\n",
    "selected_data.clip_data(y_range=horizontal_cropping)\n",
    "selected_data.bin_data(binning=binning)\n",
    "\n",
    "raw_data, meta, rli = selected_data.get_data(), selected_data.get_meta(), selected_data.get_rli()"
   ]
  },
  {
   "cell_type": "code",
   "execution_count": 5,
   "id": "d2e90739",
   "metadata": {},
   "outputs": [],
   "source": [
    "# Fill in missing metadata\n",
    "meta['version'] = 5\n",
    "meta['slice_number'] = 5\n",
    "meta['location_number'] = 5\n",
    "meta['record_number'] = 5\n",
    "meta['camera_program'] = 5\n",
    "\n",
    "meta['interval_between_trials'] = 5\n",
    "meta['acquisition_gain'] = 5\n",
    "meta['time_RecControl'] = 5\n",
    "\n",
    "meta['reset_onset'] = 1\n",
    "meta['reset_duration'] = 5\n",
    "meta['shutter_onset'] = 5\n",
    "meta['shutter_duration'] = 5\n",
    "\n",
    "meta['stimulation1_onset'] = 1\n",
    "meta['stimulation1_duration'] = 5\n",
    "meta['stimulation2_onset'] = 5\n",
    "meta['stimulation2_duration'] = 5\n",
    "\n",
    "meta['acquisition_onset'] = 1\n",
    "meta['interval_between_samples'] = 5\n",
    "\n",
    "meta['raw_width'] = raw_data.shape[2]\n",
    "meta['raw_height'] = raw_data.shape[3]\n",
    "meta['points_per_trace'] = raw_data.shape[1]\n",
    "meta['number_of_trials'] = raw_data.shape[0]\n",
    "\n",
    "rli = {}\n",
    "rli['rli_low'] = [0] * int(meta['raw_width'] * meta['raw_height'])\n",
    "rli['rli_high'] = [0] * int(meta['raw_width'] * meta['raw_height'])\n",
    "rli['rli_max'] = [0] * int(meta['raw_width'] * meta['raw_height'])"
   ]
  },
  {
   "cell_type": "code",
   "execution_count": 7,
   "id": "ac66f8f7",
   "metadata": {},
   "outputs": [
    {
     "name": "stdout",
     "output_type": "stream",
     "text": [
      "[[[[ 287.8   294.08  293.68 ... 1068.92  951.76  865.88]\n",
      "   [ 266.88  272.2   285.16 ... 1106.56 1000.72  888.8 ]\n",
      "   [ 268.56  272.56  314.04 ... 1166.   1067.24  947.76]\n",
      "   ...\n",
      "   [ 266.16  263.44  263.4  ...  794.04  667.88  575.92]\n",
      "   [ 266.52  262.2   262.64 ...  711.32  603.24  511.04]\n",
      "   [ 213.84  212.04  211.52 ...  506.28  426.28  356.76]]\n",
      "\n",
      "  [[ 283.56  287.84  289.24 ... 1064.6   951.88  860.52]\n",
      "   [ 264.64  267.24  282.6  ... 1105.08  993.16  886.2 ]\n",
      "   [ 264.08  271.08  309.48 ... 1156.4  1070.24  952.76]\n",
      "   ...\n",
      "   [ 260.88  258.04  258.48 ...  786.32  664.08  573.76]\n",
      "   [ 263.88  260.76  261.76 ...  709.68  601.96  505.12]\n",
      "   [ 211.28  211.72  212.   ...  502.88  425.24  354.72]]\n",
      "\n",
      "  [[ 285.36  292.2   292.76 ... 1073.44  956.    861.4 ]\n",
      "   [ 268.84  269.52  287.68 ... 1105.8   997.6   887.84]\n",
      "   [ 266.96  273.72  314.8  ... 1164.64 1067.    949.96]\n",
      "   ...\n",
      "   [ 267.08  262.2   264.8  ...  784.68  673.32  576.8 ]\n",
      "   [ 265.72  263.2   263.16 ...  709.4   603.6   505.24]\n",
      "   [ 212.4   211.76  211.96 ...  504.04  421.72  359.  ]]\n",
      "\n",
      "  ...\n",
      "\n",
      "  [[ 282.88  289.04  288.84 ...  989.08  884.56  802.24]\n",
      "   [ 263.84  266.68  281.88 ... 1019.48  921.84  829.52]\n",
      "   [ 264.88  267.36  304.24 ... 1075.    987.28  880.6 ]\n",
      "   ...\n",
      "   [ 261.68  258.84  259.08 ...  734.44  622.88  542.32]\n",
      "   [ 264.04  261.4   259.96 ...  668.44  565.04  481.32]\n",
      "   [ 213.28  211.88  210.76 ...  480.96  402.4   342.48]]\n",
      "\n",
      "  [[ 281.68  286.68  289.4  ...  991.44  881.48  801.64]\n",
      "   [ 266.76  268.16  282.12 ... 1021.56  922.32  829.64]\n",
      "   [ 266.96  270.44  304.28 ... 1069.8   982.48  873.48]\n",
      "   ...\n",
      "   [ 264.48  262.92  263.   ...  739.12  629.04  544.12]\n",
      "   [ 264.76  263.4   266.08 ...  664.6   571.48  484.56]\n",
      "   [ 210.68  211.08  211.04 ...  475.4   403.88  341.08]]\n",
      "\n",
      "  [[ 282.72  288.64  287.88 ...  986.2   880.16  797.64]\n",
      "   [ 264.28  265.    280.44 ... 1014.44  922.72  825.16]\n",
      "   [ 266.4   272.08  309.44 ... 1068.16  986.68  875.88]\n",
      "   ...\n",
      "   [ 262.12  260.08  261.   ...  742.32  627.76  542.44]\n",
      "   [ 263.92  259.8   260.64 ...  663.56  568.32  479.48]\n",
      "   [ 210.32  209.8   210.88 ...  477.04  401.48  340.72]]]]\n"
     ]
    }
   ],
   "source": [
    "# Write data\n",
    "print(raw_data)\n",
    "zda_writer = ZDA_Writer()\n",
    "zda_writer.write_zda_to_file(raw_data, meta, selected_filename + \".zda\", rli)\n"
   ]
  },
  {
   "cell_type": "code",
   "execution_count": null,
   "id": "e9d510cc",
   "metadata": {},
   "outputs": [],
   "source": []
  }
 ],
 "metadata": {
  "kernelspec": {
   "display_name": "Python 3",
   "language": "python",
   "name": "python3"
  },
  "language_info": {
   "codemirror_mode": {
    "name": "ipython",
    "version": 3
   },
   "file_extension": ".py",
   "mimetype": "text/x-python",
   "name": "python",
   "nbconvert_exporter": "python",
   "pygments_lexer": "ipython3",
   "version": "3.9.4"
  }
 },
 "nbformat": 4,
 "nbformat_minor": 5
}
