{
 "cells": [
  {
   "cell_type": "code",
   "execution_count": 3,
   "id": "bc1538f9",
   "metadata": {},
   "outputs": [],
   "source": [
    "from lib.controller import Controller\n",
    "from lib.automation import FileDetector\n",
    "import time\n",
    "import os"
   ]
  },
  {
   "cell_type": "code",
   "execution_count": 4,
   "id": "75846def",
   "metadata": {},
   "outputs": [
    {
     "name": "stdout",
     "output_type": "stream",
     "text": [
      "Data exchange directory: C:/Turbo-SM/SMDATA/John/06-14-22\n"
     ]
    }
   ],
   "source": [
    "# Commonly changed settings\n",
    "\n",
    "new_rig_settings = True\n",
    "datadir = \"./tsm_targets/05-31-22\" # All files in this directory + subdirectories are loaded\n",
    "if new_rig_settings:\n",
    "    datadir = None # auto selects \"C:/Turbo-SM/SMDATA/John/mm-dd-yy\" on new rig\n",
    "n_group_by_trials = 5 # Treats every n selected files as trials to combine into single ZDA file\n",
    "\n",
    "c = Controller(camera_program=4,\n",
    "              new_rig_settings=new_rig_settings,\n",
    "              should_auto_launch=False,  # set to False as a safety to avoid double-launch\n",
    "              datadir=datadir)\n",
    "print(\"Data exchange directory:\", c.get_data_dir())"
   ]
  },
  {
   "cell_type": "code",
   "execution_count": null,
   "id": "605f8383",
   "metadata": {},
   "outputs": [],
   "source": [
    "c.start_up() # launch and orchestrate\n",
    "slice_no = 3\n",
    "location_no = 1\n",
    "recording_no = 1\n",
    "detection_loops = 1"
   ]
  },
  {
   "cell_type": "code",
   "execution_count": null,
   "id": "813c5e70",
   "metadata": {},
   "outputs": [],
   "source": [
    "# auto mode: TSM scheduling\n",
    "c = Controller(camera_program=4,\n",
    "              new_rig_settings=new_rig_settings,\n",
    "              should_auto_launch=False,\n",
    "              datadir=datadir,  \n",
    "              filename_PhotoZ_format=True)  # SS_LL_RR.zda naming\n",
    "c.run_recording_schedule(number_of_recordings=1)  # default: takes 5 trials at 15-s intervals"
   ]
  },
  {
   "cell_type": "code",
   "execution_count": null,
   "id": "c6736e81",
   "metadata": {},
   "outputs": [],
   "source": [
    "new_files = []\n",
    "# archive directory\n",
    "dst_dir = c.get_data_dir() + \"/\" + str(slice_no) + \"_\" + str(location_no)\n",
    "if not os.path.exists(dst_dir):\n",
    "    os.makedirs(dst_dir)\n",
    "    \n",
    "fd = FileDetector(directory=c.get_data_dir())\n",
    "for i in range(detection_loops):\n",
    "    time.sleep(3)\n",
    "    fd.detect_files()\n",
    "    new_files += fd.get_unprocessed_file_list()\n",
    "    if len(new_files) >= n_group_by_trials:\n",
    "        new_files.sort()\n",
    "        print(\"Preparing to process into ZDA file(s)... \")\n",
    "        time.sleep(5)  # wait for TurboSM to safely finish writing to disk\n",
    "        \n",
    "        # process new files\n",
    "        n_process = len(new_files) - (len(new_files) % n_group_by_trials)\n",
    "        c.select_files(selected_filenames=new_files[:n_process],\n",
    "                       slice_no=slice_no,\n",
    "                       location_no=location_no,\n",
    "                       recording_no=recording_no)\n",
    "        c.process_files(n_group_by_trials=n_group_by_trials)\n",
    "        recording_no += int(len(new_files) / n_group_by_trials)\n",
    "        \n",
    "        # auto-archive processed files by moving them to a directory 'slice-loc'\n",
    "        for pro_file in new_files[:n_process]:\n",
    "            stripped_file = pro_file.split(\"/\")[-1]\n",
    "            dst_file = dst_dir + \"/\" + stripped_file\n",
    "            os.rename(pro_file, dst_file)\n",
    "            # tbn file\n",
    "            os.rename(pro_file[:-4] + \".tbn\", dst_file[:-4] + \".tbn\")\n",
    "\n",
    "        \n",
    "        new_files = new_files[n_process:]\n",
    "    print(\"Next recording_no:\", recording_no)\n",
    "    print(new_files)\n"
   ]
  },
  {
   "cell_type": "code",
   "execution_count": null,
   "id": "1e61a215",
   "metadata": {},
   "outputs": [],
   "source": [
    "# manual mode example: processing only\n",
    "\"\"\" c.select_files(slice_no=3, \n",
    "                   location_no=1,\n",
    "                   recording_no=1, \n",
    "                   filename_base=\"3-1-\",\n",
    "                   filename_start_no=1,\n",
    "                   filename_end_no=25)\n",
    "c.process_files(n_group_by_trials=n_group_by_trials) \"\"\""
   ]
  },
  {
   "cell_type": "raw",
   "id": "63459ab7",
   "metadata": {},
   "source": [
    "# "
   ]
  }
 ],
 "metadata": {
  "kernelspec": {
   "display_name": "Python 3",
   "language": "python",
   "name": "python3"
  },
  "language_info": {
   "codemirror_mode": {
    "name": "ipython",
    "version": 3
   },
   "file_extension": ".py",
   "mimetype": "text/x-python",
   "name": "python",
   "nbconvert_exporter": "python",
   "pygments_lexer": "ipython3",
   "version": "3.9.4"
  }
 },
 "nbformat": 4,
 "nbformat_minor": 5
}
