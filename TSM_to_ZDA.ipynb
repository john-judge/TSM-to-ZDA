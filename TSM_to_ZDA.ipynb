{
 "cells": [
  {
   "cell_type": "code",
   "execution_count": 1,
   "id": "2c2770ec",
   "metadata": {},
   "outputs": [],
   "source": [
    "from lib.utilities import *\n",
    "import matplotlib.pyplot as plt\n",
    "\n",
    "%matplotlib widget"
   ]
  },
  {
   "cell_type": "code",
   "execution_count": 2,
   "id": "caec2e92",
   "metadata": {},
   "outputs": [],
   "source": [
    "datadir = \".\" # All ZDA files in this directory + subdirectories are loaded\n",
    "selected_filename = \"06_01_01\" # focus for subsequent analysis\n",
    "file_type = '.tsm'\n",
    "horizontal_cropping = [250, 750]  # This is the cropping recommended for 1024-px width\n",
    "binning = 3"
   ]
  },
  {
   "cell_type": "code",
   "execution_count": 3,
   "id": "6e602c78",
   "metadata": {},
   "outputs": [
    {
     "name": "stdout",
     "output_type": "stream",
     "text": [
      ".\\tsm_targets/Untitled004.tsm to be treated as TSM file to open\n",
      "Reading file as 200 images of size 1024 x 320\n",
      "TBN file designates origin as NI for this data.\n",
      "Found 4 channels in BNC ratio: 1\n",
      "{'points_per_trace': 200, 'raw_width': 1024, 'raw_height': 320, 'interval_between_samples': 1.0, 'number_of_trials': 1}\n",
      ".\\tsm_targets/Untitled005.tsm to be treated as TSM file to open\n",
      "Reading file as 200 images of size 1024 x 320\n",
      "TBN file designates origin as NI for this data.\n",
      "Found 4 channels in BNC ratio: 1\n",
      "{'points_per_trace': 200, 'raw_width': 1024, 'raw_height': 320, 'interval_between_samples': 1.0, 'number_of_trials': 1}\n"
     ]
    }
   ],
   "source": [
    "# Load data\n",
    "processed = [] # to avoid re-processing later\n",
    "data_loader = DataLoader()\n",
    "if file_type == '.tsm':\n",
    "    data_loader.load_all_tsm(data_dir=datadir + \"/tsm_targets\")"
   ]
  },
  {
   "cell_type": "code",
   "execution_count": 4,
   "id": "30d8ecb0",
   "metadata": {},
   "outputs": [
    {
     "ename": "AttributeError",
     "evalue": "'NoneType' object has no attribute 'clip_data'",
     "output_type": "error",
     "traceback": [
      "\u001b[1;31m---------------------------------------------------------------------------\u001b[0m",
      "\u001b[1;31mAttributeError\u001b[0m                            Traceback (most recent call last)",
      "\u001b[1;32m<ipython-input-4-13e727cc692f>\u001b[0m in \u001b[0;36m<module>\u001b[1;34m\u001b[0m\n\u001b[0;32m      3\u001b[0m \u001b[1;33m\u001b[0m\u001b[0m\n\u001b[0;32m      4\u001b[0m \u001b[1;31m# Increase binning and cropping until PhotoZ can manage the image size\u001b[0m\u001b[1;33m\u001b[0m\u001b[1;33m\u001b[0m\u001b[1;33m\u001b[0m\u001b[0m\n\u001b[1;32m----> 5\u001b[1;33m \u001b[0mselected_data\u001b[0m\u001b[1;33m.\u001b[0m\u001b[0mclip_data\u001b[0m\u001b[1;33m(\u001b[0m\u001b[0my_range\u001b[0m\u001b[1;33m=\u001b[0m\u001b[0mhorizontal_cropping\u001b[0m\u001b[1;33m)\u001b[0m\u001b[1;33m\u001b[0m\u001b[1;33m\u001b[0m\u001b[0m\n\u001b[0m\u001b[0;32m      6\u001b[0m \u001b[0mselected_data\u001b[0m\u001b[1;33m.\u001b[0m\u001b[0mbin_data\u001b[0m\u001b[1;33m(\u001b[0m\u001b[0mbinning\u001b[0m\u001b[1;33m=\u001b[0m\u001b[0mbinning\u001b[0m\u001b[1;33m)\u001b[0m\u001b[1;33m\u001b[0m\u001b[1;33m\u001b[0m\u001b[0m\n\u001b[0;32m      7\u001b[0m \u001b[1;33m\u001b[0m\u001b[0m\n",
      "\u001b[1;31mAttributeError\u001b[0m: 'NoneType' object has no attribute 'clip_data'"
     ]
    }
   ],
   "source": [
    "# Select data of interest        \n",
    "selected_data = data_loader.select_data_by_keyword(selected_filename)\n",
    "\n",
    "# Increase binning and cropping until PhotoZ can manage the image size\n",
    "selected_data.clip_data(y_range=horizontal_cropping)\n",
    "selected_data.bin_data(binning=binning)\n",
    "\n",
    "raw_data, meta, rli = selected_data.get_data(), selected_data.get_meta(), selected_data.get_rli()"
   ]
  },
  {
   "cell_type": "code",
   "execution_count": null,
   "id": "90193fe4",
   "metadata": {},
   "outputs": [],
   "source": [
    "# Fill in missing metadata\n",
    "\n"
   ]
  },
  {
   "cell_type": "code",
   "execution_count": null,
   "id": "37b9c262",
   "metadata": {},
   "outputs": [],
   "source": [
    "# Write data\n",
    "\n"
   ]
  }
 ],
 "metadata": {
  "kernelspec": {
   "display_name": "Python 3",
   "language": "python",
   "name": "python3"
  },
  "language_info": {
   "codemirror_mode": {
    "name": "ipython",
    "version": 3
   },
   "file_extension": ".py",
   "mimetype": "text/x-python",
   "name": "python",
   "nbconvert_exporter": "python",
   "pygments_lexer": "ipython3",
   "version": "3.9.4"
  }
 },
 "nbformat": 4,
 "nbformat_minor": 5
}
