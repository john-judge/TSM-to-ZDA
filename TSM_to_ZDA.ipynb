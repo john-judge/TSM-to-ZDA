{
 "cells": [
  {
   "cell_type": "code",
   "execution_count": 1,
   "id": "f0208a38",
   "metadata": {},
   "outputs": [],
   "source": [
    "from lib.controller import Controller\n",
    "from lib.automation import FileDetector\n",
    "import time"
   ]
  },
  {
   "cell_type": "code",
   "execution_count": 2,
   "id": "ddbe59fc",
   "metadata": {},
   "outputs": [],
   "source": [
    "# Commonly changed settings\n",
    "\n",
    "new_rig_settings = False\n",
    "datadir = \"./tsm_targets/05-31-22\" # All files in this directory + subdirectories are loaded\n",
    "if new_rig_settings:\n",
    "    datadir = \"C:/Turbo-SM/SMDATA/John/06-06-22\" # on new rig\n",
    "n_group_by_trials = 5 # Treats every n selected files as trials to combine into single ZDA file\n",
    "\n",
    "fd = FileDetector(directory=datadir)\n",
    "c = Controller(camera_program=4,\n",
    "              new_rig_settings=new_rig_settings,\n",
    "              should_auto_launch=False,\n",
    "              datadir=datadir)"
   ]
  },
  {
   "cell_type": "code",
   "execution_count": 3,
   "id": "622be2fc",
   "metadata": {},
   "outputs": [
    {
     "ename": "NameError",
     "evalue": "name 'time' is not defined",
     "output_type": "error",
     "traceback": [
      "\u001b[1;31m---------------------------------------------------------------------------\u001b[0m",
      "\u001b[1;31mNameError\u001b[0m                                 Traceback (most recent call last)",
      "\u001b[1;32m<ipython-input-3-bce61d24e969>\u001b[0m in \u001b[0;36m<module>\u001b[1;34m\u001b[0m\n\u001b[0;32m      2\u001b[0m \u001b[0mrecording_no\u001b[0m\u001b[1;33m=\u001b[0m\u001b[1;36m1\u001b[0m\u001b[1;33m\u001b[0m\u001b[1;33m\u001b[0m\u001b[0m\n\u001b[0;32m      3\u001b[0m \u001b[1;32mfor\u001b[0m \u001b[0mi\u001b[0m \u001b[1;32min\u001b[0m \u001b[0mrange\u001b[0m\u001b[1;33m(\u001b[0m\u001b[1;36m60\u001b[0m\u001b[1;33m)\u001b[0m\u001b[1;33m:\u001b[0m\u001b[1;33m\u001b[0m\u001b[1;33m\u001b[0m\u001b[0m\n\u001b[1;32m----> 4\u001b[1;33m     \u001b[0mtime\u001b[0m\u001b[1;33m.\u001b[0m\u001b[0msleep\u001b[0m\u001b[1;33m(\u001b[0m\u001b[1;36m1\u001b[0m\u001b[1;33m)\u001b[0m\u001b[1;33m\u001b[0m\u001b[1;33m\u001b[0m\u001b[0m\n\u001b[0m\u001b[0;32m      5\u001b[0m     \u001b[0mnew_files\u001b[0m \u001b[1;33m=\u001b[0m \u001b[0mfd\u001b[0m\u001b[1;33m.\u001b[0m\u001b[0mget_unprocessed_file_list\u001b[0m\u001b[1;33m(\u001b[0m\u001b[1;33m)\u001b[0m\u001b[1;33m\u001b[0m\u001b[1;33m\u001b[0m\u001b[0m\n\u001b[0;32m      6\u001b[0m     \u001b[1;32mif\u001b[0m \u001b[0mlen\u001b[0m\u001b[1;33m(\u001b[0m\u001b[0mnew_files\u001b[0m\u001b[1;33m)\u001b[0m \u001b[1;33m>\u001b[0m \u001b[0mn_group_by_trials\u001b[0m\u001b[1;33m:\u001b[0m\u001b[1;33m\u001b[0m\u001b[1;33m\u001b[0m\u001b[0m\n",
      "\u001b[1;31mNameError\u001b[0m: name 'time' is not defined"
     ]
    }
   ],
   "source": [
    "fd.start_file_detection_loop()\n",
    "recording_no=1\n",
    "for i in range(60):\n",
    "    time.sleep(1)\n",
    "    new_files = fd.get_unprocessed_file_list()\n",
    "    if len(new_files) > n_group_by_trials:\n",
    "        new_files.sort()\n",
    "        n_process = len(new_files) - (len(new_files) % n_group_by_trials)\n",
    "        c.select_files(selected_filenames=new_files[:n_process],\n",
    "                   slice_no=1, \n",
    "                   location_no=1,\n",
    "                   recording_no=recording_no, \n",
    "                   filename_base=\"Untitled\",\n",
    "                   filename_start_no=14,\n",
    "                   filename_end_no=19)\n",
    "        c.process_files(n_group_by_trials=n_group_by_trials)\n",
    "        recording_no += len(new_files)\n",
    "    \n",
    "fd.stop_file_detection_loop()"
   ]
  },
  {
   "cell_type": "markdown",
   "id": "3999ec76",
   "metadata": {},
   "source": [
    "# "
   ]
  }
 ],
 "metadata": {
  "kernelspec": {
   "display_name": "Python 3",
   "language": "python",
   "name": "python3"
  },
  "language_info": {
   "codemirror_mode": {
    "name": "ipython",
    "version": 3
   },
   "file_extension": ".py",
   "mimetype": "text/x-python",
   "name": "python",
   "nbconvert_exporter": "python",
   "pygments_lexer": "ipython3",
   "version": "3.9.4"
  }
 },
 "nbformat": 4,
 "nbformat_minor": 5
}
