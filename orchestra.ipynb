{
 "cells": [
  {
   "cell_type": "code",
   "execution_count": null,
   "id": "c09ee3bd",
   "metadata": {},
   "outputs": [],
   "source": [
    "from lib.auto_GUI.auto_DAT import AutoDAT"
   ]
  },
  {
   "cell_type": "code",
   "execution_count": null,
   "id": "9a09d91a",
   "metadata": {},
   "outputs": [],
   "source": [
    "datadir = './tsm_targets/06-06-22'\n",
    "ad = AutoDAT(datadir, \n",
    "             processing_sleep_time=4,  # sleep time must be ample for PhotoZ's file-open + processing\n",
    "             file_prefix=\"SNR\") \n",
    "\n",
    "ad.save_all_background_data()"
   ]
  },
  {
   "cell_type": "code",
   "execution_count": null,
   "id": "165a4167",
   "metadata": {},
   "outputs": [],
   "source": [
    "\n",
    "#with pyautogui.hold('shift'):  # Press the Shift key down and hold it.\n",
    "#    pyautogui.press(['left', 'left', 'left', 'left'])  # Press the left arrow key 4 times."
   ]
  }
 ],
 "metadata": {
  "kernelspec": {
   "display_name": "Python 3",
   "language": "python",
   "name": "python3"
  },
  "language_info": {
   "codemirror_mode": {
    "name": "ipython",
    "version": 3
   },
   "file_extension": ".py",
   "mimetype": "text/x-python",
   "name": "python",
   "nbconvert_exporter": "python",
   "pygments_lexer": "ipython3",
   "version": "3.9.4"
  }
 },
 "nbformat": 4,
 "nbformat_minor": 5
}
