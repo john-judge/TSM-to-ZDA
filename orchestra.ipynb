{
 "cells": [
  {
   "cell_type": "code",
   "execution_count": 1,
   "id": "c09ee3bd",
   "metadata": {},
   "outputs": [],
   "source": [
    "from lib.auto_GUI.auto_DAT import AutoDAT"
   ]
  },
  {
   "cell_type": "code",
   "execution_count": 2,
   "id": "9a09d91a",
   "metadata": {},
   "outputs": [
    {
     "name": "stdout",
     "output_type": "stream",
     "text": [
      "['01_01_01.zda', '01_01_02.zda', '01_01_03.zda', '01_01_04.zda', '01_01_05.zda', '01_01_06.zda', '02_01_01.zda', '02_01_02.zda', '02_01_03.zda', '02_01_10.zda', '03_01_01.zda', '03_01_02.zda', '03_01_03.zda', '03_01_04.zda', 'SNR01_01_01.dat', 'SNR01_01_02.dat']\n",
      "saving Slice 1 Location 1 Record 1\n",
      "could not save 01_01_01.dat\n",
      "[WinError 183] Cannot create a file when that file already exists: \"C:/Users/jjudge3/Desktop/Data/Kate's/06-06-22//Data.dat\" -> \"C:/Users/jjudge3/Desktop/Data/Kate's/06-06-22//SNR01_01_01.dat\"\n",
      "saving Slice 1 Location 1 Record 2\n",
      "target image not found, trying again 1 more times...\n",
      "target image not found, trying again 1 more times...\n",
      "could not save 01_01_02.dat\n",
      "[WinError 183] Cannot create a file when that file already exists: \"C:/Users/jjudge3/Desktop/Data/Kate's/06-06-22//Data.dat\" -> \"C:/Users/jjudge3/Desktop/Data/Kate's/06-06-22//SNR01_01_02.dat\"\n",
      "saving Slice 1 Location 1 Record 3\n",
      "target image not found, trying again 1 more times...\n",
      "saving Slice 1 Location 1 Record 4\n",
      "target image not found, trying again 1 more times...\n",
      "saving Slice 1 Location 1 Record 5\n",
      "target image not found, trying again 1 more times...\n",
      "saving Slice 1 Location 1 Record 6\n",
      "target image not found, trying again 1 more times...\n",
      "saving Slice 2 Location 1 Record 1\n",
      "target image not found, trying again 1 more times...\n",
      "saving Slice 2 Location 1 Record 2\n",
      "target image not found, trying again 1 more times...\n",
      "saving Slice 2 Location 1 Record 3\n",
      "target image not found, trying again 1 more times...\n",
      "saving Slice 2 Location 1 Record 4\n",
      "saving Slice 2 Location 1 Record 5\n",
      "saving Slice 2 Location 1 Record 6\n",
      "saving Slice 2 Location 1 Record 7\n",
      "target image not found, trying again 1 more times...\n",
      "target image not found, trying again 1 more times...\n",
      "saving Slice 2 Location 1 Record 8\n",
      "saving Slice 2 Location 1 Record 9\n",
      "saving Slice 2 Location 1 Record 10\n",
      "saving Slice 3 Location 1 Record 1\n",
      "target image not found, trying again 1 more times...\n",
      "saving Slice 3 Location 1 Record 2\n",
      "target image not found, trying again 1 more times...\n",
      "saving Slice 3 Location 1 Record 3\n",
      "target image not found, trying again 1 more times...\n",
      "saving Slice 3 Location 1 Record 4\n",
      "target image not found, trying again 1 more times...\n"
     ]
    },
    {
     "ename": "KeyboardInterrupt",
     "evalue": "",
     "output_type": "error",
     "traceback": [
      "\u001b[1;31m---------------------------------------------------------------------------\u001b[0m",
      "\u001b[1;31mKeyboardInterrupt\u001b[0m                         Traceback (most recent call last)",
      "\u001b[1;32m<ipython-input-2-d26b7472bfba>\u001b[0m in \u001b[0;36m<module>\u001b[1;34m\u001b[0m\n\u001b[0;32m      5\u001b[0m              file_prefix=\"SNR\") \n\u001b[0;32m      6\u001b[0m \u001b[1;33m\u001b[0m\u001b[0m\n\u001b[1;32m----> 7\u001b[1;33m \u001b[0mad\u001b[0m\u001b[1;33m.\u001b[0m\u001b[0msave_all_background_data\u001b[0m\u001b[1;33m(\u001b[0m\u001b[1;33m)\u001b[0m\u001b[1;33m\u001b[0m\u001b[1;33m\u001b[0m\u001b[0m\n\u001b[0m",
      "\u001b[1;32m~\\Desktop\\scratch\\TSM-to-ZDA\\lib\\auto_GUI\\auto_DAT.py\u001b[0m in \u001b[0;36msave_all_background_data\u001b[1;34m(self)\u001b[0m\n\u001b[0;32m     31\u001b[0m \u001b[1;33m\u001b[0m\u001b[0m\n\u001b[0;32m     32\u001b[0m             \u001b[1;32mwhile\u001b[0m \u001b[1;32mnot\u001b[0m \u001b[0mself\u001b[0m\u001b[1;33m.\u001b[0m\u001b[0mclick_file_button\u001b[0m\u001b[1;33m(\u001b[0m\u001b[0mlevel_index\u001b[0m\u001b[1;33m=\u001b[0m\u001b[0mbutton_to_increment\u001b[0m\u001b[1;33m)\u001b[0m\u001b[1;33m:\u001b[0m\u001b[1;33m\u001b[0m\u001b[1;33m\u001b[0m\u001b[0m\n\u001b[1;32m---> 33\u001b[1;33m                 \u001b[0mtime\u001b[0m\u001b[1;33m.\u001b[0m\u001b[0msleep\u001b[0m\u001b[1;33m(\u001b[0m\u001b[0mself\u001b[0m\u001b[1;33m.\u001b[0m\u001b[0mprocessing_sleep_time\u001b[0m\u001b[1;33m)\u001b[0m\u001b[1;33m\u001b[0m\u001b[1;33m\u001b[0m\u001b[0m\n\u001b[0m\u001b[0;32m     34\u001b[0m \u001b[1;33m\u001b[0m\u001b[0m\n\u001b[0;32m     35\u001b[0m     \u001b[1;32mdef\u001b[0m \u001b[0mget_initial_keys\u001b[0m\u001b[1;33m(\u001b[0m\u001b[0mself\u001b[0m\u001b[1;33m)\u001b[0m\u001b[1;33m:\u001b[0m\u001b[1;33m\u001b[0m\u001b[1;33m\u001b[0m\u001b[0m\n",
      "\u001b[1;31mKeyboardInterrupt\u001b[0m: "
     ]
    }
   ],
   "source": [
    "datadir = './tsm_targets/06-06-22'\n",
    "datadir = \"C:/Users/jjudge3/Desktop/Data/Kate's/06-06-22/\"\n",
    "ad = AutoDAT(datadir, \n",
    "             processing_sleep_time=4,  # sleep time must be ample for PhotoZ's file-open + processing\n",
    "             file_prefix=\"SNR\") \n",
    "\n",
    "ad.save_all_background_data()"
   ]
  },
  {
   "cell_type": "code",
   "execution_count": null,
   "id": "165a4167",
   "metadata": {},
   "outputs": [],
   "source": [
    "\n",
    "#with pyautogui.hold('shift'):  # Press the Shift key down and hold it.\n",
    "#    pyautogui.press(['left', 'left', 'left', 'left'])  # Press the left arrow key 4 times."
   ]
  }
 ],
 "metadata": {
  "kernelspec": {
   "display_name": "Python 3",
   "language": "python",
   "name": "python3"
  },
  "language_info": {
   "codemirror_mode": {
    "name": "ipython",
    "version": 3
   },
   "file_extension": ".py",
   "mimetype": "text/x-python",
   "name": "python",
   "nbconvert_exporter": "python",
   "pygments_lexer": "ipython3",
   "version": "3.9.4"
  }
 },
 "nbformat": 4,
 "nbformat_minor": 5
}
