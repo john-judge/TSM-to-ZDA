{
 "cells": [
  {
   "cell_type": "code",
   "execution_count": 1,
   "id": "c09ee3bd",
   "metadata": {},
   "outputs": [],
   "source": [
    "from lib.auto_GUI.auto_DAT import AutoDAT"
   ]
  },
  {
   "cell_type": "code",
   "execution_count": 2,
   "id": "76fd22a9",
   "metadata": {},
   "outputs": [
    {
     "name": "stdout",
     "output_type": "stream",
     "text": [
      "['01_01_01.zda', '01_01_02.zda', '01_01_03.zda', '01_01_04.zda', '02_01_01.zda', '02_01_02.zda', '02_01_03.zda', '02_01_04.zda', '03_01_01.zda', '03_01_02.zda', '03_01_03.zda', '03_01_04.zda', '03_01_05.zda', '03_01_06.zda', '04_01_01.zda', '04_01_02.zda', '04_01_03.zda', '04_01_04.zda', '04_01_05.zda', '04_01_06.zda', 'Data.dat', 'SNR01_01_01.dat', 'SNR01_01_02.dat']\n",
      "saving Slice 1 Location 1 Record 1\n",
      "could not save 01_01_01.dat\n",
      "[WinError 183] Cannot create a file when that file already exists: './tsm_targets/06-06-22/Data.dat' -> './tsm_targets/06-06-22/SNR01_01_01.dat'\n",
      "saving Slice 1 Location 1 Record 2\n",
      "could not save 01_01_02.dat\n",
      "[WinError 183] Cannot create a file when that file already exists: './tsm_targets/06-06-22/Data.dat' -> './tsm_targets/06-06-22/SNR01_01_02.dat'\n",
      "saving Slice 1 Location 1 Record 3\n",
      "saving Slice 1 Location 1 Record 4\n",
      "saving Slice 2 Location 1 Record 1\n",
      "saving Slice 2 Location 1 Record 2\n",
      "saving Slice 2 Location 1 Record 3\n",
      "saving Slice 2 Location 1 Record 4\n",
      "saving Slice 3 Location 1 Record 1\n",
      "saving Slice 3 Location 1 Record 2\n",
      "saving Slice 3 Location 1 Record 3\n",
      "saving Slice 3 Location 1 Record 4\n",
      "saving Slice 3 Location 1 Record 5\n",
      "saving Slice 3 Location 1 Record 6\n",
      "saving Slice 4 Location 1 Record 1\n",
      "saving Slice 4 Location 1 Record 2\n",
      "saving Slice 4 Location 1 Record 3\n",
      "saving Slice 4 Location 1 Record 4\n",
      "saving Slice 4 Location 1 Record 5\n",
      "saving Slice 4 Location 1 Record 6\n"
     ]
    }
   ],
   "source": [
    "datadir = './tsm_targets/06-06-22'\n",
    "ad = AutoDAT(datadir, \n",
    "             processing_sleep_time=4,  # sleep time must be ample for PhotoZ's file-open + processing\n",
    "             file_prefix=\"SNR\") \n",
    "\n",
    "ad.save_all_background_data()"
   ]
  },
  {
   "cell_type": "code",
   "execution_count": 3,
   "id": "165a4167",
   "metadata": {},
   "outputs": [],
   "source": [
    "\n",
    "#with pyautogui.hold('shift'):  # Press the Shift key down and hold it.\n",
    "#    pyautogui.press(['left', 'left', 'left', 'left'])  # Press the left arrow key 4 times.\n",
    "        \n",
    "#pyautogui.alert('This is the message to display.') # Make an alert box appear and pause the program until OK is clicked."
   ]
  }
 ],
 "metadata": {
  "kernelspec": {
   "display_name": "Python 3",
   "language": "python",
   "name": "python3"
  },
  "language_info": {
   "codemirror_mode": {
    "name": "ipython",
    "version": 3
   },
   "file_extension": ".py",
   "mimetype": "text/x-python",
   "name": "python",
   "nbconvert_exporter": "python",
   "pygments_lexer": "ipython3",
   "version": "3.9.4"
  }
 },
 "nbformat": 4,
 "nbformat_minor": 5
}
