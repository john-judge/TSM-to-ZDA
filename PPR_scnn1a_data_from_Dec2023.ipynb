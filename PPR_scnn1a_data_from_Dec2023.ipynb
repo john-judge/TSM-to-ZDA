{
 "cells": [
  {
   "cell_type": "code",
   "execution_count": 13,
   "id": "0ec00416",
   "metadata": {},
   "outputs": [],
   "source": [
    "import time\n",
    "import os\n",
    "import math\n",
    "import numpy as np\n",
    "import cv2\n",
    "import pandas as pd\n",
    "import pyautogui as pa\n",
    "from scipy.stats import binom_test\n",
    "from matplotlib.markers import TICKDOWN\n",
    "from matplotlib import rcParams\n",
    "import datetime\n",
    "from scipy.stats import norm, kstest, sem, ttest_ind\n",
    "from numpy.polynomial import polynomial\n",
    "\n",
    "from lib.auto_GUI.auto_GUI_base import AutoGUIBase\n",
    "from lib.auto_GUI.auto_PhotoZ import AutoPhotoZ\n",
    "from lib.analysis.laminar_dist import *\n",
    "from lib.file.ROI_reader import ROIFileReader\n",
    "from lib.analysis.cell_roi import OverlapCounterROI"
   ]
  },
  {
   "cell_type": "code",
   "execution_count": 14,
   "id": "319d1034",
   "metadata": {},
   "outputs": [],
   "source": [
    "data_dir = \"C:/Users/jjudge3/Desktop/Data/mm_full_pipeline_targets/scnn1a-ppr/\"\n",
    "#data_dir = \"P:/John/analyzed_archived/scnn1a-tg3-cre/PPR checkpoints/scnn1a-ppr/\"\n",
    "master_csv = data_dir + 'scnn1a-ppr.csv'\n",
    "###################################\n",
    "# Process paired-pulse ratio data\n",
    "#    - IPIs are shuffled, open <slice>_<loc>shuffle.txt for IPI order\n",
    "#    - extract Amplitude, half_width, latency for pulse 1 and pulse 2 for each ROI\n",
    "#    - ROIs are in order (in file \"<slice>_barrel_rois.dat\" for each date subdir):\n",
    "#          -  medial -> lateral if available\n",
    "#          - otherwise, in some order that preserves neighbors (1,2 are neighbors and 2,3 are neighbors)\n",
    "#    - which barrel is home barrel (stimulated) is recorded in master csv scnn1a-ppr.csv for each loc\n",
    "###################################\n",
    "enable_photoZ_interact = False\n",
    "initialize_photoZ = True\n",
    "disable_trace_export = True  # if True, don't export traces, only save arrays\n",
    "\n",
    "snr_cutoff_signal = 0\n",
    "amp_cutoff = 2"
   ]
  },
  {
   "cell_type": "code",
   "execution_count": 15,
   "id": "4ce9aa91",
   "metadata": {},
   "outputs": [],
   "source": [
    "# set up PhotoZ (open it manually)\n",
    "aPhz = AutoPhotoZ(data_dir=data_dir)\n",
    "if initialize_photoZ and enable_photoZ_interact:\n",
    "    aPhz.prepare_photoZ()\n",
    "    # normalization needs to be off since we are saving arrays\n",
    "    aPhz.click_normalize_2_array_max()"
   ]
  },
  {
   "cell_type": "code",
   "execution_count": 16,
   "id": "13be144e",
   "metadata": {},
   "outputs": [
    {
     "data": {
      "text/html": [
       "<div>\n",
       "<style scoped>\n",
       "    .dataframe tbody tr th:only-of-type {\n",
       "        vertical-align: middle;\n",
       "    }\n",
       "\n",
       "    .dataframe tbody tr th {\n",
       "        vertical-align: top;\n",
       "    }\n",
       "\n",
       "    .dataframe thead th {\n",
       "        text-align: right;\n",
       "    }\n",
       "</style>\n",
       "<table border=\"1\" class=\"dataframe\">\n",
       "  <thead>\n",
       "    <tr style=\"text-align: right;\">\n",
       "      <th></th>\n",
       "      <th>Date</th>\n",
       "      <th>Slice_Loc</th>\n",
       "      <th>Medial Dir</th>\n",
       "      <th>Stim Layer</th>\n",
       "      <th>Caudal/Rostral</th>\n",
       "      <th>Home Barrel</th>\n",
       "    </tr>\n",
       "  </thead>\n",
       "  <tbody>\n",
       "    <tr>\n",
       "      <th>0</th>\n",
       "      <td>12/8/2023</td>\n",
       "      <td>3_2</td>\n",
       "      <td>up</td>\n",
       "      <td>L2/3</td>\n",
       "      <td>Caudal</td>\n",
       "      <td>2</td>\n",
       "    </tr>\n",
       "    <tr>\n",
       "      <th>1</th>\n",
       "      <td>12/8/2023</td>\n",
       "      <td>4_1</td>\n",
       "      <td>NaN</td>\n",
       "      <td>L4</td>\n",
       "      <td>Rostral</td>\n",
       "      <td>2</td>\n",
       "    </tr>\n",
       "    <tr>\n",
       "      <th>2</th>\n",
       "      <td>12/8/2023</td>\n",
       "      <td>5_1</td>\n",
       "      <td>NaN</td>\n",
       "      <td>L4</td>\n",
       "      <td>Rostral</td>\n",
       "      <td>1</td>\n",
       "    </tr>\n",
       "    <tr>\n",
       "      <th>3</th>\n",
       "      <td>12/8/2023</td>\n",
       "      <td>5_2</td>\n",
       "      <td>NaN</td>\n",
       "      <td>L4</td>\n",
       "      <td>Rostral</td>\n",
       "      <td>2</td>\n",
       "    </tr>\n",
       "    <tr>\n",
       "      <th>4</th>\n",
       "      <td>12/8/2023</td>\n",
       "      <td>6_1</td>\n",
       "      <td>NaN</td>\n",
       "      <td>L4</td>\n",
       "      <td>NaN</td>\n",
       "      <td>1</td>\n",
       "    </tr>\n",
       "    <tr>\n",
       "      <th>5</th>\n",
       "      <td>12/8/2023</td>\n",
       "      <td>6_2</td>\n",
       "      <td>NaN</td>\n",
       "      <td>L4</td>\n",
       "      <td>NaN</td>\n",
       "      <td>2</td>\n",
       "    </tr>\n",
       "    <tr>\n",
       "      <th>6</th>\n",
       "      <td>12/13/2023</td>\n",
       "      <td>1_4</td>\n",
       "      <td>NaN</td>\n",
       "      <td>L2/3</td>\n",
       "      <td>Rostral</td>\n",
       "      <td>1</td>\n",
       "    </tr>\n",
       "    <tr>\n",
       "      <th>7</th>\n",
       "      <td>12/13/2023</td>\n",
       "      <td>2_1</td>\n",
       "      <td>NaN</td>\n",
       "      <td>L4</td>\n",
       "      <td>Rostral</td>\n",
       "      <td>1</td>\n",
       "    </tr>\n",
       "    <tr>\n",
       "      <th>8</th>\n",
       "      <td>12/13/2023</td>\n",
       "      <td>3_1</td>\n",
       "      <td>NaN</td>\n",
       "      <td>L4</td>\n",
       "      <td>Caudal</td>\n",
       "      <td>2</td>\n",
       "    </tr>\n",
       "    <tr>\n",
       "      <th>9</th>\n",
       "      <td>12/13/2023</td>\n",
       "      <td>3_2</td>\n",
       "      <td>NaN</td>\n",
       "      <td>L2/3</td>\n",
       "      <td>Caudal</td>\n",
       "      <td>2</td>\n",
       "    </tr>\n",
       "    <tr>\n",
       "      <th>10</th>\n",
       "      <td>12/13/2023</td>\n",
       "      <td>4_1</td>\n",
       "      <td>NaN</td>\n",
       "      <td>L2/3</td>\n",
       "      <td>NaN</td>\n",
       "      <td>2</td>\n",
       "    </tr>\n",
       "    <tr>\n",
       "      <th>11</th>\n",
       "      <td>12/14/2023</td>\n",
       "      <td>1_3</td>\n",
       "      <td>NaN</td>\n",
       "      <td>L2/3</td>\n",
       "      <td>Caudal</td>\n",
       "      <td>2</td>\n",
       "    </tr>\n",
       "    <tr>\n",
       "      <th>12</th>\n",
       "      <td>12/14/2023</td>\n",
       "      <td>2_1</td>\n",
       "      <td>right</td>\n",
       "      <td>L2/3</td>\n",
       "      <td>Rostral</td>\n",
       "      <td>3</td>\n",
       "    </tr>\n",
       "    <tr>\n",
       "      <th>13</th>\n",
       "      <td>12/14/2023</td>\n",
       "      <td>3_1</td>\n",
       "      <td>NaN</td>\n",
       "      <td>L2/3</td>\n",
       "      <td>Rostral</td>\n",
       "      <td>2</td>\n",
       "    </tr>\n",
       "    <tr>\n",
       "      <th>14</th>\n",
       "      <td>12/14/2023</td>\n",
       "      <td>4_1</td>\n",
       "      <td>NaN</td>\n",
       "      <td>L2/3</td>\n",
       "      <td>Rostral</td>\n",
       "      <td>2</td>\n",
       "    </tr>\n",
       "    <tr>\n",
       "      <th>15</th>\n",
       "      <td>12/18/2023</td>\n",
       "      <td>1_1</td>\n",
       "      <td>up/right</td>\n",
       "      <td>L4</td>\n",
       "      <td>Rostral</td>\n",
       "      <td>2</td>\n",
       "    </tr>\n",
       "    <tr>\n",
       "      <th>16</th>\n",
       "      <td>12/18/2023</td>\n",
       "      <td>1_2</td>\n",
       "      <td>up/right</td>\n",
       "      <td>L2/3</td>\n",
       "      <td>Rostral</td>\n",
       "      <td>3</td>\n",
       "    </tr>\n",
       "    <tr>\n",
       "      <th>17</th>\n",
       "      <td>12/18/2023</td>\n",
       "      <td>2_1</td>\n",
       "      <td>NaN</td>\n",
       "      <td>L2/3</td>\n",
       "      <td>Rostral</td>\n",
       "      <td>2</td>\n",
       "    </tr>\n",
       "    <tr>\n",
       "      <th>18</th>\n",
       "      <td>12/18/2023</td>\n",
       "      <td>3_1</td>\n",
       "      <td>up/right</td>\n",
       "      <td>L2/3</td>\n",
       "      <td>Caudal</td>\n",
       "      <td>2</td>\n",
       "    </tr>\n",
       "    <tr>\n",
       "      <th>19</th>\n",
       "      <td>12/18/2023</td>\n",
       "      <td>4_1</td>\n",
       "      <td>down</td>\n",
       "      <td>L4</td>\n",
       "      <td>Caudal</td>\n",
       "      <td>2</td>\n",
       "    </tr>\n",
       "    <tr>\n",
       "      <th>20</th>\n",
       "      <td>12/18/2023</td>\n",
       "      <td>4_2</td>\n",
       "      <td>down</td>\n",
       "      <td>L2/3</td>\n",
       "      <td>Caudal</td>\n",
       "      <td>3</td>\n",
       "    </tr>\n",
       "    <tr>\n",
       "      <th>21</th>\n",
       "      <td>12/19/2023</td>\n",
       "      <td>4_1</td>\n",
       "      <td>NaN</td>\n",
       "      <td>L4</td>\n",
       "      <td>Rostral</td>\n",
       "      <td>2</td>\n",
       "    </tr>\n",
       "  </tbody>\n",
       "</table>\n",
       "</div>"
      ],
      "text/plain": [
       "          Date Slice_Loc Medial Dir Stim Layer Caudal/Rostral  Home Barrel\n",
       "0    12/8/2023       3_2         up       L2/3         Caudal            2\n",
       "1    12/8/2023       4_1        NaN         L4        Rostral            2\n",
       "2    12/8/2023       5_1        NaN         L4        Rostral            1\n",
       "3    12/8/2023       5_2        NaN         L4        Rostral            2\n",
       "4    12/8/2023       6_1        NaN         L4            NaN            1\n",
       "5    12/8/2023       6_2        NaN         L4            NaN            2\n",
       "6   12/13/2023       1_4        NaN       L2/3        Rostral            1\n",
       "7   12/13/2023       2_1        NaN         L4        Rostral            1\n",
       "8   12/13/2023       3_1        NaN         L4         Caudal            2\n",
       "9   12/13/2023       3_2        NaN       L2/3         Caudal            2\n",
       "10  12/13/2023       4_1        NaN       L2/3            NaN            2\n",
       "11  12/14/2023       1_3        NaN       L2/3         Caudal            2\n",
       "12  12/14/2023       2_1      right       L2/3        Rostral            3\n",
       "13  12/14/2023       3_1        NaN       L2/3        Rostral            2\n",
       "14  12/14/2023       4_1        NaN       L2/3        Rostral            2\n",
       "15  12/18/2023       1_1   up/right         L4        Rostral            2\n",
       "16  12/18/2023       1_2   up/right       L2/3        Rostral            3\n",
       "17  12/18/2023       2_1        NaN       L2/3        Rostral            2\n",
       "18  12/18/2023       3_1   up/right       L2/3         Caudal            2\n",
       "19  12/18/2023       4_1       down         L4         Caudal            2\n",
       "20  12/18/2023       4_2       down       L2/3         Caudal            3\n",
       "21  12/19/2023       4_1        NaN         L4        Rostral            2"
      ]
     },
     "execution_count": 16,
     "metadata": {},
     "output_type": "execute_result"
    }
   ],
   "source": [
    "# load master csv file for metadata\n",
    "master_df = pd.read_csv(master_csv)\n",
    "master_df = pd.DataFrame(master_df)\n",
    "master_df"
   ]
  },
  {
   "cell_type": "code",
   "execution_count": 17,
   "id": "cd790ac0",
   "metadata": {},
   "outputs": [
    {
     "name": "stdout",
     "output_type": "stream",
     "text": [
      "\n",
      " C:/Users/jjudge3/Desktop/Data/mm_full_pipeline_targets/scnn1a-ppr/12-08-23\n",
      "3 2 2\n",
      "3 2 3\n",
      "3 2 4\n",
      "3 2 5\n",
      "3 2 6\n",
      "3 2 7\n",
      "3 2 8\n",
      "3 2 9\n",
      "3 2 10\n",
      "3 2 11\n",
      "3 2 12\n",
      "3 2 13\n",
      "3 2 14\n",
      "3 2 15\n",
      "3 2 16\n",
      "3 2 17\n",
      "4 1 1\n",
      "4 1 2\n",
      "4 1 3\n",
      "4 1 4\n",
      "4 1 5\n",
      "4 1 6\n",
      "4 1 7\n",
      "4 1 8\n",
      "4 1 9\n",
      "4 1 10\n",
      "4 1 11\n",
      "4 1 12\n",
      "4 1 13\n",
      "4 1 14\n",
      "4 1 15\n",
      "4 1 16\n",
      "5 1 2\n",
      "5 1 3\n",
      "5 1 4\n",
      "5 1 5\n",
      "5 1 6\n",
      "5 1 7\n",
      "5 1 8\n",
      "5 1 9\n",
      "5 1 10\n",
      "5 1 11\n",
      "5 1 12\n",
      "5 1 13\n",
      "5 1 14\n",
      "5 1 15\n",
      "5 1 16\n",
      "5 1 17\n",
      "5 2 2\n",
      "5 2 3\n",
      "5 2 4\n",
      "5 2 5\n",
      "5 2 6\n",
      "5 2 7\n",
      "5 2 8\n",
      "5 2 9\n",
      "5 2 10\n",
      "5 2 11\n",
      "5 2 12\n",
      "5 2 13\n",
      "5 2 14\n",
      "5 2 15\n",
      "5 2 16\n",
      "5 2 17\n",
      "6 1 4\n",
      "6 1 5\n",
      "6 1 6\n",
      "6 1 7\n",
      "6 1 8\n",
      "6 1 9\n",
      "6 1 10\n",
      "6 1 11\n",
      "6 1 12\n",
      "6 1 13\n",
      "6 1 14\n",
      "6 1 15\n",
      "6 1 16\n",
      "6 1 17\n",
      "6 1 18\n",
      "6 1 19\n",
      "6 2 1\n",
      "6 2 2\n",
      "6 2 3\n",
      "6 2 4\n",
      "6 2 5\n",
      "6 2 6\n",
      "6 2 7\n",
      "6 2 8\n",
      "6 2 9\n",
      "6 2 10\n",
      "6 2 11\n",
      "6 2 12\n",
      "6 2 13\n",
      "6 2 14\n",
      "6 2 15\n",
      "6 2 16\n"
     ]
    }
   ],
   "source": [
    "def get_shuffle_filename(slic, loc):\n",
    "    return str(slic) + \"_\" + str(loc) + \"shuffle.txt\"\n",
    "\n",
    "def get_barrel_roi_filename(slic):\n",
    "    return str(slic) + \"_barrel_rois.dat\"\n",
    "\n",
    "# locate all files\n",
    "data_map = {}\n",
    "for subdir, dirs, files in os.walk(data_dir):\n",
    "    if 'hidden' in subdir:\n",
    "        continue\n",
    "    if not ('dic' in dirs and 'selected_zda' in dirs):\n",
    "        continue\n",
    "    print(\"\\n\", subdir)\n",
    "    dic_dir = subdir + \"/dic/\"\n",
    "    selected_zda_dir = subdir + \"/selected_zda/\"\n",
    "    data_map[subdir] = {}\n",
    "    for zda_file in os.listdir(selected_zda_dir):\n",
    "        if zda_file.endswith('.zda'):\n",
    "            slr_id = zda_file.split('.')[0]\n",
    "            slic_id, loc_id, rec_id = [int(x) for x in slr_id.split(\"_\")]\n",
    "            print(slic_id, loc_id, rec_id)\n",
    "            if slic_id not in data_map[subdir]:\n",
    "                # find ROI file and index it\n",
    "                data_map[subdir][slic_id] = {'roi_file': subdir + \"/\" + get_barrel_roi_filename(slic_id)}\n",
    "            if loc_id not in data_map[subdir][slic_id]:\n",
    "                # find shuffle file and index it\n",
    "                data_map[subdir][slic_id][loc_id] = {'zda_files': [],\n",
    "                                                     'shuffle_file': subdir + \"/\" +  get_shuffle_filename(slic_id, loc_id)}\n",
    "            data_map[subdir][slic_id][loc_id]['zda_files'].append(selected_zda_dir + \"/\" + zda_file)  # appends in ascending order"
   ]
  },
  {
   "cell_type": "code",
   "execution_count": 18,
   "id": "8981bf20",
   "metadata": {},
   "outputs": [
    {
     "name": "stdout",
     "output_type": "stream",
     "text": [
      "C:/Users/jjudge3/Desktop/Data/mm_full_pipeline_targets/scnn1a-ppr/12-08-23\n",
      "3 2 IPI: 10 ms for recording 03_02_02.zda\n",
      "3 2 IPI: 20 ms for recording 03_02_03.zda\n",
      "3 2 IPI: 30 ms for recording 03_02_04.zda\n",
      "3 2 IPI: 40 ms for recording 03_02_05.zda\n",
      "3 2 IPI: 50 ms for recording 03_02_06.zda\n",
      "3 2 IPI: 60 ms for recording 03_02_07.zda\n",
      "3 2 IPI: 70 ms for recording 03_02_08.zda\n",
      "3 2 IPI: 80 ms for recording 03_02_09.zda\n",
      "3 2 IPI: 90 ms for recording 03_02_10.zda\n",
      "3 2 IPI: 100 ms for recording 03_02_11.zda\n",
      "3 2 IPI: 110 ms for recording 03_02_12.zda\n",
      "3 2 IPI: 120 ms for recording 03_02_13.zda\n",
      "3 2 IPI: 130 ms for recording 03_02_14.zda\n",
      "3 2 IPI: 140 ms for recording 03_02_15.zda\n",
      "3 2 IPI: 150 ms for recording 03_02_16.zda\n",
      "3 2 IPI: 5 ms for recording 03_02_17.zda\n",
      "4 1 IPI: 5 ms for recording 04_01_01.zda\n",
      "4 1 IPI: 10 ms for recording 04_01_02.zda\n",
      "4 1 IPI: 20 ms for recording 04_01_03.zda\n",
      "4 1 IPI: 30 ms for recording 04_01_04.zda\n",
      "4 1 IPI: 40 ms for recording 04_01_05.zda\n",
      "4 1 IPI: 50 ms for recording 04_01_06.zda\n",
      "4 1 IPI: 60 ms for recording 04_01_07.zda\n",
      "4 1 IPI: 70 ms for recording 04_01_08.zda\n",
      "4 1 IPI: 80 ms for recording 04_01_09.zda\n",
      "4 1 IPI: 90 ms for recording 04_01_10.zda\n",
      "4 1 IPI: 100 ms for recording 04_01_11.zda\n",
      "4 1 IPI: 110 ms for recording 04_01_12.zda\n",
      "4 1 IPI: 120 ms for recording 04_01_13.zda\n",
      "4 1 IPI: 130 ms for recording 04_01_14.zda\n",
      "4 1 IPI: 140 ms for recording 04_01_15.zda\n",
      "4 1 IPI: 150 ms for recording 04_01_16.zda\n",
      "5 1 IPI: 5 ms for recording 05_01_02.zda\n",
      "5 1 IPI: 10 ms for recording 05_01_03.zda\n",
      "5 1 IPI: 20 ms for recording 05_01_04.zda\n",
      "5 1 IPI: 30 ms for recording 05_01_05.zda\n",
      "5 1 IPI: 40 ms for recording 05_01_06.zda\n",
      "5 1 IPI: 50 ms for recording 05_01_07.zda\n",
      "5 1 IPI: 60 ms for recording 05_01_08.zda\n",
      "5 1 IPI: 70 ms for recording 05_01_09.zda\n",
      "5 1 IPI: 80 ms for recording 05_01_10.zda\n",
      "5 1 IPI: 90 ms for recording 05_01_11.zda\n",
      "5 1 IPI: 100 ms for recording 05_01_12.zda\n",
      "5 1 IPI: 110 ms for recording 05_01_13.zda\n",
      "5 1 IPI: 120 ms for recording 05_01_14.zda\n",
      "5 1 IPI: 130 ms for recording 05_01_15.zda\n",
      "5 1 IPI: 140 ms for recording 05_01_16.zda\n",
      "5 1 IPI: 150 ms for recording 05_01_17.zda\n",
      "5 2 IPI: 5 ms for recording 05_02_02.zda\n",
      "5 2 IPI: 10 ms for recording 05_02_03.zda\n",
      "5 2 IPI: 20 ms for recording 05_02_04.zda\n",
      "5 2 IPI: 30 ms for recording 05_02_05.zda\n",
      "5 2 IPI: 40 ms for recording 05_02_06.zda\n",
      "5 2 IPI: 50 ms for recording 05_02_07.zda\n",
      "5 2 IPI: 60 ms for recording 05_02_08.zda\n",
      "5 2 IPI: 70 ms for recording 05_02_09.zda\n",
      "5 2 IPI: 80 ms for recording 05_02_10.zda\n",
      "5 2 IPI: 90 ms for recording 05_02_11.zda\n",
      "5 2 IPI: 100 ms for recording 05_02_12.zda\n",
      "5 2 IPI: 110 ms for recording 05_02_13.zda\n",
      "5 2 IPI: 120 ms for recording 05_02_14.zda\n",
      "5 2 IPI: 130 ms for recording 05_02_15.zda\n",
      "5 2 IPI: 140 ms for recording 05_02_16.zda\n",
      "5 2 IPI: 150 ms for recording 05_02_17.zda\n",
      "6 1 IPI: 5 ms for recording 06_01_04.zda\n",
      "6 1 IPI: 10 ms for recording 06_01_05.zda\n",
      "6 1 IPI: 20 ms for recording 06_01_06.zda\n",
      "6 1 IPI: 30 ms for recording 06_01_07.zda\n",
      "6 1 IPI: 40 ms for recording 06_01_08.zda\n",
      "6 1 IPI: 50 ms for recording 06_01_09.zda\n",
      "6 1 IPI: 60 ms for recording 06_01_10.zda\n",
      "6 1 IPI: 70 ms for recording 06_01_11.zda\n",
      "6 1 IPI: 80 ms for recording 06_01_12.zda\n",
      "6 1 IPI: 90 ms for recording 06_01_13.zda\n",
      "6 1 IPI: 100 ms for recording 06_01_14.zda\n",
      "6 1 IPI: 110 ms for recording 06_01_15.zda\n",
      "6 1 IPI: 120 ms for recording 06_01_16.zda\n",
      "6 1 IPI: 130 ms for recording 06_01_17.zda\n",
      "6 1 IPI: 140 ms for recording 06_01_18.zda\n",
      "6 1 IPI: 150 ms for recording 06_01_19.zda\n",
      "6 2 IPI: 5 ms for recording 06_02_01.zda\n",
      "6 2 IPI: 10 ms for recording 06_02_02.zda\n",
      "6 2 IPI: 20 ms for recording 06_02_03.zda\n",
      "6 2 IPI: 30 ms for recording 06_02_04.zda\n",
      "6 2 IPI: 40 ms for recording 06_02_05.zda\n",
      "6 2 IPI: 50 ms for recording 06_02_06.zda\n",
      "6 2 IPI: 60 ms for recording 06_02_07.zda\n",
      "6 2 IPI: 70 ms for recording 06_02_08.zda\n",
      "6 2 IPI: 80 ms for recording 06_02_09.zda\n",
      "6 2 IPI: 90 ms for recording 06_02_10.zda\n",
      "6 2 IPI: 100 ms for recording 06_02_11.zda\n",
      "6 2 IPI: 110 ms for recording 06_02_12.zda\n",
      "6 2 IPI: 120 ms for recording 06_02_13.zda\n",
      "6 2 IPI: 130 ms for recording 06_02_14.zda\n",
      "6 2 IPI: 140 ms for recording 06_02_15.zda\n",
      "6 2 IPI: 150 ms for recording 06_02_16.zda\n"
     ]
    }
   ],
   "source": [
    "# go through the IPIs in their shuffled order (ascending recordings) \n",
    "# and extract Amplitude, half_width, latency for pulse 1 and pulse 2 for each ROI\n",
    "copy_enable_photoZ_interact = enable_photoZ_interact\n",
    "enable_photoZ_interact = not disable_trace_export\n",
    "\n",
    "for subdir in data_map:\n",
    "    aPhz = AutoPhotoZ(data_dir=subdir)\n",
    "    print(subdir)\n",
    "    for slic_id in data_map[subdir]:\n",
    "\n",
    "        # open roi_file for whole slice\n",
    "        if enable_photoZ_interact:\n",
    "            roi_file = data_map[subdir][slic_id]['roi_file']\n",
    "            aPhz.select_roi_tab()\n",
    "            aPhz.open_roi_file(roi_file)\n",
    "\n",
    "        for loc_id in data_map[subdir][slic_id]:\n",
    "            if type(loc_id) == str:\n",
    "                continue\n",
    "            slic_loc_id = str(slic_id) + \"_\" + str(loc_id)\n",
    "\n",
    "            ipi_file = data_map[subdir][slic_id][loc_id]['shuffle_file']\n",
    "            with open(ipi_file, 'r') as f:\n",
    "                lines = f.readlines() \n",
    "            ipi_order = [int(x) for x in lines]\n",
    "            # open zda files in order\n",
    "            i_ipi = -1\n",
    "            for zda_file in data_map[subdir][slic_id][loc_id]['zda_files']:\n",
    "                if enable_photoZ_interact:\n",
    "                    aPhz.open_zda_file(zda_file)\n",
    "                i_ipi += 1\n",
    "                try:\n",
    "                    ipi = ipi_order[i_ipi]\n",
    "                except Exception as e:\n",
    "                    print(e)\n",
    "                    print(\"Not enough IPIs for how many recordings we have! Last IPI:\", ipi, \"Check\", subdir)\n",
    "                print(slic_id, loc_id, \"IPI:\", ipi, \"ms for recording\", zda_file.split(\"/\")[-1])\n",
    "                \n",
    "                for i_pulse in [1, 2]:\n",
    "                    if enable_photoZ_interact:\n",
    "                        measure_window_start = 96 + (i_pulse - 1) * ipi * 2\n",
    "                        aPhz.set_measure_window(measure_window_start, None)\n",
    "\n",
    "                        # change polynomial skip window too to match measure window\n",
    "                        aPhz.set_polynomial_skip_window(measure_window_start)\n",
    "\n",
    "                    # take Amplitude, half_width, latency and label which pulse\n",
    "                    # save SNR values from PhotoZ\n",
    "                    snr_filename = subdir + \"/\" + \"SNR_\" + slic_loc_id + \"_ipi\" + str(ipi) + \"_p\" + str(i_pulse) + \".dat\"\n",
    "                    if enable_photoZ_interact:\n",
    "                        aPhz.select_SNR_trace_value()\n",
    "                        aPhz.save_trace_values(snr_filename)\n",
    "\n",
    "                    # save half-width values from PhotoZ\n",
    "                    hw_filename = subdir + \"/\" + \"hw_\" + slic_loc_id + \"_ipi\" + str(ipi) + \"_p\" + str(i_pulse) + \".dat\" \n",
    "                    if enable_photoZ_interact:\n",
    "                        aPhz.select_half_width_trace_value()\n",
    "                        aPhz.save_trace_values(hw_filename)\n",
    "\n",
    "                    # save amp values from PhotoZ\n",
    "                    amp_filename = subdir + \"/\" + \"amp_\" + slic_loc_id + \"_ipi\" + str(ipi) + \"_p\" + str(i_pulse) + \".dat\"\n",
    "                    if enable_photoZ_interact:\n",
    "                        aPhz.select_maxamp_trace_value()\n",
    "                        aPhz.save_trace_values(amp_filename)\n",
    "                        \n",
    "                    # save latency values from PhotoZ\n",
    "                    lat_filename = subdir + \"/\" + \"lat_\" + slic_loc_id + \"_ipi\" + str(ipi) + \"_p\" + str(i_pulse) + \".dat\"\n",
    "                    if enable_photoZ_interact:\n",
    "                        aPhz.select_latency_trace_value()\n",
    "                        aPhz.save_trace_values(lat_filename)\n",
    "\n",
    "\n",
    "                    if ipi not in data_map[subdir][slic_id][loc_id]:\n",
    "                        data_map[subdir][slic_id][loc_id][ipi] = {}\n",
    "                    data_map[subdir][slic_id][loc_id][ipi][i_pulse] = {'amp': amp_filename,\n",
    "                                                                       'hw': hw_filename,\n",
    "                                                                       'snr': snr_filename,\n",
    "                                                                       'lat': lat_filename}\n",
    "            if i_ipi < len(ipi_order) - 1:\n",
    "                print(\"Not enough recordings for how many IPIs we have! Last IPI:\", ipi, \"Check\", subdir)\n",
    "enable_photoZ_interact = copy_enable_photoZ_interact  "
   ]
  },
  {
   "cell_type": "code",
   "execution_count": 19,
   "id": "a784815f",
   "metadata": {},
   "outputs": [
    {
     "name": "stdout",
     "output_type": "stream",
     "text": [
      "C:/Users/jjudge3/Desktop/Data/mm_full_pipeline_targets/scnn1a-ppr/12-08-23\n",
      "3 2 IPI: 10 ms for recording 03_02_02.zda\n",
      "3 2 IPI: 20 ms for recording 03_02_03.zda\n",
      "3 2 IPI: 30 ms for recording 03_02_04.zda\n",
      "3 2 IPI: 40 ms for recording 03_02_05.zda\n",
      "3 2 IPI: 50 ms for recording 03_02_06.zda\n",
      "3 2 IPI: 60 ms for recording 03_02_07.zda\n",
      "3 2 IPI: 70 ms for recording 03_02_08.zda\n",
      "3 2 IPI: 80 ms for recording 03_02_09.zda\n",
      "3 2 IPI: 90 ms for recording 03_02_10.zda\n",
      "3 2 IPI: 100 ms for recording 03_02_11.zda\n",
      "3 2 IPI: 110 ms for recording 03_02_12.zda\n",
      "3 2 IPI: 120 ms for recording 03_02_13.zda\n",
      "3 2 IPI: 130 ms for recording 03_02_14.zda\n",
      "3 2 IPI: 140 ms for recording 03_02_15.zda\n",
      "3 2 IPI: 150 ms for recording 03_02_16.zda\n",
      "3 2 IPI: 5 ms for recording 03_02_17.zda\n",
      "4 1 IPI: 5 ms for recording 04_01_01.zda\n",
      "4 1 IPI: 10 ms for recording 04_01_02.zda\n",
      "4 1 IPI: 20 ms for recording 04_01_03.zda\n",
      "4 1 IPI: 30 ms for recording 04_01_04.zda\n",
      "4 1 IPI: 40 ms for recording 04_01_05.zda\n",
      "4 1 IPI: 50 ms for recording 04_01_06.zda\n",
      "4 1 IPI: 60 ms for recording 04_01_07.zda\n",
      "4 1 IPI: 70 ms for recording 04_01_08.zda\n",
      "4 1 IPI: 80 ms for recording 04_01_09.zda\n",
      "4 1 IPI: 90 ms for recording 04_01_10.zda\n",
      "4 1 IPI: 100 ms for recording 04_01_11.zda\n",
      "4 1 IPI: 110 ms for recording 04_01_12.zda\n",
      "4 1 IPI: 120 ms for recording 04_01_13.zda\n",
      "4 1 IPI: 130 ms for recording 04_01_14.zda\n",
      "4 1 IPI: 140 ms for recording 04_01_15.zda\n",
      "4 1 IPI: 150 ms for recording 04_01_16.zda\n",
      "5 1 IPI: 5 ms for recording 05_01_02.zda\n",
      "5 1 IPI: 10 ms for recording 05_01_03.zda\n",
      "5 1 IPI: 20 ms for recording 05_01_04.zda\n",
      "5 1 IPI: 30 ms for recording 05_01_05.zda\n",
      "5 1 IPI: 40 ms for recording 05_01_06.zda\n",
      "5 1 IPI: 50 ms for recording 05_01_07.zda\n",
      "5 1 IPI: 60 ms for recording 05_01_08.zda\n",
      "5 1 IPI: 70 ms for recording 05_01_09.zda\n",
      "5 1 IPI: 80 ms for recording 05_01_10.zda\n",
      "5 1 IPI: 90 ms for recording 05_01_11.zda\n",
      "5 1 IPI: 100 ms for recording 05_01_12.zda\n",
      "5 1 IPI: 110 ms for recording 05_01_13.zda\n",
      "5 1 IPI: 120 ms for recording 05_01_14.zda\n",
      "5 1 IPI: 130 ms for recording 05_01_15.zda\n",
      "5 1 IPI: 140 ms for recording 05_01_16.zda\n",
      "5 1 IPI: 150 ms for recording 05_01_17.zda\n",
      "5 2 IPI: 5 ms for recording 05_02_02.zda\n",
      "5 2 IPI: 10 ms for recording 05_02_03.zda\n",
      "5 2 IPI: 20 ms for recording 05_02_04.zda\n",
      "5 2 IPI: 30 ms for recording 05_02_05.zda\n",
      "5 2 IPI: 40 ms for recording 05_02_06.zda\n",
      "5 2 IPI: 50 ms for recording 05_02_07.zda\n",
      "5 2 IPI: 60 ms for recording 05_02_08.zda\n",
      "5 2 IPI: 70 ms for recording 05_02_09.zda\n",
      "5 2 IPI: 80 ms for recording 05_02_10.zda\n",
      "5 2 IPI: 90 ms for recording 05_02_11.zda\n",
      "5 2 IPI: 100 ms for recording 05_02_12.zda\n",
      "5 2 IPI: 110 ms for recording 05_02_13.zda\n",
      "5 2 IPI: 120 ms for recording 05_02_14.zda\n",
      "5 2 IPI: 130 ms for recording 05_02_15.zda\n",
      "5 2 IPI: 140 ms for recording 05_02_16.zda\n",
      "5 2 IPI: 150 ms for recording 05_02_17.zda\n",
      "6 1 IPI: 5 ms for recording 06_01_04.zda\n",
      "6 1 IPI: 10 ms for recording 06_01_05.zda\n",
      "6 1 IPI: 20 ms for recording 06_01_06.zda\n",
      "6 1 IPI: 30 ms for recording 06_01_07.zda\n",
      "6 1 IPI: 40 ms for recording 06_01_08.zda\n",
      "6 1 IPI: 50 ms for recording 06_01_09.zda\n",
      "6 1 IPI: 60 ms for recording 06_01_10.zda\n",
      "6 1 IPI: 70 ms for recording 06_01_11.zda\n",
      "6 1 IPI: 80 ms for recording 06_01_12.zda\n",
      "6 1 IPI: 90 ms for recording 06_01_13.zda\n",
      "6 1 IPI: 100 ms for recording 06_01_14.zda\n",
      "6 1 IPI: 110 ms for recording 06_01_15.zda\n",
      "6 1 IPI: 120 ms for recording 06_01_16.zda\n",
      "6 1 IPI: 130 ms for recording 06_01_17.zda\n",
      "6 1 IPI: 140 ms for recording 06_01_18.zda\n",
      "6 1 IPI: 150 ms for recording 06_01_19.zda\n",
      "6 2 IPI: 5 ms for recording 06_02_01.zda\n",
      "6 2 IPI: 10 ms for recording 06_02_02.zda\n",
      "6 2 IPI: 20 ms for recording 06_02_03.zda\n",
      "6 2 IPI: 30 ms for recording 06_02_04.zda\n",
      "6 2 IPI: 40 ms for recording 06_02_05.zda\n",
      "6 2 IPI: 50 ms for recording 06_02_06.zda\n",
      "6 2 IPI: 60 ms for recording 06_02_07.zda\n",
      "6 2 IPI: 70 ms for recording 06_02_08.zda\n",
      "6 2 IPI: 80 ms for recording 06_02_09.zda\n",
      "6 2 IPI: 90 ms for recording 06_02_10.zda\n",
      "6 2 IPI: 100 ms for recording 06_02_11.zda\n",
      "6 2 IPI: 110 ms for recording 06_02_12.zda\n",
      "6 2 IPI: 120 ms for recording 06_02_13.zda\n",
      "6 2 IPI: 130 ms for recording 06_02_14.zda\n",
      "6 2 IPI: 140 ms for recording 06_02_15.zda\n",
      "6 2 IPI: 150 ms for recording 06_02_16.zda\n"
     ]
    }
   ],
   "source": [
    "# Also extract actual pulse admin times for pulse 1 and pulse 2\n",
    "if enable_photoZ_interact:\n",
    "    pa.alert(\"Make sure the only trace selected is analog input from stimulator\")\n",
    "latency_selected =  False\n",
    "for subdir in data_map:\n",
    "    aPhz = AutoPhotoZ(data_dir=subdir)\n",
    "    if not latency_selected and enable_photoZ_interact:\n",
    "        latency_selected = True\n",
    "        aPhz.select_latency_trace_value()\n",
    "    print(subdir)\n",
    "    for slic_id in data_map[subdir]:\n",
    "\n",
    "        for loc_id in data_map[subdir][slic_id]:\n",
    "            if type(loc_id) == str:\n",
    "                continue\n",
    "            slic_loc_id = str(slic_id) + \"_\" + str(loc_id)\n",
    "\n",
    "            ipi_file = data_map[subdir][slic_id][loc_id]['shuffle_file']\n",
    "            with open(ipi_file, 'r') as f:\n",
    "                lines = f.readlines() \n",
    "            ipi_order = [int(x) for x in lines]\n",
    "            # open zda files in order\n",
    "            i_ipi = -1\n",
    "            for zda_file in data_map[subdir][slic_id][loc_id]['zda_files']:\n",
    "                if enable_photoZ_interact:\n",
    "                    aPhz.open_zda_file(zda_file)\n",
    "                i_ipi += 1\n",
    "                try:\n",
    "                    ipi = ipi_order[i_ipi]\n",
    "                except Exception as e:\n",
    "                    print(e)\n",
    "                    print(\"Not enough IPIs for how many recordings we have! Last IPI:\", ipi, \"Check\", subdir)\n",
    "                print(slic_id, loc_id, \"IPI:\", ipi, \"ms for recording\", zda_file.split(\"/\")[-1])\n",
    "                \n",
    "                for i_pulse in [1, 2]:\n",
    "                    if enable_photoZ_interact:\n",
    "                        measure_window_start = 96 + (i_pulse - 1) * ipi * 2\n",
    "                        aPhz.set_measure_window(measure_window_start, None)\n",
    "\n",
    "                        # change polynomial skip window too to match measure window\n",
    "                        aPhz.set_polynomial_skip_window(measure_window_start)\n",
    "                    \n",
    "                    # save pulse admin times\n",
    "                    pa_filename = subdir + \"/\" + \"pa_\" + slic_loc_id + \"_ipi\" + str(ipi) + \"_p\" + str(i_pulse) + \".dat\"\n",
    "                    data_map[subdir][slic_id][loc_id][ipi][i_pulse]['pa'] = pa_filename\n",
    "\n",
    "                    if enable_photoZ_interact:\n",
    "                        aPhz.save_trace_values(pa_filename)\n",
    "                        print(\"\\t Saved file\", pa_filename)"
   ]
  },
  {
   "cell_type": "code",
   "execution_count": 20,
   "id": "45faeb82",
   "metadata": {},
   "outputs": [
    {
     "data": {
      "text/html": [
       "<div>\n",
       "<style scoped>\n",
       "    .dataframe tbody tr th:only-of-type {\n",
       "        vertical-align: middle;\n",
       "    }\n",
       "\n",
       "    .dataframe tbody tr th {\n",
       "        vertical-align: top;\n",
       "    }\n",
       "\n",
       "    .dataframe thead th {\n",
       "        text-align: right;\n",
       "    }\n",
       "</style>\n",
       "<table border=\"1\" class=\"dataframe\">\n",
       "  <thead>\n",
       "    <tr style=\"text-align: right;\">\n",
       "      <th></th>\n",
       "      <th>Date</th>\n",
       "      <th>Slice_Loc</th>\n",
       "      <th>ROI</th>\n",
       "      <th>SNR</th>\n",
       "      <th>Amp</th>\n",
       "      <th>Halfwidth</th>\n",
       "      <th>Latency</th>\n",
       "      <th>Pulse</th>\n",
       "      <th>IPI</th>\n",
       "      <th>Medial Dir</th>\n",
       "      <th>Stim Layer</th>\n",
       "      <th>Caudal/Rostral</th>\n",
       "      <th>Home Barrel</th>\n",
       "      <th>Actual Stim</th>\n",
       "      <th>PPR</th>\n",
       "    </tr>\n",
       "  </thead>\n",
       "  <tbody>\n",
       "    <tr>\n",
       "      <th>0</th>\n",
       "      <td>12/8/2023</td>\n",
       "      <td>3_2</td>\n",
       "      <td>1</td>\n",
       "      <td>1.79207</td>\n",
       "      <td>0.301058</td>\n",
       "      <td>-104.79500</td>\n",
       "      <td>3.9982</td>\n",
       "      <td>1</td>\n",
       "      <td>10</td>\n",
       "      <td>up</td>\n",
       "      <td>L2/3</td>\n",
       "      <td>Caudal</td>\n",
       "      <td>2</td>\n",
       "      <td>48.4505</td>\n",
       "      <td></td>\n",
       "    </tr>\n",
       "    <tr>\n",
       "      <th>1</th>\n",
       "      <td>12/8/2023</td>\n",
       "      <td>3_2</td>\n",
       "      <td>2</td>\n",
       "      <td>4.90353</td>\n",
       "      <td>0.312345</td>\n",
       "      <td>5.67150</td>\n",
       "      <td>3.1406</td>\n",
       "      <td>1</td>\n",
       "      <td>10</td>\n",
       "      <td>up</td>\n",
       "      <td>L2/3</td>\n",
       "      <td>Caudal</td>\n",
       "      <td>2</td>\n",
       "      <td>48.4505</td>\n",
       "      <td></td>\n",
       "    </tr>\n",
       "    <tr>\n",
       "      <th>2</th>\n",
       "      <td>12/8/2023</td>\n",
       "      <td>3_2</td>\n",
       "      <td>3</td>\n",
       "      <td>1.83552</td>\n",
       "      <td>0.306782</td>\n",
       "      <td>-104.42200</td>\n",
       "      <td>3.8114</td>\n",
       "      <td>1</td>\n",
       "      <td>10</td>\n",
       "      <td>up</td>\n",
       "      <td>L2/3</td>\n",
       "      <td>Caudal</td>\n",
       "      <td>2</td>\n",
       "      <td>48.4505</td>\n",
       "      <td></td>\n",
       "    </tr>\n",
       "    <tr>\n",
       "      <th>0</th>\n",
       "      <td>12/8/2023</td>\n",
       "      <td>3_2</td>\n",
       "      <td>1</td>\n",
       "      <td>1.77536</td>\n",
       "      <td>0.926149</td>\n",
       "      <td>7.76580</td>\n",
       "      <td>0.2688</td>\n",
       "      <td>2</td>\n",
       "      <td>10</td>\n",
       "      <td>up</td>\n",
       "      <td>L2/3</td>\n",
       "      <td>Caudal</td>\n",
       "      <td>2</td>\n",
       "      <td>59.8083</td>\n",
       "      <td></td>\n",
       "    </tr>\n",
       "    <tr>\n",
       "      <th>1</th>\n",
       "      <td>12/8/2023</td>\n",
       "      <td>3_2</td>\n",
       "      <td>2</td>\n",
       "      <td>4.05187</td>\n",
       "      <td>1.837380</td>\n",
       "      <td>4.46569</td>\n",
       "      <td>1.7628</td>\n",
       "      <td>2</td>\n",
       "      <td>10</td>\n",
       "      <td>up</td>\n",
       "      <td>L2/3</td>\n",
       "      <td>Caudal</td>\n",
       "      <td>2</td>\n",
       "      <td>59.8083</td>\n",
       "      <td></td>\n",
       "    </tr>\n",
       "    <tr>\n",
       "      <th>...</th>\n",
       "      <td>...</td>\n",
       "      <td>...</td>\n",
       "      <td>...</td>\n",
       "      <td>...</td>\n",
       "      <td>...</td>\n",
       "      <td>...</td>\n",
       "      <td>...</td>\n",
       "      <td>...</td>\n",
       "      <td>...</td>\n",
       "      <td>...</td>\n",
       "      <td>...</td>\n",
       "      <td>...</td>\n",
       "      <td>...</td>\n",
       "      <td>...</td>\n",
       "      <td>...</td>\n",
       "    </tr>\n",
       "    <tr>\n",
       "      <th>1</th>\n",
       "      <td>12/8/2023</td>\n",
       "      <td>6_2</td>\n",
       "      <td>2</td>\n",
       "      <td>1.69281</td>\n",
       "      <td>1.042970</td>\n",
       "      <td>-379.79400</td>\n",
       "      <td>0.6690</td>\n",
       "      <td>2</td>\n",
       "      <td>140</td>\n",
       "      <td>NaN</td>\n",
       "      <td>L4</td>\n",
       "      <td>NaN</td>\n",
       "      <td>2</td>\n",
       "      <td>189.7730</td>\n",
       "      <td></td>\n",
       "    </tr>\n",
       "    <tr>\n",
       "      <th>0</th>\n",
       "      <td>12/8/2023</td>\n",
       "      <td>6_2</td>\n",
       "      <td>1</td>\n",
       "      <td>0.92106</td>\n",
       "      <td>0.773330</td>\n",
       "      <td>-105.54000</td>\n",
       "      <td>3.7073</td>\n",
       "      <td>1</td>\n",
       "      <td>150</td>\n",
       "      <td>NaN</td>\n",
       "      <td>L4</td>\n",
       "      <td>NaN</td>\n",
       "      <td>2</td>\n",
       "      <td>48.5041</td>\n",
       "      <td></td>\n",
       "    </tr>\n",
       "    <tr>\n",
       "      <th>1</th>\n",
       "      <td>12/8/2023</td>\n",
       "      <td>6_2</td>\n",
       "      <td>2</td>\n",
       "      <td>1.75774</td>\n",
       "      <td>1.129620</td>\n",
       "      <td>-99.95180</td>\n",
       "      <td>0.9317</td>\n",
       "      <td>1</td>\n",
       "      <td>150</td>\n",
       "      <td>NaN</td>\n",
       "      <td>L4</td>\n",
       "      <td>NaN</td>\n",
       "      <td>2</td>\n",
       "      <td>48.5041</td>\n",
       "      <td></td>\n",
       "    </tr>\n",
       "    <tr>\n",
       "      <th>0</th>\n",
       "      <td>12/8/2023</td>\n",
       "      <td>6_2</td>\n",
       "      <td>1</td>\n",
       "      <td>1.03441</td>\n",
       "      <td>0.830097</td>\n",
       "      <td>-457.84500</td>\n",
       "      <td>30.1280</td>\n",
       "      <td>2</td>\n",
       "      <td>150</td>\n",
       "      <td>NaN</td>\n",
       "      <td>L4</td>\n",
       "      <td>NaN</td>\n",
       "      <td>2</td>\n",
       "      <td>199.7730</td>\n",
       "      <td></td>\n",
       "    </tr>\n",
       "    <tr>\n",
       "      <th>1</th>\n",
       "      <td>12/8/2023</td>\n",
       "      <td>6_2</td>\n",
       "      <td>2</td>\n",
       "      <td>1.84102</td>\n",
       "      <td>1.094720</td>\n",
       "      <td>-399.13800</td>\n",
       "      <td>0.3790</td>\n",
       "      <td>2</td>\n",
       "      <td>150</td>\n",
       "      <td>NaN</td>\n",
       "      <td>L4</td>\n",
       "      <td>NaN</td>\n",
       "      <td>2</td>\n",
       "      <td>199.7730</td>\n",
       "      <td></td>\n",
       "    </tr>\n",
       "  </tbody>\n",
       "</table>\n",
       "<p>448 rows × 15 columns</p>\n",
       "</div>"
      ],
      "text/plain": [
       "         Date Slice_Loc  ROI      SNR       Amp  Halfwidth  Latency  Pulse  \\\n",
       "0   12/8/2023       3_2    1  1.79207  0.301058 -104.79500   3.9982      1   \n",
       "1   12/8/2023       3_2    2  4.90353  0.312345    5.67150   3.1406      1   \n",
       "2   12/8/2023       3_2    3  1.83552  0.306782 -104.42200   3.8114      1   \n",
       "0   12/8/2023       3_2    1  1.77536  0.926149    7.76580   0.2688      2   \n",
       "1   12/8/2023       3_2    2  4.05187  1.837380    4.46569   1.7628      2   \n",
       "..        ...       ...  ...      ...       ...        ...      ...    ...   \n",
       "1   12/8/2023       6_2    2  1.69281  1.042970 -379.79400   0.6690      2   \n",
       "0   12/8/2023       6_2    1  0.92106  0.773330 -105.54000   3.7073      1   \n",
       "1   12/8/2023       6_2    2  1.75774  1.129620  -99.95180   0.9317      1   \n",
       "0   12/8/2023       6_2    1  1.03441  0.830097 -457.84500  30.1280      2   \n",
       "1   12/8/2023       6_2    2  1.84102  1.094720 -399.13800   0.3790      2   \n",
       "\n",
       "    IPI Medial Dir Stim Layer Caudal/Rostral  Home Barrel  Actual Stim PPR  \n",
       "0    10         up       L2/3         Caudal            2      48.4505      \n",
       "1    10         up       L2/3         Caudal            2      48.4505      \n",
       "2    10         up       L2/3         Caudal            2      48.4505      \n",
       "0    10         up       L2/3         Caudal            2      59.8083      \n",
       "1    10         up       L2/3         Caudal            2      59.8083      \n",
       "..  ...        ...        ...            ...          ...          ...  ..  \n",
       "1   140        NaN         L4            NaN            2     189.7730      \n",
       "0   150        NaN         L4            NaN            2      48.5041      \n",
       "1   150        NaN         L4            NaN            2      48.5041      \n",
       "0   150        NaN         L4            NaN            2     199.7730      \n",
       "1   150        NaN         L4            NaN            2     199.7730      \n",
       "\n",
       "[448 rows x 15 columns]"
      ]
     },
     "execution_count": 20,
     "metadata": {},
     "output_type": "execute_result"
    }
   ],
   "source": [
    "# load all these amp, hw, snr, lat into a dataframe\n",
    "def read_dat_trace_file(filename):\n",
    "    data_arr = pd.read_csv(filename,\n",
    "                                 sep='\\t',\n",
    "                                 header=None,\n",
    "                                 names=['ROI',  'Value'])\n",
    "    return data_arr\n",
    "\n",
    "snr_dfs = []\n",
    "for subdir in data_map:\n",
    "    \n",
    "    # extract date from subdir so we can look up metadata from master_df\n",
    "    date = subdir.split(\"/\")[-1].split('-')\n",
    "    date = [int(x) for x in date]\n",
    "    date[-1] += 2000\n",
    "    date = \"/\".join([str(x) for x in date])\n",
    "    metadata_date = master_df[master_df['Date'] == date]\n",
    "    \n",
    "    for slic_id in data_map[subdir]:\n",
    "        for loc_id in data_map[subdir][slic_id]:\n",
    "            if type(loc_id) == str:\n",
    "                continue\n",
    "            slic_loc_id = str(slic_id) + \"_\" + str(loc_id)\n",
    "            metadata = metadata_date[metadata_date['Slice_Loc'] == slic_loc_id]\n",
    "            medial_dir = metadata['Medial Dir'].item()\n",
    "            stim_layer = metadata['Stim Layer'].item()\n",
    "            caudal_rostral = metadata['Caudal/Rostral'].item()\n",
    "            home_barrel = int(metadata['Home Barrel'].item())\n",
    "\n",
    "            for ipi in data_map[subdir][slic_id][loc_id]:\n",
    "                if type(ipi) == str:\n",
    "                    continue\n",
    "                for i_pulse in data_map[subdir][slic_id][loc_id][ipi]:\n",
    "                    dm = data_map[subdir][slic_id][loc_id][ipi][i_pulse]\n",
    "                    \n",
    "                    try:\n",
    "                        amp = read_dat_trace_file(dm['amp'])\n",
    "                        hw = read_dat_trace_file(dm['hw'])\n",
    "                        snr = read_dat_trace_file(dm['snr'])\n",
    "                        lat = read_dat_trace_file(dm['lat'])\n",
    "                        actual_stim = read_dat_trace_file(dm['pa'])  # will be 2 values per pulse per recording, broadcast to all ROIs\n",
    "                    except Exception as e:\n",
    "                        print(e)\n",
    "                        continue\n",
    "                    actual_stim = actual_stim['Value'].item()\n",
    "                    snr = snr.join(amp, rsuffix='_amp')\n",
    "                    snr = snr.join(hw, rsuffix='_hw')\n",
    "                    snr = snr.join(lat, rsuffix='_lat')\n",
    "                    snr.insert(4, 'Pulse', [i_pulse for _ in range(len(snr['ROI']))])\n",
    "                    snr.insert(5, 'IPI', [ipi for _ in range(len(snr['ROI']))])\n",
    "                    snr.insert(6, 'Medial Dir', [medial_dir for _ in range(len(snr['ROI']))])\n",
    "                    snr.insert(7, 'Stim Layer', [stim_layer for _ in range(len(snr['ROI']))])\n",
    "                    snr.insert(8, 'Caudal/Rostral', [caudal_rostral for _ in range(len(snr['ROI']))])\n",
    "                    snr.insert(9, 'Home Barrel', [home_barrel for _ in range(len(snr['ROI']))])\n",
    "                    snr.insert(10, 'Date', [date for _ in range(len(snr['ROI']))])\n",
    "                    snr.insert(11, 'Slice_Loc', [slic_loc_id for _ in range(len(snr['ROI']))])\n",
    "                    snr.insert(12, \"Actual Stim\", [actual_stim for _ in range(len(snr['ROI']))])\n",
    "                    snr = snr[pd.to_numeric(snr.Value, errors='coerce').notnull()]\n",
    "                    snr_dfs.append(snr)\n",
    "        \n",
    "pre_filter_snr = pd.concat(snr_dfs)\n",
    "pre_filter_snr = pre_filter_snr[['Date', 'Slice_Loc', 'ROI', 'Value', 'Value_amp', 'Value_hw', \n",
    "                                 'Value_lat', 'Pulse', 'IPI',\n",
    "                                 'Medial Dir', 'Stim Layer', 'Caudal/Rostral', 'Home Barrel', 'Actual Stim']]\n",
    "\n",
    "# correct Latency for actual stim time\n",
    "pre_filter_snr['Value_lat'] = pre_filter_snr['Value_lat'] - pre_filter_snr['Actual Stim']\n",
    "\n",
    "pre_filter_snr = pre_filter_snr.rename(columns={'Value': \"SNR\",\n",
    "                                                'Value_amp': \"Amp\", \n",
    "                                                'Value_hw' : \"Halfwidth\", \n",
    "                                                'Value_lat': \"Latency\"})\n",
    "pre_filter_snr[\"Amp\"] = pd.to_numeric(pre_filter_snr[\"Amp\"])\n",
    "pre_filter_snr['PPR'] = ''\n",
    "pre_filter_snr"
   ]
  },
  {
   "cell_type": "code",
   "execution_count": 21,
   "id": "b8af8220",
   "metadata": {},
   "outputs": [
    {
     "name": "stdout",
     "output_type": "stream",
     "text": [
      "['3_2' '4_1' '5_1' '5_2' '6_1' '6_2']\n"
     ]
    }
   ],
   "source": [
    "for date in pre_filter_snr['Date'].unique():\n",
    "    print(pre_filter_snr[pre_filter_snr['Date'] == date]['Slice_Loc'].unique())"
   ]
  },
  {
   "cell_type": "code",
   "execution_count": 22,
   "id": "7e922230",
   "metadata": {},
   "outputs": [
    {
     "data": {
      "text/html": [
       "<div>\n",
       "<style scoped>\n",
       "    .dataframe tbody tr th:only-of-type {\n",
       "        vertical-align: middle;\n",
       "    }\n",
       "\n",
       "    .dataframe tbody tr th {\n",
       "        vertical-align: top;\n",
       "    }\n",
       "\n",
       "    .dataframe thead th {\n",
       "        text-align: right;\n",
       "    }\n",
       "</style>\n",
       "<table border=\"1\" class=\"dataframe\">\n",
       "  <thead>\n",
       "    <tr style=\"text-align: right;\">\n",
       "      <th></th>\n",
       "      <th>Date</th>\n",
       "      <th>Slice_Loc</th>\n",
       "      <th>ROI</th>\n",
       "      <th>SNR</th>\n",
       "      <th>Amp</th>\n",
       "      <th>Halfwidth</th>\n",
       "      <th>Latency</th>\n",
       "      <th>Pulse</th>\n",
       "      <th>IPI</th>\n",
       "      <th>Medial Dir</th>\n",
       "      <th>Stim Layer</th>\n",
       "      <th>Caudal/Rostral</th>\n",
       "      <th>Home Barrel</th>\n",
       "      <th>Actual Stim</th>\n",
       "      <th>PPR</th>\n",
       "      <th>PPL</th>\n",
       "      <th>PPHW</th>\n",
       "    </tr>\n",
       "  </thead>\n",
       "  <tbody>\n",
       "    <tr>\n",
       "      <th>1</th>\n",
       "      <td>12/8/2023</td>\n",
       "      <td>3_2</td>\n",
       "      <td>2</td>\n",
       "      <td>5.27212</td>\n",
       "      <td>2.46748</td>\n",
       "      <td>4.47188</td>\n",
       "      <td>3.1563</td>\n",
       "      <td>1</td>\n",
       "      <td>20</td>\n",
       "      <td>up</td>\n",
       "      <td>L2/3</td>\n",
       "      <td>Caudal</td>\n",
       "      <td>2</td>\n",
       "      <td>48.4439</td>\n",
       "      <td>0.758644</td>\n",
       "      <td>0.815892</td>\n",
       "      <td>0.852114</td>\n",
       "    </tr>\n",
       "    <tr>\n",
       "      <th>1</th>\n",
       "      <td>12/8/2023</td>\n",
       "      <td>3_2</td>\n",
       "      <td>2</td>\n",
       "      <td>5.43864</td>\n",
       "      <td>2.66691</td>\n",
       "      <td>5.44523</td>\n",
       "      <td>3.1951</td>\n",
       "      <td>1</td>\n",
       "      <td>30</td>\n",
       "      <td>up</td>\n",
       "      <td>L2/3</td>\n",
       "      <td>Caudal</td>\n",
       "      <td>2</td>\n",
       "      <td>48.3476</td>\n",
       "      <td>0.616852</td>\n",
       "      <td>0.891021</td>\n",
       "      <td>0.653385</td>\n",
       "    </tr>\n",
       "    <tr>\n",
       "      <th>1</th>\n",
       "      <td>12/8/2023</td>\n",
       "      <td>3_2</td>\n",
       "      <td>2</td>\n",
       "      <td>5.60122</td>\n",
       "      <td>2.70548</td>\n",
       "      <td>5.09992</td>\n",
       "      <td>3.0578</td>\n",
       "      <td>1</td>\n",
       "      <td>40</td>\n",
       "      <td>up</td>\n",
       "      <td>L2/3</td>\n",
       "      <td>Caudal</td>\n",
       "      <td>2</td>\n",
       "      <td>48.5474</td>\n",
       "      <td>0.662600</td>\n",
       "      <td>0.949310</td>\n",
       "      <td>0.683699</td>\n",
       "    </tr>\n",
       "    <tr>\n",
       "      <th>1</th>\n",
       "      <td>12/8/2023</td>\n",
       "      <td>3_2</td>\n",
       "      <td>2</td>\n",
       "      <td>5.48550</td>\n",
       "      <td>2.87610</td>\n",
       "      <td>5.19859</td>\n",
       "      <td>3.2336</td>\n",
       "      <td>1</td>\n",
       "      <td>50</td>\n",
       "      <td>up</td>\n",
       "      <td>L2/3</td>\n",
       "      <td>Caudal</td>\n",
       "      <td>2</td>\n",
       "      <td>48.3428</td>\n",
       "      <td>0.629731</td>\n",
       "      <td>0.921110</td>\n",
       "      <td>0.644102</td>\n",
       "    </tr>\n",
       "    <tr>\n",
       "      <th>1</th>\n",
       "      <td>12/8/2023</td>\n",
       "      <td>3_2</td>\n",
       "      <td>2</td>\n",
       "      <td>5.47581</td>\n",
       "      <td>3.00279</td>\n",
       "      <td>5.67457</td>\n",
       "      <td>3.1891</td>\n",
       "      <td>1</td>\n",
       "      <td>60</td>\n",
       "      <td>up</td>\n",
       "      <td>L2/3</td>\n",
       "      <td>Caudal</td>\n",
       "      <td>2</td>\n",
       "      <td>48.4366</td>\n",
       "      <td>0.583807</td>\n",
       "      <td>0.962340</td>\n",
       "      <td>0.702125</td>\n",
       "    </tr>\n",
       "    <tr>\n",
       "      <th>...</th>\n",
       "      <td>...</td>\n",
       "      <td>...</td>\n",
       "      <td>...</td>\n",
       "      <td>...</td>\n",
       "      <td>...</td>\n",
       "      <td>...</td>\n",
       "      <td>...</td>\n",
       "      <td>...</td>\n",
       "      <td>...</td>\n",
       "      <td>...</td>\n",
       "      <td>...</td>\n",
       "      <td>...</td>\n",
       "      <td>...</td>\n",
       "      <td>...</td>\n",
       "      <td>...</td>\n",
       "      <td>...</td>\n",
       "      <td>...</td>\n",
       "    </tr>\n",
       "    <tr>\n",
       "      <th>1</th>\n",
       "      <td>12/8/2023</td>\n",
       "      <td>6_2</td>\n",
       "      <td>2</td>\n",
       "      <td>7.43174</td>\n",
       "      <td>3.46140</td>\n",
       "      <td>5.42646</td>\n",
       "      <td>2.0206</td>\n",
       "      <td>1</td>\n",
       "      <td>30</td>\n",
       "      <td>NaN</td>\n",
       "      <td>L4</td>\n",
       "      <td>NaN</td>\n",
       "      <td>2</td>\n",
       "      <td>48.3878</td>\n",
       "      <td>0.574253</td>\n",
       "      <td>0.804662</td>\n",
       "      <td>0.668915</td>\n",
       "    </tr>\n",
       "    <tr>\n",
       "      <th>1</th>\n",
       "      <td>12/8/2023</td>\n",
       "      <td>6_2</td>\n",
       "      <td>2</td>\n",
       "      <td>6.73198</td>\n",
       "      <td>3.30079</td>\n",
       "      <td>5.88365</td>\n",
       "      <td>2.0286</td>\n",
       "      <td>1</td>\n",
       "      <td>40</td>\n",
       "      <td>NaN</td>\n",
       "      <td>L4</td>\n",
       "      <td>NaN</td>\n",
       "      <td>2</td>\n",
       "      <td>48.5569</td>\n",
       "      <td>0.557206</td>\n",
       "      <td>0.904269</td>\n",
       "      <td>0.721125</td>\n",
       "    </tr>\n",
       "    <tr>\n",
       "      <th>1</th>\n",
       "      <td>12/8/2023</td>\n",
       "      <td>6_2</td>\n",
       "      <td>2</td>\n",
       "      <td>5.62968</td>\n",
       "      <td>3.08529</td>\n",
       "      <td>6.32905</td>\n",
       "      <td>2.2135</td>\n",
       "      <td>1</td>\n",
       "      <td>50</td>\n",
       "      <td>NaN</td>\n",
       "      <td>L4</td>\n",
       "      <td>NaN</td>\n",
       "      <td>2</td>\n",
       "      <td>48.4140</td>\n",
       "      <td>0.550671</td>\n",
       "      <td>0.997018</td>\n",
       "      <td>0.555322</td>\n",
       "    </tr>\n",
       "    <tr>\n",
       "      <th>1</th>\n",
       "      <td>12/8/2023</td>\n",
       "      <td>6_2</td>\n",
       "      <td>2</td>\n",
       "      <td>4.81477</td>\n",
       "      <td>2.76664</td>\n",
       "      <td>5.33929</td>\n",
       "      <td>2.1834</td>\n",
       "      <td>1</td>\n",
       "      <td>60</td>\n",
       "      <td>NaN</td>\n",
       "      <td>L4</td>\n",
       "      <td>NaN</td>\n",
       "      <td>2</td>\n",
       "      <td>48.4789</td>\n",
       "      <td>0.547845</td>\n",
       "      <td>1.155079</td>\n",
       "      <td>0.691395</td>\n",
       "    </tr>\n",
       "    <tr>\n",
       "      <th>1</th>\n",
       "      <td>12/8/2023</td>\n",
       "      <td>6_2</td>\n",
       "      <td>2</td>\n",
       "      <td>4.08418</td>\n",
       "      <td>2.51885</td>\n",
       "      <td>6.58491</td>\n",
       "      <td>2.3080</td>\n",
       "      <td>1</td>\n",
       "      <td>70</td>\n",
       "      <td>NaN</td>\n",
       "      <td>L4</td>\n",
       "      <td>NaN</td>\n",
       "      <td>2</td>\n",
       "      <td>48.5104</td>\n",
       "      <td>0.550422</td>\n",
       "      <td>1.179809</td>\n",
       "      <td>0.675306</td>\n",
       "    </tr>\n",
       "  </tbody>\n",
       "</table>\n",
       "<p>118 rows × 17 columns</p>\n",
       "</div>"
      ],
      "text/plain": [
       "         Date Slice_Loc  ROI      SNR      Amp  Halfwidth  Latency  Pulse  \\\n",
       "1   12/8/2023       3_2    2  5.27212  2.46748    4.47188   3.1563      1   \n",
       "1   12/8/2023       3_2    2  5.43864  2.66691    5.44523   3.1951      1   \n",
       "1   12/8/2023       3_2    2  5.60122  2.70548    5.09992   3.0578      1   \n",
       "1   12/8/2023       3_2    2  5.48550  2.87610    5.19859   3.2336      1   \n",
       "1   12/8/2023       3_2    2  5.47581  3.00279    5.67457   3.1891      1   \n",
       "..        ...       ...  ...      ...      ...        ...      ...    ...   \n",
       "1   12/8/2023       6_2    2  7.43174  3.46140    5.42646   2.0206      1   \n",
       "1   12/8/2023       6_2    2  6.73198  3.30079    5.88365   2.0286      1   \n",
       "1   12/8/2023       6_2    2  5.62968  3.08529    6.32905   2.2135      1   \n",
       "1   12/8/2023       6_2    2  4.81477  2.76664    5.33929   2.1834      1   \n",
       "1   12/8/2023       6_2    2  4.08418  2.51885    6.58491   2.3080      1   \n",
       "\n",
       "    IPI Medial Dir Stim Layer Caudal/Rostral  Home Barrel  Actual Stim  \\\n",
       "1    20         up       L2/3         Caudal            2      48.4439   \n",
       "1    30         up       L2/3         Caudal            2      48.3476   \n",
       "1    40         up       L2/3         Caudal            2      48.5474   \n",
       "1    50         up       L2/3         Caudal            2      48.3428   \n",
       "1    60         up       L2/3         Caudal            2      48.4366   \n",
       "..  ...        ...        ...            ...          ...          ...   \n",
       "1    30        NaN         L4            NaN            2      48.3878   \n",
       "1    40        NaN         L4            NaN            2      48.5569   \n",
       "1    50        NaN         L4            NaN            2      48.4140   \n",
       "1    60        NaN         L4            NaN            2      48.4789   \n",
       "1    70        NaN         L4            NaN            2      48.5104   \n",
       "\n",
       "         PPR       PPL      PPHW  \n",
       "1   0.758644  0.815892  0.852114  \n",
       "1   0.616852  0.891021  0.653385  \n",
       "1   0.662600  0.949310  0.683699  \n",
       "1   0.629731  0.921110  0.644102  \n",
       "1   0.583807  0.962340  0.702125  \n",
       "..       ...       ...       ...  \n",
       "1   0.574253  0.804662  0.668915  \n",
       "1   0.557206  0.904269  0.721125  \n",
       "1   0.550671  0.997018  0.555322  \n",
       "1   0.547845  1.155079  0.691395  \n",
       "1   0.550422  1.179809  0.675306  \n",
       "\n",
       "[118 rows x 17 columns]"
      ]
     },
     "execution_count": 22,
     "metadata": {},
     "output_type": "execute_result"
    }
   ],
   "source": [
    "amps1 = []\n",
    "amps2 = []\n",
    "ipis = []\n",
    "# Now compute PPR = Amp(pulse 2) / Amp(pulse 1). \n",
    "for date in pre_filter_snr['Date'].unique():\n",
    "    pfs_date = pre_filter_snr[pre_filter_snr[\"Date\"] == date]\n",
    "    for slic_loc in pfs_date['Slice_Loc'].unique():\n",
    "        pfs_sl = pfs_date[pfs_date[\"Slice_Loc\"] == slic_loc]\n",
    "        for roi in pfs_sl['ROI'].unique():\n",
    "            pfs_roi = pfs_sl[pfs_sl['ROI'] == roi]\n",
    "            for ipi in pfs_roi['IPI'].unique():\n",
    "                pfs_ipi = pfs_roi[pfs_roi['IPI'] == ipi]\n",
    "                assert len(pfs_ipi) == 2  # should always be exactly 2 (otherwise can't compute PPR)\n",
    "\n",
    "                amp1 = pfs_ipi[pfs_ipi['Pulse'] == 1]['Amp'].item()\n",
    "                lat1 = pfs_ipi[pfs_ipi['Pulse'] == 1]['Latency'].item()\n",
    "                hw1 = pfs_ipi[pfs_ipi['Pulse'] == 1]['Halfwidth'].item()\n",
    "\n",
    "                # Compute PPR = Amp(pulse 2) / Amp(pulse 1)\n",
    "                ppr = None\n",
    "                if amp1 != 0:\n",
    "                    amp2 = pfs_ipi[pfs_ipi['Pulse'] == 2]['Amp'].item()\n",
    "                    ppr = amp2 / amp1\n",
    "                if ppr is not None and 0 < ppr < 2:\n",
    "                    pre_filter_snr.loc[(pre_filter_snr['Date'] == date) &\n",
    "                                   (pre_filter_snr['Slice_Loc'] == slic_loc) &\n",
    "                                   (pre_filter_snr['ROI'] == roi) & \n",
    "                                   (pre_filter_snr['IPI'] == ipi), \n",
    "                                       'PPR'] = ppr\n",
    "                    amps1.append(amp1)\n",
    "                    amps2.append(amp2)\n",
    "                    ipis.append(ipi)\n",
    "                \n",
    "                # Compute PPL = Latency(pulse 2) / Latency(pulse 1)\n",
    "                ppl = None\n",
    "                if lat1 != 0:\n",
    "                    lat2 = pfs_ipi[pfs_ipi['Pulse'] == 2]['Latency'].item()\n",
    "                    ppl = lat2 / lat1\n",
    "                if ppl is not None and 0 < ppl:\n",
    "                    pre_filter_snr.loc[(pre_filter_snr['Date'] == date) &\n",
    "                                   (pre_filter_snr['Slice_Loc'] == slic_loc) &\n",
    "                                   (pre_filter_snr['ROI'] == roi) & \n",
    "                                   (pre_filter_snr['IPI'] == ipi), \n",
    "                                       'PPL'] = ppl\n",
    "                    \n",
    "                # Compute PPHW = Halfwidth(pulse 2) / Halfwidth(pulse 1)\n",
    "                pphw = None\n",
    "                if hw1 != 0:\n",
    "                    hw2 = pfs_ipi[pfs_ipi['Pulse'] == 2]['Halfwidth'].item()\n",
    "                    pphw = hw2 / hw1\n",
    "                if pphw is not None and 0 < pphw:\n",
    "                    pre_filter_snr.loc[(pre_filter_snr['Date'] == date) &\n",
    "                                   (pre_filter_snr['Slice_Loc'] == slic_loc) &\n",
    "                                   (pre_filter_snr['ROI'] == roi) & \n",
    "                                   (pre_filter_snr['IPI'] == ipi), \n",
    "                                       'PPHW'] = pphw\n",
    "\n",
    "pre_filter_snr[\"PPR\"] = pd.to_numeric(pre_filter_snr[\"PPR\"])\n",
    "pre_filter_snr[\"PPL\"] = pd.to_numeric(pre_filter_snr[\"PPL\"])\n",
    "pre_filter_snr[\"PPHW\"] = pd.to_numeric(pre_filter_snr[\"PPHW\"])\n",
    "# write to csv\n",
    "csv_filename = 'scnn1a-ppr-output.csv'\n",
    "pre_filter_snr.to_csv(data_dir + csv_filename, index=False)\n",
    "\n",
    "# now some filtering\n",
    "all_snr = pre_filter_snr[pre_filter_snr['SNR'] > snr_cutoff_signal]\n",
    "all_snr = all_snr[all_snr['Halfwidth'] > 0.5]\n",
    "all_snr = all_snr[all_snr['Halfwidth'] < 13]\n",
    "all_snr = all_snr[all_snr['Latency'] < 15]\n",
    "all_snr = all_snr[all_snr['Latency'] > 0]\n",
    "all_snr = all_snr[all_snr['Amp'] > amp_cutoff]\n",
    "all_snr = all_snr[all_snr['IPI'] < 140]  # 140 ms IPI cannot be measured properly with this setup\n",
    "#all_snr = all_snr[all_snr['Date'] != '12/8/2023']  # exclude due to faulty baseline correction\n",
    "\n",
    "all_snr"
   ]
  },
  {
   "cell_type": "code",
   "execution_count": 23,
   "id": "2fc5138f",
   "metadata": {},
   "outputs": [
    {
     "data": {
      "image/png": "[encoded data removed]",
      "text/plain": [
       "<Figure size 432x288 with 1 Axes>"
      ]
     },
     "metadata": {
      "needs_background": "light"
     },
     "output_type": "display_data"
    },
    {
     "data": {
      "image/png": "[encoded data removed]",
      "text/plain": [
       "<Figure size 432x288 with 1 Axes>"
      ]
     },
     "metadata": {
      "needs_background": "light"
     },
     "output_type": "display_data"
    },
    {
     "data": {
      "image/png": "[encoded data removed]",
      "text/plain": [
       "<Figure size 432x288 with 1 Axes>"
      ]
     },
     "metadata": {
      "needs_background": "light"
     },
     "output_type": "display_data"
    },
    {
     "data": {
      "image/png": "[encoded data removed]",
      "text/plain": [
       "<Figure size 432x288 with 1 Axes>"
      ]
     },
     "metadata": {
      "needs_background": "light"
     },
     "output_type": "display_data"
    },
    {
     "data": {
      "image/png": "[encoded data removed]",
      "text/plain": [
       "<Figure size 432x288 with 1 Axes>"
      ]
     },
     "metadata": {
      "needs_background": "light"
     },
     "output_type": "display_data"
    },
    {
     "data": {
      "image/png": "[encoded data removed]",
      "text/plain": [
       "<Figure size 432x288 with 1 Axes>"
      ]
     },
     "metadata": {
      "needs_background": "light"
     },
     "output_type": "display_data"
    },
    {
     "data": {
      "image/png": "[encoded data removed]",
      "text/plain": [
       "<Figure size 432x288 with 1 Axes>"
      ]
     },
     "metadata": {
      "needs_background": "light"
     },
     "output_type": "display_data"
    },
    {
     "data": {
      "image/png": "[encoded data removed]",
      "text/plain": [
       "<Figure size 432x288 with 1 Axes>"
      ]
     },
     "metadata": {
      "needs_background": "light"
     },
     "output_type": "display_data"
    },
    {
     "data": {
      "image/png": "[encoded data removed]",
      "text/plain": [
       "<Figure size 432x288 with 1 Axes>"
      ]
     },
     "metadata": {
      "needs_background": "light"
     },
     "output_type": "display_data"
    },
    {
     "data": {
      "image/png": "[encoded data removed]",
      "text/plain": [
       "<Figure size 432x288 with 1 Axes>"
      ]
     },
     "metadata": {
      "needs_background": "light"
     },
     "output_type": "display_data"
    },
    {
     "data": {
      "image/png": "[encoded data removed]",
      "text/plain": [
       "<Figure size 432x288 with 1 Axes>"
      ]
     },
     "metadata": {
      "needs_background": "light"
     },
     "output_type": "display_data"
    },
    {
     "data": {
      "image/png": "[encoded data removed]",
      "text/plain": [
       "<Figure size 432x288 with 1 Axes>"
      ]
     },
     "metadata": {
      "needs_background": "light"
     },
     "output_type": "display_data"
    },
    {
     "data": {
      "image/png": "[encoded data removed]",
      "text/plain": [
       "<Figure size 432x288 with 1 Axes>"
      ]
     },
     "metadata": {
      "needs_background": "light"
     },
     "output_type": "display_data"
    },
    {
     "data": {
      "image/png": "[encoded data removed]",
      "text/plain": [
       "<Figure size 432x288 with 1 Axes>"
      ]
     },
     "metadata": {
      "needs_background": "light"
     },
     "output_type": "display_data"
    },
    {
     "data": {
      "image/png": "[encoded data removed]",
      "text/plain": [
       "<Figure size 432x288 with 1 Axes>"
      ]
     },
     "metadata": {
      "needs_background": "light"
     },
     "output_type": "display_data"
    },
    {
     "data": {
      "image/png": "[encoded data removed]",
      "text/plain": [
       "<Figure size 432x288 with 1 Axes>"
      ]
     },
     "metadata": {
      "needs_background": "light"
     },
     "output_type": "display_data"
    },
    {
     "data": {
      "image/png": "[encoded data removed]",
      "text/plain": [
       "<Figure size 432x288 with 1 Axes>"
      ]
     },
     "metadata": {
      "needs_background": "light"
     },
     "output_type": "display_data"
    },
    {
     "data": {
      "image/png": "[encoded data removed]",
      "text/plain": [
       "<Figure size 432x288 with 1 Axes>"
      ]
     },
     "metadata": {
      "needs_background": "light"
     },
     "output_type": "display_data"
    },
    {
     "data": {
      "image/png": "[encoded data removed]",
      "text/plain": [
       "<Figure size 432x288 with 1 Axes>"
      ]
     },
     "metadata": {
      "needs_background": "light"
     },
     "output_type": "display_data"
    },
    {
     "data": {
      "image/png": "[encoded data removed]",
      "text/plain": [
       "<Figure size 432x288 with 1 Axes>"
      ]
     },
     "metadata": {
      "needs_background": "light"
     },
     "output_type": "display_data"
    },
    {
     "data": {
      "image/png": "[encoded data removed]",
      "text/plain": [
       "<Figure size 432x288 with 1 Axes>"
      ]
     },
     "metadata": {
      "needs_background": "light"
     },
     "output_type": "display_data"
    },
    {
     "data": {
      "image/png": "[encoded data removed]",
      "text/plain": [
       "<Figure size 432x288 with 1 Axes>"
      ]
     },
     "metadata": {
      "needs_background": "light"
     },
     "output_type": "display_data"
    },
    {
     "data": {
      "image/png": "[encoded data removed]",
      "text/plain": [
       "<Figure size 432x288 with 1 Axes>"
      ]
     },
     "metadata": {
      "needs_background": "light"
     },
     "output_type": "display_data"
    },
    {
     "data": {
      "image/png": "[encoded data removed]",
      "text/plain": [
       "<Figure size 432x288 with 1 Axes>"
      ]
     },
     "metadata": {
      "needs_background": "light"
     },
     "output_type": "display_data"
    }
   ],
   "source": [
    "# for each date, slice/loc, and ROI, plot PPR vs IPI\n",
    "for date in all_snr['Date'].unique():\n",
    "    pfs_date = all_snr[all_snr[\"Date\"] == date]\n",
    "    for slic_loc in pfs_date['Slice_Loc'].unique():\n",
    "        pfs_sl = pfs_date[pfs_date[\"Slice_Loc\"] == slic_loc]\n",
    "        for roi in pfs_sl['ROI'].unique():\n",
    "            pfs_roi = pfs_sl[pfs_sl['ROI'] == roi]\n",
    "            plt.scatter(pfs_roi['IPI'], pfs_roi['PPR'])\n",
    "            plt.title(date + \" \" + slic_loc + \" ROI \" + str(roi))\n",
    "            plt.show()\n",
    "            plt.scatter(pfs_roi['IPI'], pfs_roi['PPL'], c='r')\n",
    "            plt.title(date + \" \" + slic_loc + \" ROI \" + str(roi))\n",
    "            plt.show()\n",
    "            plt.scatter(pfs_roi['IPI'], pfs_roi['PPHW'], c='g')\n",
    "            plt.title(date + \" \" + slic_loc + \" ROI \" + str(roi))\n",
    "            plt.show()"
   ]
  },
  {
   "cell_type": "code",
   "execution_count": 24,
   "id": "bb79f30c",
   "metadata": {},
   "outputs": [
    {
     "data": {
      "image/png": "[encoded data removed]",
      "text/plain": [
       "<Figure size 432x288 with 1 Axes>"
      ]
     },
     "metadata": {
      "needs_background": "light"
     },
     "output_type": "display_data"
    },
    {
     "data": {
      "image/png": "[encoded data removed]",
      "text/plain": [
       "<Figure size 432x288 with 1 Axes>"
      ]
     },
     "metadata": {
      "needs_background": "light"
     },
     "output_type": "display_data"
    },
    {
     "data": {
      "image/png": "[encoded data removed]",
      "text/plain": [
       "<Figure size 432x288 with 1 Axes>"
      ]
     },
     "metadata": {
      "needs_background": "light"
     },
     "output_type": "display_data"
    },
    {
     "data": {
      "image/png": "[encoded data removed]",
      "text/plain": [
       "<Figure size 432x288 with 1 Axes>"
      ]
     },
     "metadata": {
      "needs_background": "light"
     },
     "output_type": "display_data"
    },
    {
     "data": {
      "image/png": "[encoded data removed]",
      "text/plain": [
       "<Figure size 432x288 with 1 Axes>"
      ]
     },
     "metadata": {
      "needs_background": "light"
     },
     "output_type": "display_data"
    },
    {
     "data": {
      "image/png": "[encoded data removed]",
      "text/plain": [
       "<Figure size 432x288 with 1 Axes>"
      ]
     },
     "metadata": {
      "needs_background": "light"
     },
     "output_type": "display_data"
    }
   ],
   "source": [
    "# average grouping by IPI\n",
    "for pp_type, color in [['PPR', 'b'], ['PPL', 'r'], ['PPHW', 'g']]:\n",
    "    group_by_ipi = all_snr[['IPI', pp_type]].groupby(by=['IPI']).mean()\n",
    "    group_by_ipi_std = all_snr[['IPI', pp_type]].groupby(by=['IPI']).agg(np.std)\n",
    "    group_by_ipi.reset_index(inplace=True)\n",
    "    \n",
    "    \n",
    "\n",
    "    # plot average PPR vs IPI\n",
    "    plt.scatter(group_by_ipi['IPI'], group_by_ipi[pp_type], c=color)\n",
    "    plt.title(\"Paired Pulse Depression: Home and Neighbor\")\n",
    "    plt.xlabel(\"IPI (ms)\")\n",
    "    plt.ylabel(pp_type)\n",
    "    plt.show()\n",
    "    plt.scatter(all_snr['IPI'], all_snr[pp_type], alpha=0.2, c=color)\n",
    "    plt.xlabel(\"IPI (ms)\")\n",
    "    plt.ylabel(pp_type)\n",
    "    plt.title(\"All data (Home and Neighbor)\")\n",
    "    plt.show()"
   ]
  },
  {
   "cell_type": "code",
   "execution_count": 25,
   "id": "7943d448",
   "metadata": {
    "scrolled": true
   },
   "outputs": [
    {
     "name": "stdout",
     "output_type": "stream",
     "text": [
      "     PPR\n",
      "IPI     \n",
      "5      7\n",
      "10     8\n",
      "20     8\n",
      "30     7\n",
      "40     6\n",
      "50     6\n",
      "60     6\n",
      "70     7\n",
      "80     7\n",
      "90     8\n",
      "100    8\n",
      "110    7\n",
      "120    8\n",
      "130    6\n",
      "i= 0\n",
      "5\n",
      "p_val for IPI 10 : 3.499262852809432e-07\n",
      "p_val for IPI 20 : 4.881072372111939e-06\n",
      "p_val for IPI 30 : 1.2126658948097647e-09\n",
      "p_val for IPI 40 : 5.9914524625066665e-05\n",
      "p_val for IPI 50 : 0.00012144075252369524\n",
      "p_val for IPI 60 : 0.0003581820324181082\n",
      "p_val for IPI 70 : 3.5111662214529505e-08\n",
      "p_val for IPI 80 : 0.00011236085528281331\n",
      "p_val for IPI 90 : 5.770674321897844e-10\n",
      "p_val for IPI 100 : 4.459591231102506e-05\n",
      "p_val for IPI 110 : 0.000314412218509768\n",
      "p_val for IPI 120 : 2.7655268436851053e-06\n",
      "p_val for IPI 130 : 0.001173396804249497\n",
      "[None, '***', '***', '***', '***', '***', '***', '***', '***', '***', '***', '***', '***', '**']\n"
     ]
    },
    {
     "data": {
      "image/png": "[encoded data removed]",
      "text/plain": [
       "<Figure size 432x288 with 1 Axes>"
      ]
     },
     "metadata": {
      "needs_background": "light"
     },
     "output_type": "display_data"
    },
    {
     "name": "stdout",
     "output_type": "stream",
     "text": [
      "     PPR\n",
      "IPI     \n",
      "10     1\n",
      "20     1\n",
      "30     2\n",
      "40     2\n",
      "50     1\n",
      "60     1\n",
      "70     1\n",
      "80     1\n",
      "90     1\n",
      "100    2\n",
      "110    1\n",
      "120    2\n",
      "130    3\n",
      "i= 1\n",
      "110\n",
      "p_val for IPI 10 : nan\n",
      "p_val for IPI 20 : nan\n",
      "p_val for IPI 30 : nan\n",
      "p_val for IPI 40 : nan\n",
      "p_val for IPI 50 : nan\n",
      "p_val for IPI 60 : nan\n",
      "p_val for IPI 70 : nan\n",
      "p_val for IPI 80 : nan\n",
      "p_val for IPI 90 : nan\n",
      "p_val for IPI 100 : nan\n",
      "p_val for IPI 120 : nan\n",
      "p_val for IPI 130 : nan\n",
      "[None, None, None, None, None, None, None, None, None, None, None, None, None]\n"
     ]
    },
    {
     "name": "stderr",
     "output_type": "stream",
     "text": [
      "c:\\Users\\jjudge3\\AppData\\Local\\anaconda3\\envs\\TSM-to-ZDA\\lib\\site-packages\\numpy\\core\\fromnumeric.py:3702: RuntimeWarning: Degrees of freedom <= 0 for slice\n",
      "  return _methods._var(a, axis=axis, dtype=dtype, out=out, ddof=ddof,\n",
      "c:\\Users\\jjudge3\\AppData\\Local\\anaconda3\\envs\\TSM-to-ZDA\\lib\\site-packages\\numpy\\core\\_methods.py:253: RuntimeWarning: invalid value encountered in double_scalars\n",
      "  ret = ret.dtype.type(ret / rcount)\n",
      "c:\\Users\\jjudge3\\AppData\\Local\\anaconda3\\envs\\TSM-to-ZDA\\lib\\site-packages\\numpy\\core\\fromnumeric.py:3702: RuntimeWarning: Degrees of freedom <= 0 for slice\n",
      "  return _methods._var(a, axis=axis, dtype=dtype, out=out, ddof=ddof,\n",
      "c:\\Users\\jjudge3\\AppData\\Local\\anaconda3\\envs\\TSM-to-ZDA\\lib\\site-packages\\numpy\\core\\_methods.py:253: RuntimeWarning: invalid value encountered in double_scalars\n",
      "  ret = ret.dtype.type(ret / rcount)\n",
      "c:\\Users\\jjudge3\\AppData\\Local\\anaconda3\\envs\\TSM-to-ZDA\\lib\\site-packages\\numpy\\core\\fromnumeric.py:3702: RuntimeWarning: Degrees of freedom <= 0 for slice\n",
      "  return _methods._var(a, axis=axis, dtype=dtype, out=out, ddof=ddof,\n",
      "c:\\Users\\jjudge3\\AppData\\Local\\anaconda3\\envs\\TSM-to-ZDA\\lib\\site-packages\\numpy\\core\\_methods.py:253: RuntimeWarning: invalid value encountered in double_scalars\n",
      "  ret = ret.dtype.type(ret / rcount)\n",
      "c:\\Users\\jjudge3\\AppData\\Local\\anaconda3\\envs\\TSM-to-ZDA\\lib\\site-packages\\numpy\\core\\fromnumeric.py:3702: RuntimeWarning: Degrees of freedom <= 0 for slice\n",
      "  return _methods._var(a, axis=axis, dtype=dtype, out=out, ddof=ddof,\n",
      "c:\\Users\\jjudge3\\AppData\\Local\\anaconda3\\envs\\TSM-to-ZDA\\lib\\site-packages\\numpy\\core\\_methods.py:253: RuntimeWarning: invalid value encountered in double_scalars\n",
      "  ret = ret.dtype.type(ret / rcount)\n",
      "c:\\Users\\jjudge3\\AppData\\Local\\anaconda3\\envs\\TSM-to-ZDA\\lib\\site-packages\\numpy\\core\\fromnumeric.py:3702: RuntimeWarning: Degrees of freedom <= 0 for slice\n",
      "  return _methods._var(a, axis=axis, dtype=dtype, out=out, ddof=ddof,\n",
      "c:\\Users\\jjudge3\\AppData\\Local\\anaconda3\\envs\\TSM-to-ZDA\\lib\\site-packages\\numpy\\core\\_methods.py:253: RuntimeWarning: invalid value encountered in double_scalars\n",
      "  ret = ret.dtype.type(ret / rcount)\n",
      "c:\\Users\\jjudge3\\AppData\\Local\\anaconda3\\envs\\TSM-to-ZDA\\lib\\site-packages\\numpy\\core\\fromnumeric.py:3702: RuntimeWarning: Degrees of freedom <= 0 for slice\n",
      "  return _methods._var(a, axis=axis, dtype=dtype, out=out, ddof=ddof,\n",
      "c:\\Users\\jjudge3\\AppData\\Local\\anaconda3\\envs\\TSM-to-ZDA\\lib\\site-packages\\numpy\\core\\_methods.py:253: RuntimeWarning: invalid value encountered in double_scalars\n",
      "  ret = ret.dtype.type(ret / rcount)\n",
      "c:\\Users\\jjudge3\\AppData\\Local\\anaconda3\\envs\\TSM-to-ZDA\\lib\\site-packages\\numpy\\core\\fromnumeric.py:3702: RuntimeWarning: Degrees of freedom <= 0 for slice\n",
      "  return _methods._var(a, axis=axis, dtype=dtype, out=out, ddof=ddof,\n",
      "c:\\Users\\jjudge3\\AppData\\Local\\anaconda3\\envs\\TSM-to-ZDA\\lib\\site-packages\\numpy\\core\\_methods.py:253: RuntimeWarning: invalid value encountered in double_scalars\n",
      "  ret = ret.dtype.type(ret / rcount)\n",
      "c:\\Users\\jjudge3\\AppData\\Local\\anaconda3\\envs\\TSM-to-ZDA\\lib\\site-packages\\numpy\\core\\fromnumeric.py:3702: RuntimeWarning: Degrees of freedom <= 0 for slice\n",
      "  return _methods._var(a, axis=axis, dtype=dtype, out=out, ddof=ddof,\n",
      "c:\\Users\\jjudge3\\AppData\\Local\\anaconda3\\envs\\TSM-to-ZDA\\lib\\site-packages\\numpy\\core\\_methods.py:253: RuntimeWarning: invalid value encountered in double_scalars\n",
      "  ret = ret.dtype.type(ret / rcount)\n",
      "c:\\Users\\jjudge3\\AppData\\Local\\anaconda3\\envs\\TSM-to-ZDA\\lib\\site-packages\\numpy\\core\\fromnumeric.py:3702: RuntimeWarning: Degrees of freedom <= 0 for slice\n",
      "  return _methods._var(a, axis=axis, dtype=dtype, out=out, ddof=ddof,\n",
      "c:\\Users\\jjudge3\\AppData\\Local\\anaconda3\\envs\\TSM-to-ZDA\\lib\\site-packages\\numpy\\core\\_methods.py:253: RuntimeWarning: invalid value encountered in double_scalars\n",
      "  ret = ret.dtype.type(ret / rcount)\n",
      "c:\\Users\\jjudge3\\AppData\\Local\\anaconda3\\envs\\TSM-to-ZDA\\lib\\site-packages\\numpy\\core\\fromnumeric.py:3702: RuntimeWarning: Degrees of freedom <= 0 for slice\n",
      "  return _methods._var(a, axis=axis, dtype=dtype, out=out, ddof=ddof,\n",
      "c:\\Users\\jjudge3\\AppData\\Local\\anaconda3\\envs\\TSM-to-ZDA\\lib\\site-packages\\numpy\\core\\_methods.py:253: RuntimeWarning: invalid value encountered in double_scalars\n",
      "  ret = ret.dtype.type(ret / rcount)\n",
      "c:\\Users\\jjudge3\\AppData\\Local\\anaconda3\\envs\\TSM-to-ZDA\\lib\\site-packages\\numpy\\core\\fromnumeric.py:3702: RuntimeWarning: Degrees of freedom <= 0 for slice\n",
      "  return _methods._var(a, axis=axis, dtype=dtype, out=out, ddof=ddof,\n",
      "c:\\Users\\jjudge3\\AppData\\Local\\anaconda3\\envs\\TSM-to-ZDA\\lib\\site-packages\\numpy\\core\\_methods.py:253: RuntimeWarning: invalid value encountered in double_scalars\n",
      "  ret = ret.dtype.type(ret / rcount)\n",
      "c:\\Users\\jjudge3\\AppData\\Local\\anaconda3\\envs\\TSM-to-ZDA\\lib\\site-packages\\numpy\\core\\fromnumeric.py:3702: RuntimeWarning: Degrees of freedom <= 0 for slice\n",
      "  return _methods._var(a, axis=axis, dtype=dtype, out=out, ddof=ddof,\n",
      "c:\\Users\\jjudge3\\AppData\\Local\\anaconda3\\envs\\TSM-to-ZDA\\lib\\site-packages\\numpy\\core\\_methods.py:253: RuntimeWarning: invalid value encountered in double_scalars\n",
      "  ret = ret.dtype.type(ret / rcount)\n"
     ]
    },
    {
     "data": {
      "image/png": "[encoded data removed]",
      "text/plain": [
       "<Figure size 432x288 with 1 Axes>"
      ]
     },
     "metadata": {
      "needs_background": "light"
     },
     "output_type": "display_data"
    },
    {
     "name": "stdout",
     "output_type": "stream",
     "text": [
      "     PPL\n",
      "IPI     \n",
      "30     7\n",
      "40     6\n",
      "50     6\n",
      "60     6\n",
      "70     7\n",
      "80     7\n",
      "90     8\n",
      "100    8\n",
      "110    7\n",
      "120    8\n",
      "130    6\n",
      "i= 0\n",
      "30\n",
      "p_val for IPI 40 : 0.9469428846460773\n",
      "p_val for IPI 50 : 0.9871595008785773\n",
      "p_val for IPI 60 : 0.994574736699532\n",
      "p_val for IPI 70 : 0.9747372838754674\n",
      "p_val for IPI 80 : 0.999113680029144\n",
      "p_val for IPI 90 : 0.9979621567482149\n",
      "p_val for IPI 100 : 0.9465627967324213\n",
      "p_val for IPI 110 : 0.9933653615033824\n",
      "p_val for IPI 120 : 0.5235816368615828\n",
      "p_val for IPI 130 : 0.9096481799539311\n",
      "[None, None, None, None, None, None, None, None, None, None, None]\n"
     ]
    },
    {
     "data": {
      "image/png": "[encoded data removed]",
      "text/plain": [
       "<Figure size 432x288 with 1 Axes>"
      ]
     },
     "metadata": {
      "needs_background": "light"
     },
     "output_type": "display_data"
    },
    {
     "name": "stdout",
     "output_type": "stream",
     "text": [
      "     PPL\n",
      "IPI     \n",
      "30     2\n",
      "40     2\n",
      "50     1\n",
      "60     1\n",
      "70     1\n",
      "80     1\n",
      "90     1\n",
      "100    2\n",
      "110    1\n",
      "120    2\n",
      "130    3\n",
      "i= 1\n",
      "30\n",
      "p_val for IPI 40 : 0.7394508588303261\n",
      "p_val for IPI 50 : nan\n",
      "p_val for IPI 60 : nan\n",
      "p_val for IPI 70 : nan\n",
      "p_val for IPI 80 : nan\n",
      "p_val for IPI 90 : nan\n",
      "p_val for IPI 100 : 0.37172262230825404\n",
      "p_val for IPI 110 : nan\n",
      "p_val for IPI 120 : 0.21422000464406213\n",
      "p_val for IPI 130 : 0.7071500911328281\n",
      "[None, None, None, None, None, None, None, None, None, None, None]\n"
     ]
    },
    {
     "name": "stderr",
     "output_type": "stream",
     "text": [
      "c:\\Users\\jjudge3\\AppData\\Local\\anaconda3\\envs\\TSM-to-ZDA\\lib\\site-packages\\numpy\\core\\fromnumeric.py:3702: RuntimeWarning: Degrees of freedom <= 0 for slice\n",
      "  return _methods._var(a, axis=axis, dtype=dtype, out=out, ddof=ddof,\n",
      "c:\\Users\\jjudge3\\AppData\\Local\\anaconda3\\envs\\TSM-to-ZDA\\lib\\site-packages\\numpy\\core\\_methods.py:253: RuntimeWarning: invalid value encountered in double_scalars\n",
      "  ret = ret.dtype.type(ret / rcount)\n",
      "c:\\Users\\jjudge3\\AppData\\Local\\anaconda3\\envs\\TSM-to-ZDA\\lib\\site-packages\\numpy\\core\\fromnumeric.py:3702: RuntimeWarning: Degrees of freedom <= 0 for slice\n",
      "  return _methods._var(a, axis=axis, dtype=dtype, out=out, ddof=ddof,\n",
      "c:\\Users\\jjudge3\\AppData\\Local\\anaconda3\\envs\\TSM-to-ZDA\\lib\\site-packages\\numpy\\core\\_methods.py:253: RuntimeWarning: invalid value encountered in double_scalars\n",
      "  ret = ret.dtype.type(ret / rcount)\n",
      "c:\\Users\\jjudge3\\AppData\\Local\\anaconda3\\envs\\TSM-to-ZDA\\lib\\site-packages\\numpy\\core\\fromnumeric.py:3702: RuntimeWarning: Degrees of freedom <= 0 for slice\n",
      "  return _methods._var(a, axis=axis, dtype=dtype, out=out, ddof=ddof,\n",
      "c:\\Users\\jjudge3\\AppData\\Local\\anaconda3\\envs\\TSM-to-ZDA\\lib\\site-packages\\numpy\\core\\_methods.py:253: RuntimeWarning: invalid value encountered in double_scalars\n",
      "  ret = ret.dtype.type(ret / rcount)\n",
      "c:\\Users\\jjudge3\\AppData\\Local\\anaconda3\\envs\\TSM-to-ZDA\\lib\\site-packages\\numpy\\core\\fromnumeric.py:3702: RuntimeWarning: Degrees of freedom <= 0 for slice\n",
      "  return _methods._var(a, axis=axis, dtype=dtype, out=out, ddof=ddof,\n",
      "c:\\Users\\jjudge3\\AppData\\Local\\anaconda3\\envs\\TSM-to-ZDA\\lib\\site-packages\\numpy\\core\\_methods.py:253: RuntimeWarning: invalid value encountered in double_scalars\n",
      "  ret = ret.dtype.type(ret / rcount)\n",
      "c:\\Users\\jjudge3\\AppData\\Local\\anaconda3\\envs\\TSM-to-ZDA\\lib\\site-packages\\numpy\\core\\fromnumeric.py:3702: RuntimeWarning: Degrees of freedom <= 0 for slice\n",
      "  return _methods._var(a, axis=axis, dtype=dtype, out=out, ddof=ddof,\n",
      "c:\\Users\\jjudge3\\AppData\\Local\\anaconda3\\envs\\TSM-to-ZDA\\lib\\site-packages\\numpy\\core\\_methods.py:253: RuntimeWarning: invalid value encountered in double_scalars\n",
      "  ret = ret.dtype.type(ret / rcount)\n",
      "c:\\Users\\jjudge3\\AppData\\Local\\anaconda3\\envs\\TSM-to-ZDA\\lib\\site-packages\\numpy\\core\\fromnumeric.py:3702: RuntimeWarning: Degrees of freedom <= 0 for slice\n",
      "  return _methods._var(a, axis=axis, dtype=dtype, out=out, ddof=ddof,\n",
      "c:\\Users\\jjudge3\\AppData\\Local\\anaconda3\\envs\\TSM-to-ZDA\\lib\\site-packages\\numpy\\core\\_methods.py:253: RuntimeWarning: invalid value encountered in double_scalars\n",
      "  ret = ret.dtype.type(ret / rcount)\n"
     ]
    },
    {
     "data": {
      "image/png": "[encoded data removed]",
      "text/plain": [
       "<Figure size 432x288 with 1 Axes>"
      ]
     },
     "metadata": {
      "needs_background": "light"
     },
     "output_type": "display_data"
    },
    {
     "name": "stdout",
     "output_type": "stream",
     "text": [
      "     PPHW\n",
      "IPI      \n",
      "30      7\n",
      "40      6\n",
      "50      6\n",
      "60      6\n",
      "70      7\n",
      "80      7\n",
      "90      8\n",
      "100     8\n",
      "110     6\n",
      "120     8\n",
      "130     4\n",
      "i= 0\n",
      "30\n",
      "p_val for IPI 40 : 0.40391168808305955\n",
      "p_val for IPI 50 : 0.025232281570557985\n",
      "p_val for IPI 60 : 0.48239794226631594\n",
      "p_val for IPI 70 : 0.046379594152108385\n",
      "p_val for IPI 80 : 0.7637390166028609\n",
      "p_val for IPI 90 : 0.8890783803288781\n",
      "p_val for IPI 100 : 0.9906225097965882\n",
      "p_val for IPI 110 : nan\n",
      "p_val for IPI 120 : 0.9999472370148175\n",
      "p_val for IPI 130 : nan\n",
      "[None, None, '*', None, '*', None, None, None, None, None, None]\n"
     ]
    },
    {
     "data": {
      "image/png": "[encoded data removed]",
      "text/plain": [
       "<Figure size 432x288 with 1 Axes>"
      ]
     },
     "metadata": {
      "needs_background": "light"
     },
     "output_type": "display_data"
    },
    {
     "name": "stdout",
     "output_type": "stream",
     "text": [
      "     PPHW\n",
      "IPI      \n",
      "30      2\n",
      "40      2\n",
      "50      1\n",
      "60      1\n",
      "70      1\n",
      "80      1\n",
      "90      1\n",
      "100     1\n",
      "110     0\n",
      "120     0\n",
      "130     0\n",
      "i= 1\n",
      "30\n",
      "p_val for IPI 40 : 0.1718030292482862\n",
      "p_val for IPI 50 : nan\n",
      "p_val for IPI 60 : nan\n",
      "p_val for IPI 70 : nan\n",
      "p_val for IPI 80 : nan\n",
      "p_val for IPI 90 : nan\n",
      "p_val for IPI 100 : nan\n",
      "p_val for IPI 110 : nan\n",
      "p_val for IPI 120 : nan\n",
      "p_val for IPI 130 : nan\n",
      "[None, None, None, None, None, None, None, None, None, None, None]\n"
     ]
    },
    {
     "name": "stderr",
     "output_type": "stream",
     "text": [
      "c:\\Users\\jjudge3\\AppData\\Local\\anaconda3\\envs\\TSM-to-ZDA\\lib\\site-packages\\numpy\\core\\fromnumeric.py:3702: RuntimeWarning: Degrees of freedom <= 0 for slice\n",
      "  return _methods._var(a, axis=axis, dtype=dtype, out=out, ddof=ddof,\n",
      "c:\\Users\\jjudge3\\AppData\\Local\\anaconda3\\envs\\TSM-to-ZDA\\lib\\site-packages\\numpy\\core\\_methods.py:253: RuntimeWarning: invalid value encountered in double_scalars\n",
      "  ret = ret.dtype.type(ret / rcount)\n",
      "c:\\Users\\jjudge3\\AppData\\Local\\anaconda3\\envs\\TSM-to-ZDA\\lib\\site-packages\\numpy\\core\\fromnumeric.py:3702: RuntimeWarning: Degrees of freedom <= 0 for slice\n",
      "  return _methods._var(a, axis=axis, dtype=dtype, out=out, ddof=ddof,\n",
      "c:\\Users\\jjudge3\\AppData\\Local\\anaconda3\\envs\\TSM-to-ZDA\\lib\\site-packages\\numpy\\core\\_methods.py:253: RuntimeWarning: invalid value encountered in double_scalars\n",
      "  ret = ret.dtype.type(ret / rcount)\n",
      "c:\\Users\\jjudge3\\AppData\\Local\\anaconda3\\envs\\TSM-to-ZDA\\lib\\site-packages\\numpy\\core\\fromnumeric.py:3702: RuntimeWarning: Degrees of freedom <= 0 for slice\n",
      "  return _methods._var(a, axis=axis, dtype=dtype, out=out, ddof=ddof,\n",
      "c:\\Users\\jjudge3\\AppData\\Local\\anaconda3\\envs\\TSM-to-ZDA\\lib\\site-packages\\numpy\\core\\_methods.py:253: RuntimeWarning: invalid value encountered in double_scalars\n",
      "  ret = ret.dtype.type(ret / rcount)\n",
      "c:\\Users\\jjudge3\\AppData\\Local\\anaconda3\\envs\\TSM-to-ZDA\\lib\\site-packages\\numpy\\core\\fromnumeric.py:3702: RuntimeWarning: Degrees of freedom <= 0 for slice\n",
      "  return _methods._var(a, axis=axis, dtype=dtype, out=out, ddof=ddof,\n",
      "c:\\Users\\jjudge3\\AppData\\Local\\anaconda3\\envs\\TSM-to-ZDA\\lib\\site-packages\\numpy\\core\\_methods.py:253: RuntimeWarning: invalid value encountered in double_scalars\n",
      "  ret = ret.dtype.type(ret / rcount)\n",
      "c:\\Users\\jjudge3\\AppData\\Local\\anaconda3\\envs\\TSM-to-ZDA\\lib\\site-packages\\numpy\\core\\fromnumeric.py:3702: RuntimeWarning: Degrees of freedom <= 0 for slice\n",
      "  return _methods._var(a, axis=axis, dtype=dtype, out=out, ddof=ddof,\n",
      "c:\\Users\\jjudge3\\AppData\\Local\\anaconda3\\envs\\TSM-to-ZDA\\lib\\site-packages\\numpy\\core\\_methods.py:253: RuntimeWarning: invalid value encountered in double_scalars\n",
      "  ret = ret.dtype.type(ret / rcount)\n",
      "c:\\Users\\jjudge3\\AppData\\Local\\anaconda3\\envs\\TSM-to-ZDA\\lib\\site-packages\\numpy\\core\\fromnumeric.py:3702: RuntimeWarning: Degrees of freedom <= 0 for slice\n",
      "  return _methods._var(a, axis=axis, dtype=dtype, out=out, ddof=ddof,\n"
     ]
    },
    {
     "data": {
      "image/png": "[encoded data removed]",
      "text/plain": [
       "<Figure size 432x288 with 1 Axes>"
      ]
     },
     "metadata": {
      "needs_background": "light"
     },
     "output_type": "display_data"
    }
   ],
   "source": [
    "# home barrel or neighboring barrel\n",
    "plt.rcParams.update({'font.size': 16})\n",
    "\n",
    "home_barrel_df = all_snr.query('`Home Barrel` == ROI')\n",
    "neighbor_barrel_df = all_snr.query('`Home Barrel` != ROI')\n",
    "titles = ['Home Barrel', 'Neighbor Barrel']\n",
    "\n",
    "for pp_type, color in [['PPR', 'b'], ['PPL', 'r'], ['PPHW', 'g']]:\n",
    "    i = 0\n",
    "    for barrel_df in [home_barrel_df, neighbor_barrel_df]:\n",
    "        \n",
    "        if pp_type in ['PPL', 'PPHW']:\n",
    "            barrel_df = barrel_df[barrel_df['IPI'] > 20]\n",
    "        group_by_ipi = barrel_df[['IPI', pp_type]].groupby(by=['IPI']).mean()\n",
    "        group_by_ipi_std = barrel_df[['IPI', pp_type]].groupby(by=['IPI']).agg(np.std) / np.sqrt(barrel_df[['IPI', pp_type]].groupby(by=['IPI']).count())\n",
    "        group_by_ipi.reset_index(inplace=True)\n",
    "\n",
    "        count_by_ipi = barrel_df[['IPI', pp_type]].groupby(by=['IPI']).count()\n",
    "        print(count_by_ipi)\n",
    "\n",
    "        # significance tests against the first IPI\n",
    "        first_ipi = np.min(group_by_ipi['IPI'])\n",
    "        pvals = []\n",
    "        print(\"i=\", i)\n",
    "        if pp_type == 'PPR' and titles[i] == 'Neighbor Barrel':\n",
    "            first_ipi = 110\n",
    "        print(first_ipi)\n",
    "        \n",
    "        first_ipi_data = barrel_df[barrel_df['IPI'] == first_ipi][pp_type]\n",
    "        for ipi in group_by_ipi['IPI']:\n",
    "            if ipi == first_ipi:\n",
    "                pvals.append(1)\n",
    "                continue\n",
    "            ipi_data = barrel_df[barrel_df['IPI'] == ipi][pp_type]\n",
    "            \n",
    "            # Welch's (one-sided) t-test if ipi_data is less than first_ipi_data\n",
    "            t_stat, p_val = ttest_ind(ipi_data, first_ipi_data, alternative='less', equal_var=False)\n",
    "            print(\"p_val for IPI\", ipi, \":\", p_val)\n",
    "            pvals.append(p_val)\n",
    "\n",
    "        def get_sig_level(x):\n",
    "            if x < 0.001:\n",
    "                return '***'\n",
    "            if x < 0.01:\n",
    "                return '**'\n",
    "            if x < 0.05:\n",
    "                return '*'\n",
    "        significance_levels = [get_sig_level(x) for x in pvals]\n",
    "        print(significance_levels)\n",
    "            \n",
    "\n",
    "        plt.scatter(group_by_ipi['IPI'], group_by_ipi[pp_type], c=color)\n",
    "        plt.errorbar(group_by_ipi['IPI'], group_by_ipi[pp_type], \n",
    "                     group_by_ipi_std[pp_type], ls='none', c=color)\n",
    "        y_label = pp_type\n",
    "        if pp_type == 'PPL':\n",
    "            y_label = \"Paired-pulse ratio\\n of Latency\"\n",
    "        if pp_type == 'PPHW':\n",
    "            y_label = \"Paired-pulse ratio\\n of Half-width\"\n",
    "        # plt.title(\"Paired Pulse Depression in \" + titles[i])\n",
    "        \n",
    "        # place significance levels on plot\n",
    "        for j, txt in enumerate(significance_levels):\n",
    "            plt.annotate(txt, (group_by_ipi['IPI'].iloc[j], min(0.95, group_by_ipi[pp_type].iloc[j] + 0.25)), fontsize=12)\n",
    "\n",
    "        plt.xlabel(\"IPI (ms)\")\n",
    "        #plt.xticks([])\n",
    "        plt.ylabel(y_label)\n",
    "        plt.show()\n",
    "        i += 1"
   ]
  },
  {
   "cell_type": "code",
   "execution_count": 26,
   "id": "4d1eaa7f",
   "metadata": {},
   "outputs": [
    {
     "name": "stdout",
     "output_type": "stream",
     "text": [
      "p_val for IPI 30 : 0.12107702954125943\n",
      "p_val for IPI 40 : 0.012332255973676352\n",
      "p_val for IPI 50 : nan\n",
      "p_val for IPI 60 : nan\n",
      "p_val for IPI 70 : nan\n",
      "p_val for IPI 80 : nan\n",
      "p_val for IPI 90 : nan\n",
      "p_val for IPI 100 : 0.5821841606856758\n",
      "p_val for IPI 110 : nan\n",
      "p_val for IPI 120 : 0.05075532076557369\n",
      "p_val for IPI 130 : 0.276290636070835\n",
      "[None, '*', None, None, None, None, None, None, None, None, None]\n"
     ]
    },
    {
     "name": "stderr",
     "output_type": "stream",
     "text": [
      "c:\\Users\\jjudge3\\AppData\\Local\\anaconda3\\envs\\TSM-to-ZDA\\lib\\site-packages\\numpy\\core\\fromnumeric.py:3702: RuntimeWarning: Degrees of freedom <= 0 for slice\n",
      "  return _methods._var(a, axis=axis, dtype=dtype, out=out, ddof=ddof,\n",
      "c:\\Users\\jjudge3\\AppData\\Local\\anaconda3\\envs\\TSM-to-ZDA\\lib\\site-packages\\numpy\\core\\_methods.py:253: RuntimeWarning: invalid value encountered in double_scalars\n",
      "  ret = ret.dtype.type(ret / rcount)\n",
      "c:\\Users\\jjudge3\\AppData\\Local\\anaconda3\\envs\\TSM-to-ZDA\\lib\\site-packages\\numpy\\core\\fromnumeric.py:3702: RuntimeWarning: Degrees of freedom <= 0 for slice\n",
      "  return _methods._var(a, axis=axis, dtype=dtype, out=out, ddof=ddof,\n",
      "c:\\Users\\jjudge3\\AppData\\Local\\anaconda3\\envs\\TSM-to-ZDA\\lib\\site-packages\\numpy\\core\\_methods.py:253: RuntimeWarning: invalid value encountered in double_scalars\n",
      "  ret = ret.dtype.type(ret / rcount)\n",
      "c:\\Users\\jjudge3\\AppData\\Local\\anaconda3\\envs\\TSM-to-ZDA\\lib\\site-packages\\numpy\\core\\fromnumeric.py:3702: RuntimeWarning: Degrees of freedom <= 0 for slice\n",
      "  return _methods._var(a, axis=axis, dtype=dtype, out=out, ddof=ddof,\n",
      "c:\\Users\\jjudge3\\AppData\\Local\\anaconda3\\envs\\TSM-to-ZDA\\lib\\site-packages\\numpy\\core\\_methods.py:253: RuntimeWarning: invalid value encountered in double_scalars\n",
      "  ret = ret.dtype.type(ret / rcount)\n",
      "c:\\Users\\jjudge3\\AppData\\Local\\anaconda3\\envs\\TSM-to-ZDA\\lib\\site-packages\\numpy\\core\\fromnumeric.py:3702: RuntimeWarning: Degrees of freedom <= 0 for slice\n",
      "  return _methods._var(a, axis=axis, dtype=dtype, out=out, ddof=ddof,\n",
      "c:\\Users\\jjudge3\\AppData\\Local\\anaconda3\\envs\\TSM-to-ZDA\\lib\\site-packages\\numpy\\core\\_methods.py:253: RuntimeWarning: invalid value encountered in double_scalars\n",
      "  ret = ret.dtype.type(ret / rcount)\n",
      "c:\\Users\\jjudge3\\AppData\\Local\\anaconda3\\envs\\TSM-to-ZDA\\lib\\site-packages\\numpy\\core\\fromnumeric.py:3702: RuntimeWarning: Degrees of freedom <= 0 for slice\n",
      "  return _methods._var(a, axis=axis, dtype=dtype, out=out, ddof=ddof,\n",
      "c:\\Users\\jjudge3\\AppData\\Local\\anaconda3\\envs\\TSM-to-ZDA\\lib\\site-packages\\numpy\\core\\_methods.py:253: RuntimeWarning: invalid value encountered in double_scalars\n",
      "  ret = ret.dtype.type(ret / rcount)\n",
      "c:\\Users\\jjudge3\\AppData\\Local\\anaconda3\\envs\\TSM-to-ZDA\\lib\\site-packages\\numpy\\core\\fromnumeric.py:3702: RuntimeWarning: Degrees of freedom <= 0 for slice\n",
      "  return _methods._var(a, axis=axis, dtype=dtype, out=out, ddof=ddof,\n",
      "c:\\Users\\jjudge3\\AppData\\Local\\anaconda3\\envs\\TSM-to-ZDA\\lib\\site-packages\\numpy\\core\\_methods.py:253: RuntimeWarning: invalid value encountered in double_scalars\n",
      "  ret = ret.dtype.type(ret / rcount)\n"
     ]
    }
   ],
   "source": [
    "# home barrel or neighboring barrel\n",
    "plt.rcParams.update({'font.size': 16})\n",
    "\n",
    "home_barrel_df = all_snr.query('`Home Barrel` == ROI')\n",
    "neighbor_barrel_df = all_snr.query('`Home Barrel` != ROI')\n",
    "pvals = []\n",
    "# significance tests: home versus neighbor\n",
    "for ipi in group_by_ipi['IPI']:\n",
    "    \n",
    "    # one-sided t-test if ipi_data is less than first_ipi_data\n",
    "    t_stat, p_val = ttest_ind(neighbor_barrel_df[neighbor_barrel_df['IPI'] == ipi][\"PPR\"],\n",
    "                              home_barrel_df[home_barrel_df['IPI'] == ipi][\"PPR\"],  \n",
    "                                alternative='less', \n",
    "                                equal_var=False)\n",
    "    print(\"p_val for IPI\", ipi, \":\", p_val)\n",
    "    pvals.append(p_val)\n",
    "\n",
    "def get_sig_level(x):\n",
    "    if x < 0.001:\n",
    "        return '***'\n",
    "    if x < 0.01:\n",
    "        return '**'\n",
    "    if x < 0.05:\n",
    "        return '*'\n",
    "significance_levels = [get_sig_level(x) for x in pvals]\n",
    "print(significance_levels)"
   ]
  },
  {
   "cell_type": "code",
   "execution_count": 27,
   "id": "cab05f07",
   "metadata": {},
   "outputs": [
    {
     "name": "stdout",
     "output_type": "stream",
     "text": [
      "58\n",
      "34\n"
     ]
    },
    {
     "data": {
      "image/png": "[encoded data removed]",
      "text/plain": [
       "<Figure size 432x288 with 1 Axes>"
      ]
     },
     "metadata": {
      "needs_background": "light"
     },
     "output_type": "display_data"
    },
    {
     "name": "stdout",
     "output_type": "stream",
     "text": [
      "(13,) (13,) (13,) (13,)\n"
     ]
    },
    {
     "data": {
      "image/png": "[encoded data removed]",
      "text/plain": [
       "<Figure size 432x288 with 1 Axes>"
      ]
     },
     "metadata": {
      "needs_background": "light"
     },
     "output_type": "display_data"
    },
    {
     "name": "stdout",
     "output_type": "stream",
     "text": [
      "58\n",
      "34\n"
     ]
    },
    {
     "data": {
      "image/png": "[encoded data removed]",
      "text/plain": [
       "<Figure size 432x288 with 1 Axes>"
      ]
     },
     "metadata": {
      "needs_background": "light"
     },
     "output_type": "display_data"
    },
    {
     "name": "stdout",
     "output_type": "stream",
     "text": [
      "(13,) (13,) (13,) (13,)\n"
     ]
    },
    {
     "data": {
      "image/png": "[encoded data removed]",
      "text/plain": [
       "<Figure size 432x288 with 1 Axes>"
      ]
     },
     "metadata": {
      "needs_background": "light"
     },
     "output_type": "display_data"
    },
    {
     "name": "stdout",
     "output_type": "stream",
     "text": [
      "58\n",
      "34\n"
     ]
    },
    {
     "data": {
      "image/png": "[encoded data removed]",
      "text/plain": [
       "<Figure size 432x288 with 1 Axes>"
      ]
     },
     "metadata": {
      "needs_background": "light"
     },
     "output_type": "display_data"
    },
    {
     "name": "stdout",
     "output_type": "stream",
     "text": [
      "(13,) (13,) (13,) (13,)\n"
     ]
    },
    {
     "data": {
      "image/png": "[encoded data removed]",
      "text/plain": [
       "<Figure size 432x288 with 1 Axes>"
      ]
     },
     "metadata": {
      "needs_background": "light"
     },
     "output_type": "display_data"
    },
    {
     "name": "stdout",
     "output_type": "stream",
     "text": [
      "17\n",
      "2\n"
     ]
    },
    {
     "name": "stderr",
     "output_type": "stream",
     "text": [
      "c:\\Users\\jjudge3\\AppData\\Local\\anaconda3\\envs\\TSM-to-ZDA\\lib\\site-packages\\numpy\\core\\_asarray.py:102: UserWarning: Warning: converting a masked element to nan.\n",
      "  return array(a, dtype, copy=False, order=order)\n"
     ]
    },
    {
     "data": {
      "image/png": "[encoded data removed]",
      "text/plain": [
       "<Figure size 432x288 with 1 Axes>"
      ]
     },
     "metadata": {
      "needs_background": "light"
     },
     "output_type": "display_data"
    },
    {
     "name": "stdout",
     "output_type": "stream",
     "text": [
      "(12,) (12,) (2,) (12,)\n"
     ]
    },
    {
     "data": {
      "image/png": "[encoded data removed]",
      "text/plain": [
       "<Figure size 432x288 with 1 Axes>"
      ]
     },
     "metadata": {
      "needs_background": "light"
     },
     "output_type": "display_data"
    },
    {
     "name": "stdout",
     "output_type": "stream",
     "text": [
      "17\n",
      "2\n"
     ]
    },
    {
     "name": "stderr",
     "output_type": "stream",
     "text": [
      "c:\\Users\\jjudge3\\AppData\\Local\\anaconda3\\envs\\TSM-to-ZDA\\lib\\site-packages\\numpy\\core\\_asarray.py:102: UserWarning: Warning: converting a masked element to nan.\n",
      "  return array(a, dtype, copy=False, order=order)\n"
     ]
    },
    {
     "data": {
      "image/png": "[encoded data removed]",
      "text/plain": [
       "<Figure size 432x288 with 1 Axes>"
      ]
     },
     "metadata": {
      "needs_background": "light"
     },
     "output_type": "display_data"
    },
    {
     "name": "stdout",
     "output_type": "stream",
     "text": [
      "(12,) (12,) (2,) (12,)\n"
     ]
    },
    {
     "data": {
      "image/png": "[encoded data removed]",
      "text/plain": [
       "<Figure size 432x288 with 1 Axes>"
      ]
     },
     "metadata": {
      "needs_background": "light"
     },
     "output_type": "display_data"
    },
    {
     "name": "stdout",
     "output_type": "stream",
     "text": [
      "17\n",
      "2\n"
     ]
    },
    {
     "name": "stderr",
     "output_type": "stream",
     "text": [
      "c:\\Users\\jjudge3\\AppData\\Local\\anaconda3\\envs\\TSM-to-ZDA\\lib\\site-packages\\numpy\\core\\_asarray.py:102: UserWarning: Warning: converting a masked element to nan.\n",
      "  return array(a, dtype, copy=False, order=order)\n"
     ]
    },
    {
     "data": {
      "image/png": "[encoded data removed]",
      "text/plain": [
       "<Figure size 432x288 with 1 Axes>"
      ]
     },
     "metadata": {
      "needs_background": "light"
     },
     "output_type": "display_data"
    },
    {
     "name": "stdout",
     "output_type": "stream",
     "text": [
      "(12,) (12,) (2,) (12,)\n"
     ]
    },
    {
     "data": {
      "image/png": "[encoded data removed]",
      "text/plain": [
       "<Figure size 432x288 with 1 Axes>"
      ]
     },
     "metadata": {
      "needs_background": "light"
     },
     "output_type": "display_data"
    }
   ],
   "source": [
    "# check for pulse 1 vs pulse 2 changes in latency or halfwidth\n",
    "alpha = 0.5\n",
    "should_group_by_ipi = True\n",
    "if should_group_by_ipi:\n",
    "    alpha = 1\n",
    "ppr_snr = all_snr.query('PPR > 0')\n",
    "ppr_snr = ppr_snr.query('PPR < 2')\n",
    "pulse1_df = ppr_snr.query('Pulse == 1')\n",
    "pulse2_df = ppr_snr.query('Pulse == 2')\n",
    "titles = ['Pulse 1', 'Pulse 2']\n",
    "pulse_colors = ['tab:orange', 'tab:green']\n",
    "\n",
    "for barrel in ['Home Barrel', 'Neighbor Barrel']:\n",
    "    for met_type, color in [['Amp', 'b'], ['Latency', 'r'], ['Halfwidth', 'g']]:\n",
    "        i = 0\n",
    "        end1, end2 = None, None\n",
    "        for pulse_df in [pulse1_df, pulse2_df]:\n",
    "            total_n = len(pulse_df['IPI'])\n",
    "            if barrel == 'Home Barrel':\n",
    "                pulse_df = pulse_df.query('`Home Barrel` == ROI')\n",
    "            else:\n",
    "                pulse_df = pulse_df.query('`Home Barrel` != ROI')\n",
    "            pulse_df = pulse_df[pulse_df['IPI'] > 5]\n",
    "            subset_n = len(pulse_df['IPI'])\n",
    "            print(len(pulse_df['IPI']))\n",
    "            if should_group_by_ipi:\n",
    "                pulse_df_std = pulse_df[['IPI', met_type]].groupby(by=['IPI']).agg(np.std)\n",
    "                pulse_df = pulse_df[['IPI', met_type]].groupby(by=['IPI']).mean()\n",
    "                pulse_df.reset_index(inplace=True)\n",
    "                plt.errorbar(pulse_df['IPI'] + i * 0.5 - 0.25, pulse_df[met_type], \n",
    "                            pulse_df_std[met_type], ls='none', c=pulse_colors[i], capsize=3, alpha=0.4)\n",
    "            if end1 is None:\n",
    "                end1 = pulse_df\n",
    "            else:\n",
    "                end2 = pulse_df\n",
    "            plt.scatter(pulse_df['IPI'], pulse_df[met_type], alpha=alpha,\n",
    "                        s=30,\n",
    "                        color=pulse_colors[i],\n",
    "                         label=titles[i] )\n",
    "            i += 1\n",
    "        plt.title(barrel)\n",
    "        plt.xlabel(\"IPI (ms)\")\n",
    "        plt.ylabel(met_type)\n",
    "        plt.ylim(0, 11)\n",
    "        plt.legend()\n",
    "        plt.gca().yaxis.set_label_position(\"right\")\n",
    "        plt.gca().yaxis.tick_right()\n",
    "        \n",
    "        plt.show()\n",
    "        ppr = end2[met_type] / end1[met_type]\n",
    "        print(ppr.shape, end1[met_type].shape, end2['IPI'].shape, end1['IPI'].shape)\n",
    "        plt.scatter(end1['IPI'], ppr)\n",
    "        plt.show()\n"
   ]
  },
  {
   "cell_type": "code",
   "execution_count": 28,
   "id": "901cc292",
   "metadata": {},
   "outputs": [
    {
     "name": "stdout",
     "output_type": "stream",
     "text": [
      "     IPI      Amp\n",
      "0     20  1.04767\n",
      "1     30  1.15874\n",
      "2     40  1.12238\n",
      "3     50  1.25799\n",
      "4     60  1.32523\n",
      "..   ...      ...\n",
      "206  100  1.50981\n",
      "207  110  1.34750\n",
      "208  120  1.26173\n",
      "209  130  1.18438\n",
      "210  140  1.20338\n",
      "\n",
      "[198 rows x 2 columns]\n",
      "     IPI       Amp\n",
      "0     20  0.747929\n",
      "1     30  0.530139\n",
      "2     40  0.553891\n",
      "3     50  0.463109\n",
      "4     60  0.404570\n",
      "..   ...       ...\n",
      "206  100  0.958694\n",
      "207  110  0.918727\n",
      "208  120  1.052120\n",
      "209  130  1.101890\n",
      "210  140  1.042970\n",
      "\n",
      "[198 rows x 2 columns]\n"
     ]
    },
    {
     "data": {
      "image/png": "[encoded data removed]",
      "text/plain": [
       "<Figure size 432x288 with 1 Axes>"
      ]
     },
     "metadata": {
      "needs_background": "light"
     },
     "output_type": "display_data"
    }
   ],
   "source": [
    "# check for pulse 1 vs pulse 2 changes in latency or halfwidth\n",
    "alpha = 0.2\n",
    "titles = ['Pulse 1', 'Pulse 2']\n",
    "pulse_colors = ['tab:orange', 'tab:green']\n",
    "should_group_by_ipi = True\n",
    "i = 0\n",
    "if should_group_by_ipi:\n",
    "    alpha = 1\n",
    "for amp in [amps1, amps2]:\n",
    "\n",
    "    if should_group_by_ipi:\n",
    "        pulse_df = pd.DataFrame({'IPI': ipis, 'Amp': amp})\n",
    "        pulse_df = pulse_df[pulse_df['IPI'] <150]\n",
    "        print(pulse_df)\n",
    "        pulse_df_std = pulse_df[['IPI', 'Amp']].groupby(by=['IPI']).agg(np.std)\n",
    "        pulse_df = pulse_df[['IPI', 'Amp']].groupby(by=['IPI']).mean()\n",
    "        pulse_df.reset_index(inplace=True)\n",
    "        plt.errorbar(pulse_df['IPI'] + i * 0.5 - 0.25, pulse_df['Amp'], \n",
    "                    pulse_df_std['Amp'], ls='none', c=pulse_colors[i], \n",
    "                    capsize=3, alpha=0.4)\n",
    "\n",
    "    plt.scatter(pulse_df['IPI'], pulse_df['Amp'], alpha=alpha,\n",
    "                s=30,\n",
    "                color=pulse_colors[i],\n",
    "                    label=titles[i] )\n",
    "    i += 1\n",
    "plt.xlabel(\"IPI (ms)\")\n",
    "plt.ylabel('Amplitude')\n",
    "plt.legend()\n",
    "plt.gca().yaxis.set_label_position(\"right\")\n",
    "plt.gca().yaxis.tick_right()\n",
    "\n",
    "plt.show()"
   ]
  },
  {
   "cell_type": "code",
   "execution_count": 29,
   "id": "c57f8e59",
   "metadata": {},
   "outputs": [
    {
     "name": "stdout",
     "output_type": "stream",
     "text": [
      "1.870824556947021 1.4458107688717046\n"
     ]
    }
   ],
   "source": [
    "print(np.std(amps1), np.std(amps2))"
   ]
  },
  {
   "cell_type": "code",
   "execution_count": 30,
   "id": "5a6f3d2e",
   "metadata": {},
   "outputs": [
    {
     "name": "stdout",
     "output_type": "stream",
     "text": [
      "C:/Users/jjudge3/Desktop/Data/mm_full_pipeline_targets/scnn1a-ppr/12-08-23\n",
      "3 2 IPI: 10 ms for recording 03_02_02.zda\n",
      "3 2 IPI: 20 ms for recording 03_02_03.zda\n",
      "3 2 IPI: 30 ms for recording 03_02_04.zda\n",
      "3 2 IPI: 40 ms for recording 03_02_05.zda\n",
      "3 2 IPI: 50 ms for recording 03_02_06.zda\n",
      "3 2 IPI: 60 ms for recording 03_02_07.zda\n",
      "3 2 IPI: 70 ms for recording 03_02_08.zda\n",
      "3 2 IPI: 80 ms for recording 03_02_09.zda\n",
      "3 2 IPI: 90 ms for recording 03_02_10.zda\n",
      "3 2 IPI: 100 ms for recording 03_02_11.zda\n",
      "3 2 IPI: 110 ms for recording 03_02_12.zda\n",
      "3 2 IPI: 120 ms for recording 03_02_13.zda\n",
      "3 2 IPI: 130 ms for recording 03_02_14.zda\n",
      "3 2 IPI: 140 ms for recording 03_02_15.zda\n",
      "3 2 IPI: 150 ms for recording 03_02_16.zda\n",
      "3 2 IPI: 5 ms for recording 03_02_17.zda\n",
      "4 1 IPI: 5 ms for recording 04_01_01.zda\n",
      "4 1 IPI: 10 ms for recording 04_01_02.zda\n",
      "4 1 IPI: 20 ms for recording 04_01_03.zda\n",
      "4 1 IPI: 30 ms for recording 04_01_04.zda\n",
      "4 1 IPI: 40 ms for recording 04_01_05.zda\n",
      "4 1 IPI: 50 ms for recording 04_01_06.zda\n",
      "4 1 IPI: 60 ms for recording 04_01_07.zda\n",
      "4 1 IPI: 70 ms for recording 04_01_08.zda\n",
      "4 1 IPI: 80 ms for recording 04_01_09.zda\n",
      "4 1 IPI: 90 ms for recording 04_01_10.zda\n",
      "4 1 IPI: 100 ms for recording 04_01_11.zda\n",
      "4 1 IPI: 110 ms for recording 04_01_12.zda\n",
      "4 1 IPI: 120 ms for recording 04_01_13.zda\n",
      "4 1 IPI: 130 ms for recording 04_01_14.zda\n",
      "4 1 IPI: 140 ms for recording 04_01_15.zda\n",
      "4 1 IPI: 150 ms for recording 04_01_16.zda\n",
      "5 1 IPI: 5 ms for recording 05_01_02.zda\n",
      "5 1 IPI: 10 ms for recording 05_01_03.zda\n",
      "5 1 IPI: 20 ms for recording 05_01_04.zda\n",
      "5 1 IPI: 30 ms for recording 05_01_05.zda\n",
      "5 1 IPI: 40 ms for recording 05_01_06.zda\n",
      "5 1 IPI: 50 ms for recording 05_01_07.zda\n",
      "5 1 IPI: 60 ms for recording 05_01_08.zda\n",
      "5 1 IPI: 70 ms for recording 05_01_09.zda\n",
      "5 1 IPI: 80 ms for recording 05_01_10.zda\n",
      "5 1 IPI: 90 ms for recording 05_01_11.zda\n",
      "5 1 IPI: 100 ms for recording 05_01_12.zda\n",
      "5 1 IPI: 110 ms for recording 05_01_13.zda\n",
      "5 1 IPI: 120 ms for recording 05_01_14.zda\n",
      "5 1 IPI: 130 ms for recording 05_01_15.zda\n",
      "5 1 IPI: 140 ms for recording 05_01_16.zda\n",
      "5 1 IPI: 150 ms for recording 05_01_17.zda\n",
      "5 2 IPI: 5 ms for recording 05_02_02.zda\n",
      "5 2 IPI: 10 ms for recording 05_02_03.zda\n",
      "5 2 IPI: 20 ms for recording 05_02_04.zda\n",
      "5 2 IPI: 30 ms for recording 05_02_05.zda\n",
      "5 2 IPI: 40 ms for recording 05_02_06.zda\n",
      "5 2 IPI: 50 ms for recording 05_02_07.zda\n",
      "5 2 IPI: 60 ms for recording 05_02_08.zda\n",
      "5 2 IPI: 70 ms for recording 05_02_09.zda\n",
      "5 2 IPI: 80 ms for recording 05_02_10.zda\n",
      "5 2 IPI: 90 ms for recording 05_02_11.zda\n",
      "5 2 IPI: 100 ms for recording 05_02_12.zda\n",
      "5 2 IPI: 110 ms for recording 05_02_13.zda\n",
      "5 2 IPI: 120 ms for recording 05_02_14.zda\n",
      "5 2 IPI: 130 ms for recording 05_02_15.zda\n",
      "5 2 IPI: 140 ms for recording 05_02_16.zda\n",
      "5 2 IPI: 150 ms for recording 05_02_17.zda\n",
      "6 1 IPI: 5 ms for recording 06_01_04.zda\n",
      "6 1 IPI: 10 ms for recording 06_01_05.zda\n",
      "6 1 IPI: 20 ms for recording 06_01_06.zda\n",
      "6 1 IPI: 30 ms for recording 06_01_07.zda\n",
      "6 1 IPI: 40 ms for recording 06_01_08.zda\n",
      "6 1 IPI: 50 ms for recording 06_01_09.zda\n",
      "6 1 IPI: 60 ms for recording 06_01_10.zda\n",
      "6 1 IPI: 70 ms for recording 06_01_11.zda\n",
      "6 1 IPI: 80 ms for recording 06_01_12.zda\n",
      "6 1 IPI: 90 ms for recording 06_01_13.zda\n",
      "6 1 IPI: 100 ms for recording 06_01_14.zda\n",
      "6 1 IPI: 110 ms for recording 06_01_15.zda\n",
      "6 1 IPI: 120 ms for recording 06_01_16.zda\n",
      "6 1 IPI: 130 ms for recording 06_01_17.zda\n",
      "6 1 IPI: 140 ms for recording 06_01_18.zda\n",
      "6 1 IPI: 150 ms for recording 06_01_19.zda\n",
      "6 2 IPI: 5 ms for recording 06_02_01.zda\n",
      "6 2 IPI: 10 ms for recording 06_02_02.zda\n",
      "6 2 IPI: 20 ms for recording 06_02_03.zda\n",
      "6 2 IPI: 30 ms for recording 06_02_04.zda\n",
      "6 2 IPI: 40 ms for recording 06_02_05.zda\n",
      "6 2 IPI: 50 ms for recording 06_02_06.zda\n",
      "6 2 IPI: 60 ms for recording 06_02_07.zda\n",
      "6 2 IPI: 70 ms for recording 06_02_08.zda\n",
      "6 2 IPI: 80 ms for recording 06_02_09.zda\n",
      "6 2 IPI: 90 ms for recording 06_02_10.zda\n",
      "6 2 IPI: 100 ms for recording 06_02_11.zda\n",
      "6 2 IPI: 110 ms for recording 06_02_12.zda\n",
      "6 2 IPI: 120 ms for recording 06_02_13.zda\n",
      "6 2 IPI: 130 ms for recording 06_02_14.zda\n",
      "6 2 IPI: 140 ms for recording 06_02_15.zda\n",
      "6 2 IPI: 150 ms for recording 06_02_16.zda\n"
     ]
    }
   ],
   "source": [
    "# autoPhotoZ to save amplitude arrays for each measure window and \n",
    "# baseline correction to create PPR maps\n",
    "def get_amp_array_filename(subdir, slic_loc_id, ipi, pulse):\n",
    "    return subdir + \"/\" + \"ampArray_\" + slic_loc_id + \"_ipi\" + str(ipi) + \"_p\" + str(pulse) + \".dat\"\n",
    "\n",
    "overwrite_amp_arrays = False\n",
    "select_amp_bkg = False\n",
    "for subdir in data_map:\n",
    "    aPhz = AutoPhotoZ(data_dir=subdir)\n",
    "    if not select_amp_bkg and enable_photoZ_interact:\n",
    "        aPhz.select_MaxAmp_array()\n",
    "    print(subdir)\n",
    "    for slic_id in data_map[subdir]:\n",
    "\n",
    "        for loc_id in data_map[subdir][slic_id]:\n",
    "            if type(loc_id) == str:\n",
    "                continue\n",
    "            slic_loc_id = str(slic_id) + \"_\" + str(loc_id)\n",
    "\n",
    "            ipi_file = data_map[subdir][slic_id][loc_id]['shuffle_file']\n",
    "            with open(ipi_file, 'r') as f:\n",
    "                lines = f.readlines() \n",
    "            ipi_order = [int(x) for x in lines]\n",
    "\n",
    "            # open zda files in order\n",
    "            i_ipi = -1\n",
    "            for zda_file in data_map[subdir][slic_id][loc_id]['zda_files']:\n",
    "\n",
    "                i_ipi += 1\n",
    "                try:\n",
    "                    ipi = ipi_order[i_ipi]\n",
    "                except Exception as e:\n",
    "                    print(e)\n",
    "                    print(\"Not enough IPIs for how many recordings we have! Last IPI:\", ipi, \"Check\", subdir)\n",
    "                print(slic_id, loc_id, \"IPI:\", ipi, \"ms for recording\", zda_file.split(\"/\")[-1])\n",
    "                \n",
    "                # check if all amp arrays are already saved for this recording/IPI\n",
    "                all_saved = True\n",
    "                for i_pulse in [1, 2]:\n",
    "                    amp_array_filename = get_amp_array_filename(subdir, slic_loc_id, ipi, i_pulse)\n",
    "                    if not os.path.exists(amp_array_filename):\n",
    "                        print(\"Missing\", amp_array_filename)\n",
    "                        all_saved = False\n",
    "                        break\n",
    "                if overwrite_amp_arrays:\n",
    "                    all_saved = False\n",
    "\n",
    "                if enable_photoZ_interact and not all_saved:\n",
    "                    aPhz.open_zda_file(zda_file)\n",
    "\n",
    "                for i_pulse in [1, 2]:\n",
    "                    amp_array_filename = get_amp_array_filename(subdir, slic_loc_id, ipi, i_pulse)\n",
    "                    if not os.path.exists(amp_array_filename) or overwrite_amp_arrays:\n",
    "                        if enable_photoZ_interact and not all_saved:\n",
    "                            measure_window_start = 96 + (i_pulse - 1) * ipi * 2\n",
    "                            aPhz.set_measure_window(measure_window_start, None)\n",
    "\n",
    "                            # change polynomial skip window too to match measure window\n",
    "                            aPhz.set_polynomial_skip_window(measure_window_start)\n",
    "\n",
    "                        # take Amplitude array from PhotoZ\n",
    "                        if enable_photoZ_interact and not all_saved:\n",
    "                            aPhz.save_background(filename=amp_array_filename)\n",
    "                    else:\n",
    "                        if not all_saved:\n",
    "                            time.sleep(5)\n",
    "\n",
    "                    if ipi not in data_map[subdir][slic_id][loc_id]:\n",
    "                        data_map[subdir][slic_id][loc_id][ipi] = {}\n",
    "                    if i_pulse not in data_map[subdir][slic_id][loc_id][ipi]:\n",
    "                        data_map[subdir][slic_id][loc_id][ipi][i_pulse] = {}\n",
    "                    data_map[subdir][slic_id][loc_id][ipi][i_pulse]['amp_array'] = amp_array_filename\n",
    "                    \n",
    "            if i_ipi < len(ipi_order) - 1:\n",
    "                print(\"Not enough recordings for how many IPIs we have! Last IPI:\", ipi, \"Check\", subdir)\n",
    "                        "
   ]
  }
 ],
 "metadata": {
  "kernelspec": {
   "display_name": "Python 3",
   "language": "python",
   "name": "python3"
  },
  "language_info": {
   "codemirror_mode": {
    "name": "ipython",
    "version": 3
   },
   "file_extension": ".py",
   "mimetype": "text/x-python",
   "name": "python",
   "nbconvert_exporter": "python",
   "pygments_lexer": "ipython3",
   "version": "3.8.8"
  }
 },
 "nbformat": 4,
 "nbformat_minor": 5
}
