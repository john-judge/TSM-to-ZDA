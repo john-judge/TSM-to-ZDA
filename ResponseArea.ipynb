{
 "cells": [
  {
   "cell_type": "code",
   "execution_count": 1,
   "id": "352bb896",
   "metadata": {},
   "outputs": [],
   "source": [
    "import time\n",
    "import os\n",
    "import math\n",
    "import numpy as np\n",
    "import cv2\n",
    "import pandas as pd\n",
    "import pyautogui as pa\n",
    "import shutil\n",
    "import imageio\n",
    "from PIL import Image, ImageDraw\n",
    "\n",
    "from lib.auto_GUI.auto_GUI_base import AutoGUIBase\n",
    "from lib.auto_GUI.auto_DAT import AutoDAT\n",
    "from lib.auto_GUI.auto_PhotoZ import AutoPhotoZ\n",
    "from lib.analysis.laminar_dist import *\n",
    "from lib.file.TIF import *\n",
    "from lib.analysis.align import ImageAlign\n",
    "from lib.utilities import *"
   ]
  },
  {
   "cell_type": "code",
   "execution_count": 8,
   "id": "9be43acd",
   "metadata": {},
   "outputs": [],
   "source": [
    "\"\"\" \n",
    "    Given an SNR cutoff, find the area (# pixels) that is above cutoff.\n",
    "        Input: ZDA files (need to export every SNR frame from start frame to end frame)\n",
    "        Output:\n",
    "            A(t) in a data file and a plot\n",
    "            Movies of the change of this area in frames, two-color frames\n",
    "\"\"\"\n",
    "data_dir = \"C:/Users/jjudge3/Desktop/Data/mm_full_pipeline_targets/\"\n",
    "start_frame = 94\n",
    "movie_length = 27\n",
    "snr_cutoff = 5.0\n",
    "\n",
    "disable_photoZ_interact = False\n",
    "initialize_photoZ = False\n",
    "clean_scratch_files = False  # clean up SNR maps\n",
    "replace_existing_frame_dats = False"
   ]
  },
  {
   "cell_type": "code",
   "execution_count": 9,
   "id": "eaea2c75",
   "metadata": {},
   "outputs": [
    {
     "ename": "KeyboardInterrupt",
     "evalue": "",
     "output_type": "error",
     "traceback": [
      "\u001b[1;31m---------------------------------------------------------------------------\u001b[0m",
      "\u001b[1;31mKeyboardInterrupt\u001b[0m                         Traceback (most recent call last)",
      "\u001b[1;32m<ipython-input-9-facc19392ea2>\u001b[0m in \u001b[0;36m<module>\u001b[1;34m\u001b[0m\n\u001b[0;32m      4\u001b[0m     \u001b[0maPhz\u001b[0m\u001b[1;33m.\u001b[0m\u001b[0mprepare_photoZ\u001b[0m\u001b[1;33m(\u001b[0m\u001b[1;33m)\u001b[0m\u001b[1;33m\u001b[0m\u001b[1;33m\u001b[0m\u001b[0m\n\u001b[0;32m      5\u001b[0m \u001b[1;32mif\u001b[0m \u001b[1;32mnot\u001b[0m \u001b[0mdisable_photoZ_interact\u001b[0m\u001b[1;33m:\u001b[0m\u001b[1;33m\u001b[0m\u001b[1;33m\u001b[0m\u001b[0m\n\u001b[1;32m----> 6\u001b[1;33m     \u001b[0maPhz\u001b[0m\u001b[1;33m.\u001b[0m\u001b[0mclick_normalize_2_array_max\u001b[0m\u001b[1;33m(\u001b[0m\u001b[1;33m)\u001b[0m\u001b[1;33m\u001b[0m\u001b[1;33m\u001b[0m\u001b[0m\n\u001b[0m\u001b[0;32m      7\u001b[0m \u001b[0mpa\u001b[0m\u001b[1;33m.\u001b[0m\u001b[0malert\u001b[0m\u001b[1;33m(\u001b[0m\u001b[1;34m\"Please disable trace overlay and maximize PhotoZ before continuing.\"\u001b[0m\u001b[1;33m)\u001b[0m\u001b[1;33m\u001b[0m\u001b[1;33m\u001b[0m\u001b[0m\n",
      "\u001b[1;32m~\\Desktop\\scratch\\TSM-to-ZDA\\lib\\auto_GUI\\auto_PhotoZ.py\u001b[0m in \u001b[0;36mclick_normalize_2_array_max\u001b[1;34m(self)\u001b[0m\n\u001b[0;32m     74\u001b[0m \u001b[1;33m\u001b[0m\u001b[0m\n\u001b[0;32m     75\u001b[0m     \u001b[1;32mdef\u001b[0m \u001b[0mclick_normalize_2_array_max\u001b[0m\u001b[1;33m(\u001b[0m\u001b[0mself\u001b[0m\u001b[1;33m)\u001b[0m\u001b[1;33m:\u001b[0m\u001b[1;33m\u001b[0m\u001b[1;33m\u001b[0m\u001b[0m\n\u001b[1;32m---> 76\u001b[1;33m         \u001b[0mself\u001b[0m\u001b[1;33m.\u001b[0m\u001b[0mselect_array_tab\u001b[0m\u001b[1;33m(\u001b[0m\u001b[1;33m)\u001b[0m\u001b[1;33m\u001b[0m\u001b[1;33m\u001b[0m\u001b[0m\n\u001b[0m\u001b[0;32m     77\u001b[0m         \u001b[0mself\u001b[0m\u001b[1;33m.\u001b[0m\u001b[0mclick_image_if_found\u001b[0m\u001b[1;33m(\u001b[0m\u001b[0mself\u001b[0m\u001b[1;33m.\u001b[0m\u001b[0mphotoZ_nor2arraymax\u001b[0m\u001b[1;33m)\u001b[0m\u001b[1;33m\u001b[0m\u001b[1;33m\u001b[0m\u001b[0m\n\u001b[0;32m     78\u001b[0m \u001b[1;33m\u001b[0m\u001b[0m\n",
      "\u001b[1;32m~\\Desktop\\scratch\\TSM-to-ZDA\\lib\\auto_GUI\\auto_PhotoZ.py\u001b[0m in \u001b[0;36mselect_array_tab\u001b[1;34m(self)\u001b[0m\n\u001b[0;32m     71\u001b[0m \u001b[1;33m\u001b[0m\u001b[0m\n\u001b[0;32m     72\u001b[0m     \u001b[1;32mdef\u001b[0m \u001b[0mselect_array_tab\u001b[0m\u001b[1;33m(\u001b[0m\u001b[0mself\u001b[0m\u001b[1;33m)\u001b[0m\u001b[1;33m:\u001b[0m\u001b[1;33m\u001b[0m\u001b[1;33m\u001b[0m\u001b[0m\n\u001b[1;32m---> 73\u001b[1;33m         \u001b[0mself\u001b[0m\u001b[1;33m.\u001b[0m\u001b[0mclick_image\u001b[0m\u001b[1;33m(\u001b[0m\u001b[0mself\u001b[0m\u001b[1;33m.\u001b[0m\u001b[0mphotoZ_array\u001b[0m\u001b[1;33m)\u001b[0m\u001b[1;33m\u001b[0m\u001b[1;33m\u001b[0m\u001b[0m\n\u001b[0m\u001b[0;32m     74\u001b[0m \u001b[1;33m\u001b[0m\u001b[0m\n\u001b[0;32m     75\u001b[0m     \u001b[1;32mdef\u001b[0m \u001b[0mclick_normalize_2_array_max\u001b[0m\u001b[1;33m(\u001b[0m\u001b[0mself\u001b[0m\u001b[1;33m)\u001b[0m\u001b[1;33m:\u001b[0m\u001b[1;33m\u001b[0m\u001b[1;33m\u001b[0m\u001b[0m\n",
      "\u001b[1;32m~\\Desktop\\scratch\\TSM-to-ZDA\\lib\\auto_GUI\\auto_GUI_base.py\u001b[0m in \u001b[0;36mclick_image\u001b[1;34m(png, retry_attempts, sleep, clicks)\u001b[0m\n\u001b[0;32m     17\u001b[0m             \u001b[1;32mif\u001b[0m \u001b[0mres\u001b[0m \u001b[1;32mis\u001b[0m \u001b[1;32mNone\u001b[0m\u001b[1;33m:\u001b[0m\u001b[1;33m\u001b[0m\u001b[1;33m\u001b[0m\u001b[0m\n\u001b[0;32m     18\u001b[0m                 \u001b[0mretry_attempts\u001b[0m \u001b[1;33m-=\u001b[0m \u001b[1;36m1\u001b[0m\u001b[1;33m\u001b[0m\u001b[1;33m\u001b[0m\u001b[0m\n\u001b[1;32m---> 19\u001b[1;33m             \u001b[0mtime\u001b[0m\u001b[1;33m.\u001b[0m\u001b[0msleep\u001b[0m\u001b[1;33m(\u001b[0m\u001b[0msleep\u001b[0m\u001b[1;33m)\u001b[0m\u001b[1;33m\u001b[0m\u001b[1;33m\u001b[0m\u001b[0m\n\u001b[0m\u001b[0;32m     20\u001b[0m         \u001b[1;32mif\u001b[0m \u001b[0mretry_attempts\u001b[0m \u001b[1;33m<\u001b[0m \u001b[1;36m1\u001b[0m\u001b[1;33m:\u001b[0m\u001b[1;33m\u001b[0m\u001b[1;33m\u001b[0m\u001b[0m\n\u001b[0;32m     21\u001b[0m             \u001b[1;32mreturn\u001b[0m \u001b[1;32mFalse\u001b[0m\u001b[1;33m\u001b[0m\u001b[1;33m\u001b[0m\u001b[0m\n",
      "\u001b[1;31mKeyboardInterrupt\u001b[0m: "
     ]
    }
   ],
   "source": [
    "# set up PhotoZ (open it manually)\n",
    "aPhz = AutoPhotoZ(data_dir=data_dir)\n",
    "if initialize_photoZ and not disable_photoZ_interact:\n",
    "    aPhz.prepare_photoZ()\n",
    "if not disable_photoZ_interact:\n",
    "    aPhz.click_normalize_2_array_max()\n",
    "pa.alert(\"Please disable trace overlay and maximize PhotoZ before continuing.\")"
   ]
  },
  {
   "cell_type": "code",
   "execution_count": 10,
   "id": "70587cb5",
   "metadata": {
    "scrolled": true
   },
   "outputs": [
    {
     "name": "stdout",
     "output_type": "stream",
     "text": [
      "02_01_05\n",
      "2 1 5\n",
      "03_01_06\n",
      "3 1 6\n",
      "02_01_02\n",
      "2 1 2\n"
     ]
    },
    {
     "ename": "KeyboardInterrupt",
     "evalue": "",
     "output_type": "error",
     "traceback": [
      "\u001b[1;31m---------------------------------------------------------------------------\u001b[0m",
      "\u001b[1;31mKeyboardInterrupt\u001b[0m                         Traceback (most recent call last)",
      "\u001b[1;32m<ipython-input-10-a024e32330d4>\u001b[0m in \u001b[0;36m<module>\u001b[1;34m\u001b[0m\n\u001b[0;32m     39\u001b[0m             \u001b[1;32mif\u001b[0m \u001b[0mneed_to_open_zda\u001b[0m\u001b[1;33m:\u001b[0m\u001b[1;33m\u001b[0m\u001b[1;33m\u001b[0m\u001b[0m\n\u001b[0;32m     40\u001b[0m                 \u001b[1;31m# open the PhotoZ file\u001b[0m\u001b[1;33m\u001b[0m\u001b[1;33m\u001b[0m\u001b[1;33m\u001b[0m\u001b[0m\n\u001b[1;32m---> 41\u001b[1;33m                 \u001b[0maPhz\u001b[0m\u001b[1;33m.\u001b[0m\u001b[0mselect_PhotoZ\u001b[0m\u001b[1;33m(\u001b[0m\u001b[1;33m)\u001b[0m\u001b[1;33m\u001b[0m\u001b[1;33m\u001b[0m\u001b[0m\n\u001b[0m\u001b[0;32m     42\u001b[0m \u001b[1;33m\u001b[0m\u001b[0m\n\u001b[0;32m     43\u001b[0m                 \u001b[0mprint\u001b[0m\u001b[1;33m(\u001b[0m\u001b[1;34m\"\\n\\nOpening\"\u001b[0m\u001b[1;33m,\u001b[0m \u001b[0mzda_file\u001b[0m\u001b[1;33m)\u001b[0m\u001b[1;33m\u001b[0m\u001b[1;33m\u001b[0m\u001b[0m\n",
      "\u001b[1;32m~\\Desktop\\scratch\\TSM-to-ZDA\\lib\\auto_GUI\\auto_PhotoZ.py\u001b[0m in \u001b[0;36mselect_PhotoZ\u001b[1;34m(self)\u001b[0m\n\u001b[0;32m     65\u001b[0m         \u001b[0msuccess\u001b[0m \u001b[1;33m=\u001b[0m \u001b[1;32mFalse\u001b[0m\u001b[1;33m\u001b[0m\u001b[1;33m\u001b[0m\u001b[0m\n\u001b[0;32m     66\u001b[0m         \u001b[1;32mwhile\u001b[0m \u001b[1;32mnot\u001b[0m \u001b[0msuccess\u001b[0m\u001b[1;33m:\u001b[0m\u001b[1;33m\u001b[0m\u001b[1;33m\u001b[0m\u001b[0m\n\u001b[1;32m---> 67\u001b[1;33m             \u001b[0mself\u001b[0m\u001b[1;33m.\u001b[0m\u001b[0mclick_image\u001b[0m\u001b[1;33m(\u001b[0m\u001b[0mself\u001b[0m\u001b[1;33m.\u001b[0m\u001b[0mphotoZ_icon\u001b[0m\u001b[1;33m)\u001b[0m\u001b[1;33m\u001b[0m\u001b[1;33m\u001b[0m\u001b[0m\n\u001b[0m\u001b[0;32m     68\u001b[0m             \u001b[1;32mif\u001b[0m \u001b[0mlen\u001b[0m\u001b[1;33m(\u001b[0m\u001b[1;33m[\u001b[0m\u001b[0ml\u001b[0m \u001b[1;32mfor\u001b[0m \u001b[0ml\u001b[0m \u001b[1;32min\u001b[0m \u001b[0mself\u001b[0m\u001b[1;33m.\u001b[0m\u001b[0mget_image_locations\u001b[0m\u001b[1;33m(\u001b[0m\u001b[0mself\u001b[0m\u001b[1;33m.\u001b[0m\u001b[0mphotoZ_small_icon\u001b[0m\u001b[1;33m)\u001b[0m\u001b[1;33m]\u001b[0m\u001b[1;33m)\u001b[0m \u001b[1;33m>\u001b[0m \u001b[1;36m2\u001b[0m\u001b[1;33m:\u001b[0m\u001b[1;33m\u001b[0m\u001b[1;33m\u001b[0m\u001b[0m\n\u001b[0;32m     69\u001b[0m                 \u001b[1;32mreturn\u001b[0m  \u001b[1;31m# already selected\u001b[0m\u001b[1;33m\u001b[0m\u001b[1;33m\u001b[0m\u001b[0m\n",
      "\u001b[1;32m~\\Desktop\\scratch\\TSM-to-ZDA\\lib\\auto_GUI\\auto_GUI_base.py\u001b[0m in \u001b[0;36mclick_image\u001b[1;34m(png, retry_attempts, sleep, clicks)\u001b[0m\n\u001b[0;32m     17\u001b[0m             \u001b[1;32mif\u001b[0m \u001b[0mres\u001b[0m \u001b[1;32mis\u001b[0m \u001b[1;32mNone\u001b[0m\u001b[1;33m:\u001b[0m\u001b[1;33m\u001b[0m\u001b[1;33m\u001b[0m\u001b[0m\n\u001b[0;32m     18\u001b[0m                 \u001b[0mretry_attempts\u001b[0m \u001b[1;33m-=\u001b[0m \u001b[1;36m1\u001b[0m\u001b[1;33m\u001b[0m\u001b[1;33m\u001b[0m\u001b[0m\n\u001b[1;32m---> 19\u001b[1;33m             \u001b[0mtime\u001b[0m\u001b[1;33m.\u001b[0m\u001b[0msleep\u001b[0m\u001b[1;33m(\u001b[0m\u001b[0msleep\u001b[0m\u001b[1;33m)\u001b[0m\u001b[1;33m\u001b[0m\u001b[1;33m\u001b[0m\u001b[0m\n\u001b[0m\u001b[0;32m     20\u001b[0m         \u001b[1;32mif\u001b[0m \u001b[0mretry_attempts\u001b[0m \u001b[1;33m<\u001b[0m \u001b[1;36m1\u001b[0m\u001b[1;33m:\u001b[0m\u001b[1;33m\u001b[0m\u001b[1;33m\u001b[0m\u001b[0m\n\u001b[0;32m     21\u001b[0m             \u001b[1;32mreturn\u001b[0m \u001b[1;32mFalse\u001b[0m\u001b[1;33m\u001b[0m\u001b[1;33m\u001b[0m\u001b[0m\n",
      "\u001b[1;31mKeyboardInterrupt\u001b[0m: "
     ]
    }
   ],
   "source": [
    "snr_dict = {}\n",
    "\n",
    "for subdir, dirs, files in os.walk(data_dir):\n",
    "    if 'notUsable' in subdir:\n",
    "        continue\n",
    "    if 'mm_hidden' in subdir:\n",
    "        continue\n",
    "    if 'converted_zda' in subdir:\n",
    "        continue\n",
    "\n",
    "    for zda_file in files:\n",
    "        if not zda_file.endswith('.zda'):\n",
    "            continue\n",
    "\n",
    "        rec_id = zda_file.split('.')[0]\n",
    "        print(rec_id)\n",
    "        # movie dir\n",
    "        movie_dir = subdir + \"/responseArea\" + rec_id + \"/\"\n",
    "\n",
    "        slic, loc, rec = [int(x) for x in rec_id.split(\"_\")]\n",
    "        print(slic, loc, rec)\n",
    "        try:\n",
    "            os.makedirs(movie_dir)\n",
    "        except Exception as e:\n",
    "            pass\n",
    "\n",
    "        if not disable_photoZ_interact:\n",
    "            aPhz = AutoPhotoZ(data_dir=subdir)\n",
    "\n",
    "\n",
    "            need_to_open_zda = False\n",
    "            for frame in range(start_frame, start_frame + movie_length):\n",
    "                f = aPhz.pad_zeros(slic) + \"_\" + aPhz.pad_zeros(loc) + \"_\" + aPhz.pad_zeros(rec) + \".dat\"\n",
    "                f = subdir + \"/SNR_\" + rec_id + \"_frame\" + str(frame)+\"_\" + f\n",
    "                if not os.path.exists(f):\n",
    "                    need_to_open_zda = True\n",
    "\n",
    "            need_to_open_zda = (need_to_open_zda or replace_existing_frame_dats)\n",
    "            if need_to_open_zda:\n",
    "                # open the PhotoZ file\n",
    "                aPhz.select_PhotoZ()\n",
    "\n",
    "                print(\"\\n\\nOpening\", zda_file)\n",
    "                aPhz.open_zda_file(subdir + \"/\" + zda_file)\n",
    "\n",
    "                # set measure window width to 1\n",
    "                aPhz.set_measure_window(None, 1)\n",
    "            for frame in range(start_frame, start_frame + movie_length):\n",
    "                f = aPhz.pad_zeros(slic) + \"_\" + aPhz.pad_zeros(loc) + \"_\" + aPhz.pad_zeros(rec) + \".dat\"\n",
    "                f = subdir + \"/SNR_\" + rec_id + \"_frame\" + str(frame)+\"_\" + f\n",
    "                if not os.path.exists(f):\n",
    "                    aPhz.set_measure_window(frame, None)\n",
    "                    aPhz.select_array_tab()\n",
    "                snr_filename = AutoDAT(datadir=subdir,\n",
    "                        file_prefix=\"SNR_\" + rec_id + \"_frame\" + str(frame)+\"_\").save_background(slic, \n",
    "                                                                                                 loc, \n",
    "                                                                                                 rec,\n",
    "                                                                                                 overwrite_existing=replace_existing_frame_dats)\n",
    "                if subdir not in snr_dict:\n",
    "                    snr_dict[subdir] = {}\n",
    "                if rec_id not in snr_dict[subdir]:\n",
    "                    snr_dict[subdir][rec_id] = {}\n",
    "                if frame not in snr_dict[subdir][rec_id]:\n",
    "                    snr_dict[subdir][rec_id][frame] = { 'filename': snr_filename }"
   ]
  },
  {
   "cell_type": "code",
   "execution_count": 7,
   "id": "19191fd5",
   "metadata": {},
   "outputs": [
    {
     "name": "stdout",
     "output_type": "stream",
     "text": [
      "02_01_05\n",
      "2 1 5\n"
     ]
    },
    {
     "ename": "KeyError",
     "evalue": "\"C:/Users/jjudge3/Desktop/Data/mm_full_pipeline_targets/Kate's\\\\2020-10-02\\\\02-01-05_L23_interlaminar_intralaminar\"",
     "output_type": "error",
     "traceback": [
      "\u001b[1;31m---------------------------------------------------------------------------\u001b[0m",
      "\u001b[1;31mKeyError\u001b[0m                                  Traceback (most recent call last)",
      "\u001b[1;32m<ipython-input-7-9f56c2dcf732>\u001b[0m in \u001b[0;36m<module>\u001b[1;34m\u001b[0m\n\u001b[0;32m     23\u001b[0m         \u001b[0mimages\u001b[0m \u001b[1;33m=\u001b[0m \u001b[1;33m[\u001b[0m\u001b[1;33m]\u001b[0m\u001b[1;33m\u001b[0m\u001b[1;33m\u001b[0m\u001b[0m\n\u001b[0;32m     24\u001b[0m         \u001b[1;32mfor\u001b[0m \u001b[0mframe\u001b[0m \u001b[1;32min\u001b[0m \u001b[0mrange\u001b[0m\u001b[1;33m(\u001b[0m\u001b[0mstart_frame\u001b[0m\u001b[1;33m,\u001b[0m \u001b[0mstart_frame\u001b[0m \u001b[1;33m+\u001b[0m \u001b[0mmovie_length\u001b[0m\u001b[1;33m)\u001b[0m\u001b[1;33m:\u001b[0m\u001b[1;33m\u001b[0m\u001b[1;33m\u001b[0m\u001b[0m\n\u001b[1;32m---> 25\u001b[1;33m             \u001b[0msnr_filename\u001b[0m \u001b[1;33m=\u001b[0m \u001b[0msnr_dict\u001b[0m\u001b[1;33m[\u001b[0m\u001b[0msubdir\u001b[0m\u001b[1;33m]\u001b[0m\u001b[1;33m[\u001b[0m\u001b[0mrec_id\u001b[0m\u001b[1;33m]\u001b[0m\u001b[1;33m[\u001b[0m\u001b[0mframe\u001b[0m\u001b[1;33m]\u001b[0m\u001b[1;33m[\u001b[0m\u001b[1;34m'filename'\u001b[0m\u001b[1;33m]\u001b[0m\u001b[1;33m\u001b[0m\u001b[1;33m\u001b[0m\u001b[0m\n\u001b[0m\u001b[0;32m     26\u001b[0m \u001b[1;33m\u001b[0m\u001b[0m\n\u001b[0;32m     27\u001b[0m             snr_frame = np.loadtxt(snr_filename,\n",
      "\u001b[1;31mKeyError\u001b[0m: \"C:/Users/jjudge3/Desktop/Data/mm_full_pipeline_targets/Kate's\\\\2020-10-02\\\\02-01-05_L23_interlaminar_intralaminar\""
     ]
    }
   ],
   "source": [
    "for subdir, dirs, files in os.walk(data_dir):\n",
    "    if 'notUsable' in subdir:\n",
    "        continue\n",
    "    if 'mm_hidden' in subdir:\n",
    "        continue\n",
    "    if 'converted_zda' in subdir:\n",
    "        continue\n",
    "    \n",
    "    for zda_file in files:\n",
    "        if not zda_file.endswith('.zda'):\n",
    "            continue\n",
    "\n",
    "        rec_id = zda_file.split('.')[0]\n",
    "        print(rec_id)\n",
    "        # movie dir\n",
    "        movie_dir = subdir + \"/responseArea\" + rec_id + \"/\"\n",
    "        \n",
    "        slic, loc, rec = [int(x) for x in rec_id.split(\"_\")]\n",
    "        print(slic, loc, rec)\n",
    "        \n",
    "        snr_frames = []\n",
    "        areas_over_time = []\n",
    "        images = []\n",
    "        for frame in range(start_frame, start_frame + movie_length):\n",
    "            snr_filename = snr_dict[subdir][rec_id][frame]['filename']\n",
    "\n",
    "            snr_frame = np.loadtxt(snr_filename,\n",
    "                         delimiter='\\t',\n",
    "                         usecols=(1,))\n",
    "            width = int(np.sqrt(snr_frame.shape[0]))\n",
    "            snr_frame = snr_frame.reshape((width, width))\n",
    "            snr_frame = (snr_frame > snr_cutoff)\n",
    "            area = np.sum(snr_frame)\n",
    "            snr_frames.append(snr_frame)\n",
    "            areas_over_time.append(area)\n",
    "            # print(snr_frame, area)\n",
    "            plt.clf()\n",
    "            plt.imshow(snr_frame)\n",
    "            fn_image = movie_dir + str(frame) + \".png\"\n",
    "            plt.savefig(fn_image)\n",
    "            images.append(imageio.imread(fn_image))\n",
    "            \n",
    "        # plot A(t)\n",
    "        print(subdir)\n",
    "        plt.clf()\n",
    "        plt.plot([i for i in range(start_frame, start_frame + movie_length)], \n",
    "                 areas_over_time)\n",
    "        plt.xlabel(\"Frame Number\")\n",
    "        plt.ylabel(\"Signal Area (pixels)\")\n",
    "        plt.title(\"Responding Area over Time\")\n",
    "        plt.savefig(movie_dir + \"area.png\")\n",
    "        plt.show()\n",
    "        \n",
    "        # Make boolean signal movie (animated gif)\n",
    "        created_movie = False\n",
    "        try:\n",
    "            imageio.mimsave(movie_dir + 'area_movie.gif', images)\n",
    "            print(\"CREATED MOVIE:\", rec_id + 'area_movie.gif')\n",
    "            created_movie = True\n",
    "            if clean_scratch_files:\n",
    "                for img_file in img_filenames:\n",
    "                    os.remove(img_file)\n",
    "        except Exception as e:\n",
    "            if not created_movie:\n",
    "                print(\"Not creating movie for \" + rec_id)\n",
    "            print(e)\n",
    "        "
   ]
  },
  {
   "cell_type": "code",
   "execution_count": null,
   "id": "3d3e6709",
   "metadata": {},
   "outputs": [],
   "source": []
  }
 ],
 "metadata": {
  "kernelspec": {
   "display_name": "Python 3",
   "language": "python",
   "name": "python3"
  },
  "language_info": {
   "codemirror_mode": {
    "name": "ipython",
    "version": 3
   },
   "file_extension": ".py",
   "mimetype": "text/x-python",
   "name": "python",
   "nbconvert_exporter": "python",
   "pygments_lexer": "ipython3",
   "version": "3.9.4"
  }
 },
 "nbformat": 4,
 "nbformat_minor": 5
}
