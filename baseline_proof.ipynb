{
 "cells": [
  {
   "cell_type": "code",
   "execution_count": 2,
   "id": "0ec00416",
   "metadata": {
    "slideshow": {
     "slide_type": "skip"
    }
   },
   "outputs": [],
   "source": [
    "import time\n",
    "import os\n",
    "import math\n",
    "import numpy as np\n",
    "import pandas as pd\n",
    "from matplotlib.markers import TICKDOWN\n",
    "from matplotlib import rcParams\n",
    "import datetime\n",
    "from numpy.polynomial import polynomial\n",
    "\n",
    "import matplotlib.pyplot as plt\n",
    "import matplotlib\n",
    "import ipywidgets as widgets\n",
    "from mpl_interactions import ipyplot as iplt\n",
    "import numpy as np\n",
    "import math\n",
    "matplotlib.use('TkAgg')\n"
   ]
  },
  {
   "cell_type": "code",
   "execution_count": 3,
   "id": "2f54e060",
   "metadata": {},
   "outputs": [],
   "source": [
    "# test: try better baseline correction in python\n",
    "trace_file = 'C:/Users/jjudge3/Desktop/Data/mm_full_pipeline_targets/better_baseline/04-26-24/selected_zda/Traces1.dat'\n",
    "# load trace.dat file\n",
    "def read_dat_trace_file(filename):\n",
    "    data_arr = pd.read_csv(filename,\n",
    "                                 sep='\\t',\n",
    "                                 header=0,\n",
    "                                 names=['Pt',  'ROI1', 'ROI2'])\n",
    "    return data_arr\n",
    "\n",
    "trace = read_dat_trace_file(trace_file)\n",
    "\"\"\"t_complete = np.linspace(0, len(trace['Pt']), len(trace['Pt']))\n",
    "plt.scatter(trace['Pt'], trace['ROI1'], s=2)\n",
    "plt.scatter(trace['Pt'], trace['ROI2'] + 2, s=2)\n",
    "plt.yticks([])\n",
    "plt.show()\"\"\"\n",
    "\n",
    "exclusion_windows = [[100,300], [357, 552]]\n",
    "\n",
    "def fit_polynomial(x, y, t_complete, degree=3):\n",
    "    coefs = polynomial.polyfit(x, y, degree)\n",
    "    y_fit = polynomial.polyval(t_complete, coefs)\n",
    "    return y_fit\n",
    "\n",
    "trace = read_dat_trace_file(trace_file)\n",
    "t_complete = np.linspace(0, len(trace['Pt']), len(trace['Pt']))\n",
    "y = trace['ROI2']\n"
   ]
  },
  {
   "cell_type": "code",
   "execution_count": 4,
   "id": "d7c2ea91",
   "metadata": {
    "slideshow": {
     "slide_type": "skip"
    }
   },
   "outputs": [],
   "source": [
    "\n",
    "def baseline_correct_trace(t_complete, ex1_start, ex1_end, ex2_start, ex2_end, degree):\n",
    "    exclusion_windows = [[int(ex1_start), \n",
    "                          int(ex1_end)], \n",
    "                          [int(ex2_start), \n",
    "                           int(ex2_end)]]\n",
    "    trace_cp = trace.copy()\n",
    "    for ew in exclusion_windows:\n",
    "        trace_cp = trace_cp.drop(trace_cp[(trace_cp['Pt'] >= ew[0]) & \n",
    "                                      (trace_cp['Pt'] <= ew[1])].index)\n",
    "        \n",
    "    print(len(trace_cp))\n",
    "    x = trace_cp['Pt']\n",
    "    y = trace_cp['ROI2']\n",
    "    print(int(degree), exclusion_windows)\n",
    "    y_fit1 = fit_polynomial(x, y, t_complete, int(degree))\n",
    "\n",
    "    trace_cp = trace.copy()\n",
    "    \n",
    "    return trace_cp['ROI2'] - y_fit1\n",
    "\n",
    "def excluded_raw_trace(t_complete, ex1_start, ex1_end, ex2_start, ex2_end, degree):\n",
    "    exclusion_windows = [[int(ex1_start), \n",
    "                          int(ex1_end)], \n",
    "                          [int(ex2_start), \n",
    "                           int(ex2_end)]]\n",
    "    trace_cp = trace.copy()\n",
    "    for ew in exclusion_windows:\n",
    "        trace_cp.loc[(trace_cp['Pt'] >= ew[0]) & \n",
    "                                    (trace_cp['Pt'] <= ew[1]), 'ROI2'] = np.nan\n",
    "    return trace_cp['ROI2']\n",
    "\n",
    "def trace_fit(t_complete, ex1_start, ex1_end, ex2_start, ex2_end, degree):\n",
    "    exclusion_windows = [[int(ex1_start), \n",
    "                          int(ex1_end)], \n",
    "                          [int(ex2_start), \n",
    "                           int(ex2_end)]]\n",
    "    trace_cp = trace.copy()\n",
    "    for ew in exclusion_windows:\n",
    "        trace_cp = trace_cp.drop(trace_cp[(trace_cp['Pt'] >= ew[0]) & \n",
    "                                      (trace_cp['Pt'] <= ew[1])].index)\n",
    "        \n",
    "    print(len(trace_cp))\n",
    "    x = trace_cp['Pt']\n",
    "    y = trace_cp['ROI2']\n",
    "    print(int(degree), exclusion_windows)\n",
    "    y_fit1 = fit_polynomial(x, y, t_complete, int(degree))\n",
    "    \n",
    "    return y_fit1\n",
    "\n",
    "t_complete = np.linspace(0, len(trace['Pt']), len(trace['Pt']))\n",
    "fig, ax = plt.subplots(2, 1, figsize=(6, 9))\n",
    "\n",
    "# exclusion_windows = [[100,300], [357, 552]]\n",
    "ex1_start = np.linspace(100, 350, 200)\n",
    "ex1_end = np.linspace(101, 350, 249)\n",
    "ex2_start = np.linspace(350, 600, 250)\n",
    "ex2_end = np.linspace(351, 600, 249)\n",
    "degree = np.linspace(3, 12, 9)\n",
    "\n"
   ]
  },
  {
   "cell_type": "code",
   "execution_count": 5,
   "id": "351b51f7-22bc-4286-9e75-04b10cd95fd0",
   "metadata": {},
   "outputs": [
    {
     "name": "stdout",
     "output_type": "stream",
     "text": [
      "595\n",
      "3 [[100, 101], [350, 351]]\n",
      "595\n",
      "3 [[100, 101], [350, 351]]\n"
     ]
    },
    {
     "ename": "AttributeError",
     "evalue": "'Controls' object has no attribute 'vbox'",
     "output_type": "error",
     "traceback": [
      "\u001b[1;31m---------------------------------------------------------------------------\u001b[0m",
      "\u001b[1;31mAttributeError\u001b[0m                            Traceback (most recent call last)",
      "File \u001b[1;32m~\\Anaconda3\\envs\\NTP640\\Lib\\site-packages\\IPython\\core\\formatters.py:922\u001b[0m, in \u001b[0;36mIPythonDisplayFormatter.__call__\u001b[1;34m(self, obj)\u001b[0m\n\u001b[0;32m    920\u001b[0m method \u001b[38;5;241m=\u001b[39m get_real_method(obj, \u001b[38;5;28mself\u001b[39m\u001b[38;5;241m.\u001b[39mprint_method)\n\u001b[0;32m    921\u001b[0m \u001b[38;5;28;01mif\u001b[39;00m method \u001b[38;5;129;01mis\u001b[39;00m \u001b[38;5;129;01mnot\u001b[39;00m \u001b[38;5;28;01mNone\u001b[39;00m:\n\u001b[1;32m--> 922\u001b[0m     \u001b[43mmethod\u001b[49m\u001b[43m(\u001b[49m\u001b[43m)\u001b[49m\n\u001b[0;32m    923\u001b[0m     \u001b[38;5;28;01mreturn\u001b[39;00m \u001b[38;5;28;01mTrue\u001b[39;00m\n",
      "File \u001b[1;32m~\\Anaconda3\\envs\\NTP640\\Lib\\site-packages\\mpl_interactions\\controller.py:349\u001b[0m, in \u001b[0;36mControls._ipython_display_\u001b[1;34m(self)\u001b[0m\n\u001b[0;32m    348\u001b[0m \u001b[38;5;28;01mdef\u001b[39;00m \u001b[38;5;21m_ipython_display_\u001b[39m(\u001b[38;5;28mself\u001b[39m):\n\u001b[1;32m--> 349\u001b[0m     ipy_display(\u001b[38;5;28;43mself\u001b[39;49m\u001b[38;5;241;43m.\u001b[39;49m\u001b[43mvbox\u001b[49m)\n",
      "\u001b[1;31mAttributeError\u001b[0m: 'Controls' object has no attribute 'vbox'"
     ]
    },
    {
     "data": {
      "text/plain": [
       "<mpl_interactions.controller.Controls at 0x1f1e149f1a0>"
      ]
     },
     "execution_count": 5,
     "metadata": {},
     "output_type": "execute_result"
    }
   ],
   "source": [
    "controls = iplt.plot(t_complete, baseline_correct_trace, \n",
    "                     ex1_start=ex1_start, \n",
    "                     ex1_end=ex1_end, \n",
    "                     ex2_start=ex2_start, \n",
    "                     ex2_end=ex2_end, \n",
    "                     degree=degree,\n",
    "                     ax=ax[0])\n",
    "iplt.plot(t_complete, excluded_raw_trace, 'tab:blue', \n",
    "                    controls=controls,\n",
    "                    ax=ax[1])\n",
    "iplt.plot(t_complete, trace_fit, 'black', \n",
    "                    controls=controls,\n",
    "                    ax=ax[1])"
   ]
  },
  {
   "cell_type": "code",
   "execution_count": null,
   "id": "3510f08f-7218-423f-a6fd-6c3ac73f70c2",
   "metadata": {},
   "outputs": [],
   "source": []
  }
 ],
 "metadata": {
  "celltoolbar": "Slideshow",
  "kernelspec": {
   "display_name": "Python 3 (ipykernel)",
   "language": "python",
   "name": "python3"
  },
  "language_info": {
   "codemirror_mode": {
    "name": "ipython",
    "version": 3
   },
   "file_extension": ".py",
   "mimetype": "text/x-python",
   "name": "python",
   "nbconvert_exporter": "python",
   "pygments_lexer": "ipython3",
   "version": "3.12.1"
  }
 },
 "nbformat": 4,
 "nbformat_minor": 5
}
