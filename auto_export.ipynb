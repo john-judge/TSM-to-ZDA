{
 "cells": [
  {
   "cell_type": "code",
   "execution_count": 4,
   "id": "c09ee3bd",
   "metadata": {},
   "outputs": [],
   "source": [
    "from lib.auto_GUI.auto_DAT import AutoDAT"
   ]
  },
  {
   "cell_type": "code",
   "execution_count": 5,
   "id": "9a09d91a",
   "metadata": {},
   "outputs": [
    {
     "name": "stdout",
     "output_type": "stream",
     "text": [
      "['01_01_01.zda', '01_01_02.zda', '01_01_03.zda', '01_01_04.zda', '01_01_05.zda', '01_01_06.zda', '01_01_07.zda', '01_01_08.zda', '01_01_09.zda', '02_01_01.zda', '02_01_02.zda', '02_01_03.zda', '02_01_04.zda', '02_01_05.zda', '02_01_06.zda', '02_01_07.zda', '03_01_01.zda', '03_01_02.zda', '03_01_03.zda', '03_01_04.zda', '03_01_05.zda', '03_01_06.zda', 'nostim_SNR01_01_01.dat', 'nostim_SNR01_01_02.dat', 'nostim_SNR01_01_03.dat', 'nostim_SNR01_01_04.dat', 'nostim_SNR01_01_05.dat', 'nostim_SNR01_01_06.dat', 'nostim_SNR01_01_07.dat', 'nostim_SNR01_01_08.dat', 'nostim_SNR01_01_09.dat', 'nostim_SNR02_01_01.dat', 'nostim_SNR02_01_02.dat', 'nostim_SNR02_01_03.dat', 'nostim_SNR02_01_04.dat', 'nostim_SNR02_01_05.dat', 'nostim_SNR02_01_06.dat', 'nostim_SNR02_01_07.dat', 'nostim_SNR03_01_01.dat', 'nostim_SNR03_01_02.dat', 'nostim_SNR03_01_03.dat', 'nostim_SNR03_01_04.dat', 'nostim_SNR03_01_05.dat', 'nostim_SNR03_01_06.dat', 'SNR01_01_01.dat', 'SNR01_01_02.dat', 'SNR01_01_03.dat', 'SNR01_01_04.dat', 'SNR01_01_05.dat', 'SNR01_01_06.dat', 'SNR01_01_07.dat', 'SNR01_01_08.dat', 'SNR01_01_09.dat', 'SNR02_01_01.dat', 'SNR02_01_02.dat', 'SNR02_01_03.dat', 'SNR02_01_04.dat', 'SNR02_01_05.dat', 'SNR02_01_06.dat', 'SNR02_01_07.dat', 'SNR03_01_01.dat', 'SNR03_01_02.dat', 'SNR03_01_03.dat', 'SNR03_01_04.dat', 'SNR03_01_05.dat', 'SNR03_01_06.dat']\n",
      "saving Slice 1 Location 1 Record 1\n",
      "saving Slice 1 Location 1 Record 2\n",
      "saving Slice 1 Location 1 Record 3\n",
      "saving Slice 1 Location 1 Record 4\n",
      "saving Slice 1 Location 1 Record 5\n",
      "saving Slice 1 Location 1 Record 6\n",
      "saving Slice 1 Location 1 Record 7\n",
      "saving Slice 1 Location 1 Record 8\n",
      "saving Slice 1 Location 1 Record 9\n",
      "saving Slice 2 Location 1 Record 1\n",
      "saving Slice 2 Location 1 Record 2\n",
      "saving Slice 2 Location 1 Record 3\n",
      "saving Slice 2 Location 1 Record 4\n",
      "saving Slice 2 Location 1 Record 5\n",
      "saving Slice 2 Location 1 Record 6\n",
      "saving Slice 2 Location 1 Record 7\n",
      "saving Slice 3 Location 1 Record 1\n",
      "saving Slice 3 Location 1 Record 2\n",
      "saving Slice 3 Location 1 Record 3\n",
      "saving Slice 3 Location 1 Record 4\n",
      "saving Slice 3 Location 1 Record 5\n",
      "saving Slice 3 Location 1 Record 6\n"
     ]
    }
   ],
   "source": [
    "datadir = './tsm_targets/06-06-22'\n",
    "datadir = \"C:/Users/jjudge3/Desktop/Data/06-21-22/converted_zda/\"\n",
    "ad = AutoDAT(datadir, \n",
    "             processing_sleep_time=4,  # sleep time must be ample for PhotoZ's file-open + processing\n",
    "             file_prefix=\"Amp\") \n",
    "\n",
    "ad.save_all_background_data()"
   ]
  },
  {
   "cell_type": "code",
   "execution_count": 6,
   "id": "165a4167",
   "metadata": {},
   "outputs": [],
   "source": [
    "\n",
    "#with pyautogui.hold('shift'):  # Press the Shift key down and hold it.\n",
    "#    pyautogui.press(['left', 'left', 'left', 'left'])  # Press the left arrow key 4 times."
   ]
  }
 ],
 "metadata": {
  "kernelspec": {
   "display_name": "Python 3",
   "language": "python",
   "name": "python3"
  },
  "language_info": {
   "codemirror_mode": {
    "name": "ipython",
    "version": 3
   },
   "file_extension": ".py",
   "mimetype": "text/x-python",
   "name": "python",
   "nbconvert_exporter": "python",
   "pygments_lexer": "ipython3",
   "version": "3.9.4"
  }
 },
 "nbformat": 4,
 "nbformat_minor": 5
}
