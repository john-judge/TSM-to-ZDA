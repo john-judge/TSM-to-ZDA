{
 "cells": [
  {
   "cell_type": "code",
   "execution_count": 7,
   "id": "a6c24dc0",
   "metadata": {},
   "outputs": [],
   "source": [
    "from docx import Document"
   ]
  },
  {
   "cell_type": "code",
   "execution_count": 8,
   "id": "db04bd2d",
   "metadata": {},
   "outputs": [],
   "source": [
    "# check if each reference in the references document is present in the paper document\n",
    "reference_docx = 'P:/John/crossing-paper/barrel-references v2.docx'\n",
    "ref_doc = Document(reference_docx)\n",
    "\n",
    "paper_docx = 'P:/John/crossing-paper/barrel-paper v6.docx'\n",
    "paper_doc = Document(paper_docx)\n",
    "\n",
    "#disc_docx = 'P:/John/crossing-paper/barrel-discussion v6.docx'\n",
    "#disc_doc = Document(disc_docx)\n"
   ]
  },
  {
   "cell_type": "code",
   "execution_count": 11,
   "id": "402d588f",
   "metadata": {},
   "outputs": [
    {
     "name": "stdout",
     "output_type": "stream",
     "text": [
      "Not cited: 'Lazic, S.E. The problem of pseudoreplication in neuroscientific studies: is it affecting your analysis?. BMC Neurosci 11, 5 (2010). https://doi.org/10.1186/1471-2202-11-5'\n",
      "Not cited: 'Chelaru MI, Dragoi V. Asymmetric synaptic depression in cortical networks. Cereb Cortex. 2008 Apr;18(4):771-88.'\n",
      "Not cited: 'Civillico EF, Contreras D. Comparison of responses to electrical stimulation and whisker deflection using two different voltage-sensitive dyes in mouse barrel cortex in vivo. J Membr Biol. 2005 Nov;208(2):171-82.'\n",
      "Not cited: 'Sachdev RNS, Krause MR, Mazer JA. Surround suppression and sparse coding in visual and barrel cortices. Front. Neural Circuits, 04 July 2012;6.'\n",
      "Not cited: 'Bruno RM, Simons DJ. Feedforward mechanisms of excitatory and inhibitory cortical receptive fields. J Neurosci. 2002 Dec 15;22(24):10966-75.'\n",
      "Total references not found: 5 of 114\n"
     ]
    }
   ],
   "source": [
    "# for each reference, check that it is in the paper. Print the reference if it is not found.\n",
    "n_not_found = 0\n",
    "for para in ref_doc.paragraphs:\n",
    "    if para.text:\n",
    "        ref = para.text.split()[0].replace(',', '').strip()\n",
    "        found = False\n",
    "        for paper_para in paper_doc.paragraphs:\n",
    "            if ref in paper_para.text:\n",
    "                found = True\n",
    "                break\n",
    "        #if not found:\n",
    "        #for disc_para in disc_doc.paragraphs:\n",
    "        #    if ref in disc_para.text:\n",
    "        #        #print(f\"Found in discussion: '{ref}'\")\n",
    "        #        found = True\n",
    "        #        break\n",
    "        if not found:\n",
    "            print(f\"Not cited: '{para.text}'\")\n",
    "            n_not_found += 1\n",
    "\n",
    "print(f\"Total references not found: {n_not_found} of {len(ref_doc.paragraphs)}\" )\n"
   ]
  },
  {
   "cell_type": "code",
   "execution_count": 13,
   "id": "0cdb0c60",
   "metadata": {},
   "outputs": [
    {
     "name": "stdout",
     "output_type": "stream",
     "text": [
      "Total citations not found: 0 of 222\n"
     ]
    }
   ],
   "source": [
    "\n",
    "# look through the paper and discussion documents,\n",
    "# parse any citations from the paragraph and \n",
    "# then check they are in references\n",
    "# references in the format (Author, Year) or (Author and Author2, Year) or (Author et. al., Year)\n",
    "#  or a concatenation of any of these (Author, Year; Author et. al., Year)\n",
    "# there may be multiple citations in a single paragraph\n",
    "\n",
    "n_not_found = 0\n",
    "\n",
    "for para in paper_doc.paragraphs: # + disc_doc.paragraphs:\n",
    "    # find all \"(\" and \")\" pairs and parse the text between them\n",
    "    start = 0\n",
    "    while True:\n",
    "        start = para.text.find('(', start)\n",
    "        if start == -1:\n",
    "            break\n",
    "        end = para.text.find(')', start)\n",
    "        if end == -1:\n",
    "            break\n",
    "        citation = para.text[start+1:end]\n",
    "        # must have from 2 to 4 words in the citation\n",
    "        if not (2 <= len(citation.split()) <= 4):\n",
    "            start = end + 1\n",
    "            continue\n",
    "        # split by semicolon to get multiple citations\n",
    "        citations = [c.strip() for c in citation.split(';')]\n",
    "        for c in citations:\n",
    "            # must contain a year, which is a 4-digit number, as the last part of the citation\n",
    "            last_word = c.split()[-1]\n",
    "            if not last_word.isdigit() or len(last_word) != 4:\n",
    "                continue\n",
    "            # check if this citation is in the reference document\n",
    "            found = False\n",
    "            # there is a match if each word other than \"and\", \"et\", or \"al\" is found in any of the reference paragraphs\n",
    "            c_words = c.replace('and', '').replace(' et.', '').replace(' al.', '').split()\n",
    "            # strip ., and any other punctuation from the words\n",
    "            c_words = [word.strip('.,') for word in c_words if word.strip('.,')]\n",
    "            if not c_words:\n",
    "                continue\n",
    "            # check each word in the citation\n",
    "            found = all([any((word.strip('.,') in ref_para.text) for ref_para in ref_doc.paragraphs) for word in c_words])  # remove punctuation from words\n",
    "\n",
    "            # if all words were found, then the citation is valid\n",
    "            if not found:\n",
    "                print(f\"Not cited: '{c}' in paragraph: '{para.text}'\")\n",
    "                print(\"\\t keywords contained: \", c_words)\n",
    "                n_not_found += 1\n",
    "        start = end + 1\n",
    "\n",
    "print(f\"Total citations not found: {n_not_found} of {len(paper_doc.paragraphs)}\")\n"
   ]
  },
  {
   "cell_type": "code",
   "execution_count": null,
   "id": "1853d1c3",
   "metadata": {},
   "outputs": [],
   "source": [
    "# open a text file and check for duplicate references\n",
    "text_file = 'C:/Users/jjudge3/Downloads/barrel-references.txt'\n",
    "with open(text_file, 'r') as f:\n",
    "    lines = f.readlines()\n",
    "\n",
    "for i in range(10):\n",
    "    \n",
    "    lines = [line.strip() for line in lines if line.strip()]  # remove empty lines and strip whitespace\n",
    "    # remove first word from each line\n",
    "    lines = [line.split(' ', 1)[-1] for line in lines]\n",
    "    unique_lines = set(lines)  # use a set to find unique lines\n",
    "    if len(unique_lines) < len(lines):\n",
    "        print(\"\\n\\n Trial\", i)\n",
    "        print(f\"Found {len(lines) - len(unique_lines)} duplicate lines.\")\n",
    "\n",
    "        # print the duplicate lines\n",
    "        duplicates = set([line for line in lines if lines.count(line) > 1])\n",
    "        print(\"Duplicate lines:\")\n",
    "        for dup in duplicates:\n",
    "            print(dup)"
   ]
  }
 ],
 "metadata": {
  "kernelspec": {
   "display_name": "reference_check",
   "language": "python",
   "name": "python3"
  },
  "language_info": {
   "codemirror_mode": {
    "name": "ipython",
    "version": 3
   },
   "file_extension": ".py",
   "mimetype": "text/x-python",
   "name": "python",
   "nbconvert_exporter": "python",
   "pygments_lexer": "ipython3",
   "version": "3.13.2"
  }
 },
 "nbformat": 4,
 "nbformat_minor": 5
}
