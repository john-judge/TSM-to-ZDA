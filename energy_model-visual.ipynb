{
 "cells": [
  {
   "cell_type": "code",
   "execution_count": 6,
   "id": "ca85c235",
   "metadata": {},
   "outputs": [],
   "source": [
    "import time\n",
    "import os\n",
    "import math\n",
    "import numpy as np\n",
    "import cv2\n",
    "import pandas as pd\n",
    "import pyautogui as pa\n",
    "from scipy.stats import binom_test\n",
    "from scipy.ndimage import convolve\n",
    "import matplotlib.pyplot as plt\n",
    "from matplotlib.markers import TICKDOWN\n",
    "import matplotlib\n",
    "import datetime\n",
    "from scipy.stats import norm\n",
    "import imageio\n",
    "from matplotlib.gridspec import GridSpec\n",
    "\n",
    "from lib.analysis.laminar_dist import Line"
   ]
  },
  {
   "cell_type": "code",
   "execution_count": 7,
   "id": "90d0e9e3",
   "metadata": {},
   "outputs": [
    {
     "name": "stdout",
     "output_type": "stream",
     "text": [
      "3.508771929824561 2.4390243902439024\n"
     ]
    }
   ],
   "source": [
    "# intralaminar PV velocities over barrels of size 100-300 um\n",
    "barrel_latency_PV = 200 / 57  # ms\n",
    "barrel_latency_PV_se = 100 / 41\n",
    "# Katherine S Scheuer, John M Judge, Xinyu Zhao, Meyer B Jackson, Velocity of conduction between columns and layers in barrel cortex reported by parvalbumin interneurons, Cerebral Cortex 33:17, 1 Sept 2023, p 9917–9926\n",
    "print(barrel_latency_PV, barrel_latency_PV_se)"
   ]
  },
  {
   "cell_type": "code",
   "execution_count": 8,
   "id": "50750498",
   "metadata": {},
   "outputs": [],
   "source": [
    "barrel_latency_PV_excitatory_L4 = 1.028032\n",
    "barrel_latency_PV_excitatory_L4_se = 1.0011922707332492"
   ]
  },
  {
   "cell_type": "code",
   "execution_count": 9,
   "id": "d9a20a55",
   "metadata": {},
   "outputs": [
    {
     "data": {
      "image/png": "[encoded data removed]",
      "text/plain": [
       "<Figure size 432x288 with 1 Axes>"
      ]
     },
     "metadata": {
      "needs_background": "light"
     },
     "output_type": "display_data"
    }
   ],
   "source": [
    "# from http://www.georgemather.com/Model.html#Refs\n",
    "\n",
    "# Define the space axis of the filters\n",
    "nx = 80  # Number of spatial samples in the filter\n",
    "max_x = 2.0  # Half-width of filter (deg)\n",
    "dx = (max_x * 2) / nx  # Spatial sampling interval of filter (deg)\n",
    "\n",
    "# A row vector holding spatial sampling intervals\n",
    "x_filt = np.linspace(-max_x, max_x, nx)\n",
    "\n",
    "# Spatial filter parameters\n",
    "sx = 0.5 # standard deviation of Gaussian, in deg.\n",
    "sf = 1.1 # spatial frequency of carrier, in cpd\n",
    "\n",
    "# Spatial filter response\n",
    "gauss = np.exp(-x_filt ** 2 / sx ** 2)  # Gaussian envelope\n",
    "even_x = np.cos(2 * np.pi * sf * x_filt) * gauss  # Even Gabor\n",
    "odd_x = np.sin(2 * np.pi * sf * x_filt) * gauss  # Odd Gabor\n",
    "\n",
    "# Define the time axis of the filters\n",
    "nt = 100  # number temporal samples in the filter\n",
    "max_t = 0.5  # Duration of impulse response (sec)\n",
    "dt = max_t / nt  #Temporal sampling interval (sec)\n",
    "\n",
    "# temporal sampling intervals\n",
    "t_filt = np.linspace(0, max_t, nt)\n",
    "\n",
    "# Temporal filter parameters\n",
    "k = 100 # Scales the response into time units\n",
    "slow_n = 30 # Width of the slow temporal filter\n",
    "fast_n = 15 # Width of the fast temporal filter\n",
    "beta = 0.9 # Weighting of  -ve phase of the temporal resp relative to +ve phase.\n",
    "\n",
    "# Temporal filter response\n",
    "slow_t = (k * t_filt) ** slow_n * np.exp(-k * t_filt) * (1 / np.math.factorial(slow_n) - beta * ((k * t_filt) ** 2) / np.math.factorial(slow_n + 2))\n",
    "fast_t = (k * t_filt) ** fast_n * np.exp(-k * t_filt) * (1 / np.math.factorial(fast_n) - beta * ((k * t_filt) ** 2) / np.math.factorial(fast_n + 2))\n",
    "\n",
    "#plt.plot(slow_t, label=\"Slow temporal RF\")\n",
    "plt.plot(fast_t, label=\"Fast temporal RF\")\n",
    "plt.xlabel(\"Time (ms)\")\n",
    "plt.title(\"Timing of receptive field response phases\")\n",
    "plt.yticks([])\n",
    "#plt.legend(bbox_to_anchor=(0.68, 0.65), loc='upper center')\n",
    "#plt.annotate(\"EPSPs\", xy=(5.08, 0.2))\n",
    "#plt.annotate(\"IPSPs\", xy=(10.08, -0.01))\n",
    "ax = plt.gca()\n",
    "# ax.set_xlim([0, 40])"
   ]
  },
  {
   "cell_type": "code",
   "execution_count": 10,
   "id": "61c3b468",
   "metadata": {
    "scrolled": true
   },
   "outputs": [
    {
     "ename": "NameError",
     "evalue": "name 'slow_t' is not defined",
     "output_type": "error",
     "traceback": [
      "\u001b[1;31m---------------------------------------------------------------------------\u001b[0m",
      "\u001b[1;31mNameError\u001b[0m                                 Traceback (most recent call last)",
      "\u001b[1;32m<ipython-input-10-e7d2d0809651>\u001b[0m in \u001b[0;36m<module>\u001b[1;34m\u001b[0m\n\u001b[0;32m      1\u001b[0m \u001b[1;31m# spatiotemporal filters (matrices)\u001b[0m\u001b[1;33m\u001b[0m\u001b[1;33m\u001b[0m\u001b[1;33m\u001b[0m\u001b[0m\n\u001b[1;32m----> 2\u001b[1;33m \u001b[0me_slow\u001b[0m \u001b[1;33m=\u001b[0m \u001b[0mslow_t\u001b[0m\u001b[1;33m.\u001b[0m\u001b[0mreshape\u001b[0m\u001b[1;33m(\u001b[0m\u001b[1;33m-\u001b[0m\u001b[1;36m1\u001b[0m\u001b[1;33m,\u001b[0m \u001b[1;36m1\u001b[0m\u001b[1;33m)\u001b[0m \u001b[1;33m@\u001b[0m \u001b[0mnp\u001b[0m\u001b[1;33m.\u001b[0m\u001b[0mtranspose\u001b[0m\u001b[1;33m(\u001b[0m\u001b[0meven_x\u001b[0m\u001b[1;33m)\u001b[0m\u001b[1;33m.\u001b[0m\u001b[0mreshape\u001b[0m\u001b[1;33m(\u001b[0m\u001b[1;36m1\u001b[0m\u001b[1;33m,\u001b[0m \u001b[1;33m-\u001b[0m\u001b[1;36m1\u001b[0m\u001b[1;33m)\u001b[0m  \u001b[1;31m# SE/TS\u001b[0m\u001b[1;33m\u001b[0m\u001b[1;33m\u001b[0m\u001b[0m\n\u001b[0m\u001b[0;32m      3\u001b[0m \u001b[0me_fast\u001b[0m \u001b[1;33m=\u001b[0m \u001b[0mfast_t\u001b[0m\u001b[1;33m.\u001b[0m\u001b[0mreshape\u001b[0m\u001b[1;33m(\u001b[0m\u001b[1;33m-\u001b[0m\u001b[1;36m1\u001b[0m\u001b[1;33m,\u001b[0m \u001b[1;36m1\u001b[0m\u001b[1;33m)\u001b[0m \u001b[1;33m@\u001b[0m \u001b[0mnp\u001b[0m\u001b[1;33m.\u001b[0m\u001b[0mtranspose\u001b[0m\u001b[1;33m(\u001b[0m\u001b[0meven_x\u001b[0m\u001b[1;33m)\u001b[0m\u001b[1;33m.\u001b[0m\u001b[0mreshape\u001b[0m\u001b[1;33m(\u001b[0m\u001b[1;36m1\u001b[0m\u001b[1;33m,\u001b[0m \u001b[1;33m-\u001b[0m\u001b[1;36m1\u001b[0m\u001b[1;33m)\u001b[0m   \u001b[1;31m# SE/TF\u001b[0m\u001b[1;33m\u001b[0m\u001b[1;33m\u001b[0m\u001b[0m\n\u001b[0;32m      4\u001b[0m \u001b[0mo_slow\u001b[0m \u001b[1;33m=\u001b[0m \u001b[0mslow_t\u001b[0m\u001b[1;33m.\u001b[0m\u001b[0mreshape\u001b[0m\u001b[1;33m(\u001b[0m\u001b[1;33m-\u001b[0m\u001b[1;36m1\u001b[0m\u001b[1;33m,\u001b[0m \u001b[1;36m1\u001b[0m\u001b[1;33m)\u001b[0m \u001b[1;33m@\u001b[0m \u001b[0mnp\u001b[0m\u001b[1;33m.\u001b[0m\u001b[0mtranspose\u001b[0m\u001b[1;33m(\u001b[0m\u001b[0modd_x\u001b[0m\u001b[1;33m)\u001b[0m\u001b[1;33m.\u001b[0m\u001b[0mreshape\u001b[0m\u001b[1;33m(\u001b[0m\u001b[1;36m1\u001b[0m\u001b[1;33m,\u001b[0m \u001b[1;33m-\u001b[0m\u001b[1;36m1\u001b[0m\u001b[1;33m)\u001b[0m   \u001b[1;31m# SO/TS\u001b[0m\u001b[1;33m\u001b[0m\u001b[1;33m\u001b[0m\u001b[0m\n\u001b[0;32m      5\u001b[0m \u001b[0mo_fast\u001b[0m \u001b[1;33m=\u001b[0m \u001b[0mfast_t\u001b[0m\u001b[1;33m.\u001b[0m\u001b[0mreshape\u001b[0m\u001b[1;33m(\u001b[0m\u001b[1;33m-\u001b[0m\u001b[1;36m1\u001b[0m\u001b[1;33m,\u001b[0m \u001b[1;36m1\u001b[0m\u001b[1;33m)\u001b[0m \u001b[1;33m@\u001b[0m \u001b[0mnp\u001b[0m\u001b[1;33m.\u001b[0m\u001b[0mtranspose\u001b[0m\u001b[1;33m(\u001b[0m\u001b[0modd_x\u001b[0m\u001b[1;33m)\u001b[0m\u001b[1;33m.\u001b[0m\u001b[0mreshape\u001b[0m\u001b[1;33m(\u001b[0m\u001b[1;36m1\u001b[0m\u001b[1;33m,\u001b[0m \u001b[1;33m-\u001b[0m\u001b[1;36m1\u001b[0m\u001b[1;33m)\u001b[0m   \u001b[1;31m# SO/TF\u001b[0m\u001b[1;33m\u001b[0m\u001b[1;33m\u001b[0m\u001b[0m\n",
      "\u001b[1;31mNameError\u001b[0m: name 'slow_t' is not defined"
     ]
    }
   ],
   "source": [
    "# spatiotemporal filters (matrices)\n",
    "e_slow = slow_t.reshape(-1, 1) @ np.transpose(even_x).reshape(1, -1)  # SE/TS\n",
    "e_fast = fast_t.reshape(-1, 1) @ np.transpose(even_x).reshape(1, -1)   # SE/TF\n",
    "o_slow = slow_t.reshape(-1, 1) @ np.transpose(odd_x).reshape(1, -1)   # SO/TS\n",
    "o_fast = fast_t.reshape(-1, 1) @ np.transpose(odd_x).reshape(1, -1)   # SO/TF\n",
    "\n",
    "# Spatiotemporally oriented filters\n",
    "left_1 = o_fast + e_slow  # L1\n",
    "left_2 = -o_slow + e_fast  # L2\n",
    "right_1 = -o_fast + e_slow  # R1\n",
    "right_2 = o_slow + e_fast  # R2\n",
    "\n",
    "#for im in [left_1, left_2, right_1, right_2]:\n",
    "#    plt.imshow(im)\n",
    "#    ax = plt.gca()\n",
    "#    ax.set_xlim([20, 60])\n",
    "#    ax.set_ylim([0, 20])\n",
    "#    plt.show()"
   ]
  },
  {
   "cell_type": "code",
   "execution_count": null,
   "id": "26b62530",
   "metadata": {},
   "outputs": [],
   "source": [
    "# visualize filters\n",
    "matplotlib.rc ('figure', figsize= (5.3, 5.3))\n",
    "plt.imshow(np.transpose(left_1).astype(np.float32))\n",
    "ax = plt.gca()\n",
    "ax.set_xlim([0, 40])\n",
    "ax.set_ylim([20, 60])\n",
    "ax.set_aspect(2/5)\n",
    "plt.ylabel(\"Spatial axis (um)\")\n",
    "plt.xlabel(\"Temporal axis (ms)\")\n",
    "# plt.imshow(left_1)"
   ]
  },
  {
   "cell_type": "code",
   "execution_count": null,
   "id": "bdc0a1a2",
   "metadata": {
    "scrolled": true
   },
   "outputs": [],
   "source": [
    "plt.plot(odd_x, label=\"Odd spatial RF\")\n",
    "plt.plot(even_x, label=\"Even spatial RF\")\n",
    "plt.xlabel(\"Spatial axis\")\n",
    "plt.title(\"Spatial receptive fields\")\n",
    "plt.yticks([])\n",
    "plt.legend(bbox_to_anchor=(0.68, 0.65), loc='upper center')\n",
    "plt.show()"
   ]
  },
  {
   "cell_type": "code",
   "execution_count": null,
   "id": "bbb0b00c",
   "metadata": {},
   "outputs": [],
   "source": [
    "stim_width=4  # half width in degrees, gives 8 degrees total\n",
    "stim_dur=1.5  # total duration of the stimulus in seconds"
   ]
  },
  {
   "cell_type": "code",
   "execution_count": null,
   "id": "1889a41f",
   "metadata": {},
   "outputs": [],
   "source": [
    "stim = np.genfromtxt('M_tab.txt', dtype=None, delimiter='\\t')\n",
    "\n",
    "# Rightward responses to stim\n",
    "resp_right_1 = convolve(stim, right_1)\n",
    "resp_right_2 = convolve(stim, right_2)\n",
    "\n",
    "# Leftward responses\n",
    "resp_left_1 = convolve(stim, left_1)\n",
    "resp_left_2 = convolve(stim, left_2)"
   ]
  },
  {
   "cell_type": "code",
   "execution_count": null,
   "id": "5653359f",
   "metadata": {},
   "outputs": [],
   "source": [
    "# square and normalize\n",
    "resp_left_1 = resp_left_1 ** 2\n",
    "resp_left_2 = resp_left_2  ** 2\n",
    "resp_right_1 = resp_right_1 ** 2\n",
    "resp_right_2 = resp_right_2 ** 2\n",
    "\n",
    "# Calc left and right energy\n",
    "energy_right = resp_right_1 + resp_right_2\n",
    "energy_left = resp_left_1 + resp_left_2\n",
    "\n",
    "# Calc total energy\n",
    "total_energy = sum(sum(energy_right))+sum(sum(energy_left))\n",
    "\n",
    "# Normalise\n",
    "RR1 = sum(sum(resp_right_1)) / total_energy\n",
    "RR2 = sum(sum(resp_right_2)) / total_energy\n",
    "LR1 = sum(sum(resp_left_1)) / total_energy\n",
    "LR2 = sum(sum(resp_left_2)) / total_energy\n",
    "\n",
    "# directional energy\n",
    "right_Total = RR1 + RR2\n",
    "left_Total = LR1 + LR2\n",
    "\n",
    "# net motion energy\n",
    "motion_energy = right_Total - left_Total;\n",
    "print('Net motion energy =', motion_energy)"
   ]
  },
  {
   "cell_type": "code",
   "execution_count": null,
   "id": "b9d44295",
   "metadata": {},
   "outputs": [],
   "source": [
    "# Generate motion contrast matrix\n",
    "energy_opponent = energy_right - energy_left  # L-R difference matrix\n",
    "energy_flicker = total_energy / (energy_left.shape[0] * energy_left.shape[1])  # A value for average total energy\n",
    "\n",
    "# Re-scale L-R matrix using average energy.\n",
    "motion_contrast = energy_opponent / energy_flicker\n",
    "plt.imshow(np.transpose(stim))\n",
    "plt.title(\"Example Stimulus\")\n",
    "plt.ylabel(\"Spatial axis (um)\")\n",
    "plt.xticks([])\n",
    "plt.show()\n",
    "plt.imshow(np.transpose(motion_contrast))\n",
    "plt.title(\"Energy motion response\")\n",
    "plt.ylabel(\"Spatial axis (um)\")\n",
    "plt.xlabel(\"Time axis (ms)\")"
   ]
  }
 ],
 "metadata": {
  "kernelspec": {
   "display_name": "Python 3",
   "language": "python",
   "name": "python3"
  },
  "language_info": {
   "codemirror_mode": {
    "name": "ipython",
    "version": 3
   },
   "file_extension": ".py",
   "mimetype": "text/x-python",
   "name": "python",
   "nbconvert_exporter": "python",
   "pygments_lexer": "ipython3",
   "version": "3.9.4"
  }
 },
 "nbformat": 4,
 "nbformat_minor": 5
}
